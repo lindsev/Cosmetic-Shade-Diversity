{
 "cells": [
  {
   "cell_type": "markdown",
   "source": [
    "# Foundation Shade Diversity"
   ],
   "metadata": {
    "cell_id": "dea50a85adce443584ffb42b3efa546f",
    "deepnote_cell_type": "markdown"
   }
  },
  {
   "cell_type": "markdown",
   "source": [
    "## Table of Contents\n",
    "\n",
    "1. [**Introduction**](Introduction)\n",
    "    - Project Description\n",
    "    - Data Description\n",
    "2. [**Acquiring and Loading Data**](#2)\n",
    "\t- Importing Libraries and Notebook Setup\n",
    "    - Loading Data\n",
    "    - Basic Data Exploration\n",
    "    - Areas to Fix\n",
    "3. [**Data Proprocessing**](#3)\n",
    "4. [**Data Analysis**](#4)\n",
    "5. [**Conclusion**](#5)\n",
    "    - Insights\n",
    "    - Suggestions\n",
    "    - Possible Next Steps\n",
    "6. [**Epilogue**](#6) \n",
    "    - References\n",
    "    - Versioning"
   ],
   "metadata": {
    "cell_id": "e33a18bf99fb45fd9732a2c0f40a47ef",
    "deepnote_cell_type": "markdown"
   }
  },
  {
   "cell_type": "markdown",
   "source": [
    "## Introduction\n",
    "\n",
    "### Project Description\n",
    "\n",
    "**Goal/Purpose:** \n",
    "\n",
    "In this EDA notebook, we aim to explore the diversity of foundation shades in makeup products. We will analyze a dataset of makeup products and their corresponding shades to gain insights into the range and inclusivity of shades offered by different brands. By visualizing the data and conducting statistical analyses, we seek to provide a comprehensive understanding of foundation shade diversity in the cosmetics industry.\n",
    "<p>&nbsp;</p>\n",
    "\n",
    "**Questions to be Answered:**\n",
    "\n",
    "1. What is the distribution of foundation shades across different brands and product lines?\n",
    "    - Are some brands more diverse in their shade offerings compared to others?\n",
    "2. How does foundation shade diversity vary across price points and product types?\n",
    "    - Do high-end brands offer a wider range of shades compared to budget-friendly brands?\n",
    "3. Is there evidence of inclusivity in foundation shades for various skin tones?\n",
    "    - What is the representation of shades for fair, medium, and dark skin tones?\n",
    "    - Are there gaps in shade options for specific skin tones, and if so, which brands are addressing these gaps?\n",
    "\n",
    " \n",
    "\n",
    "<p>&nbsp;</p>\n",
    "\n",
    "**Assumptions/Methodology/Scope:** \n",
    "\n",
    "Briefly describe assumptions, processing steps, and the scope of this project.\n",
    "\n",
    "<p>&nbsp;</p>\n",
    "\n",
    "### Data Description\n",
    "\n",
    "**Content:** \n",
    "\n",
    "This dataset is a _(filetype) file of _(how many) data points which contains ___. \n",
    "\n",
    "<p>&nbsp;</p>\n",
    "\n",
    "**Description of Attributes:** \n",
    "\n",
    "\n",
    "\n",
    "| Column  | Description |\n",
    "| :------ | :---------- |\n",
    "| column1 | description1 |\n",
    "\n",
    "<p>&nbsp;</p>\n",
    "\n",
    "**Acknowledgements:** \n",
    "\n",
    "This dataset is provided by _(. The original dataset was scraped by _) and the original source can be found on [website](https://website.link)."
   ],
   "metadata": {
    "collapsed": false
   }
  },
  {
   "cell_type": "markdown",
   "source": [
    "---"
   ],
   "metadata": {
    "cell_id": "902dd7f04d87465ebaa929248fbc8aae",
    "deepnote_cell_type": "markdown"
   }
  },
  {
   "cell_type": "markdown",
   "source": [
    "# 2"
   ],
   "metadata": {
    "cell_id": "8fa36344d6a84f0390d36693adb9255b",
    "deepnote_cell_type": "markdown"
   }
  },
  {
   "cell_type": "markdown",
   "source": [
    "## Acquiring and Loading Data\n",
    "### Importing Libraries and Notebook Setup"
   ],
   "metadata": {
    "cell_id": "66ecdc87fd09411e988c940de5fe5003",
    "deepnote_cell_type": "markdown"
   }
  },
  {
   "cell_type": "code",
   "source": [
    "# Data manipulation\n",
    "import numpy as np\n",
    "import pandas as pd\n",
    "\n",
    "# Visualizations\n",
    "import plotly.express as px\n"
   ],
   "metadata": {
    "cell_id": "7652fdf0134f4d6091689d0ca0fdf2e5",
    "source_hash": "ab774905",
    "execution_start": 1684082032937,
    "execution_millis": 1489,
    "deepnote_to_be_reexecuted": false,
    "deepnote_cell_type": "code",
    "ExecuteTime": {
     "end_time": "2023-11-08T14:58:52.444308500Z",
     "start_time": "2023-11-08T14:58:51.383193200Z"
    }
   },
   "outputs": [],
   "execution_count": 1
  },
  {
   "cell_type": "markdown",
   "source": [
    "### Loading Data"
   ],
   "metadata": {
    "cell_id": "5a64877afc224dccbfb11b10f59221fd",
    "deepnote_cell_type": "markdown"
   }
  },
  {
   "cell_type": "code",
   "source": [
    "# Loading All Shades Dataframe\n",
    "all_shades = pd.read_csv('datsets/allShades.csv')"
   ],
   "metadata": {
    "cell_id": "310231887a074cabb1ba7abea7b991bf",
    "source_hash": "2a9d8eee",
    "execution_start": 1684082034439,
    "execution_millis": 1,
    "deepnote_to_be_reexecuted": false,
    "deepnote_cell_type": "code",
    "ExecuteTime": {
     "end_time": "2023-11-08T15:05:36.512782800Z",
     "start_time": "2023-11-08T15:05:36.434148Z"
    }
   },
   "outputs": [
    {
     "ename": "FileNotFoundError",
     "evalue": "[Errno 2] No such file or directory: 'datsets/allShades.csv'",
     "output_type": "error",
     "traceback": [
      "\u001B[1;31m---------------------------------------------------------------------------\u001B[0m",
      "\u001B[1;31mFileNotFoundError\u001B[0m                         Traceback (most recent call last)",
      "Cell \u001B[1;32mIn[6], line 2\u001B[0m\n\u001B[0;32m      1\u001B[0m \u001B[38;5;66;03m# Loading All Shades Dataframe\u001B[39;00m\n\u001B[1;32m----> 2\u001B[0m all_shades \u001B[38;5;241m=\u001B[39m \u001B[43mpd\u001B[49m\u001B[38;5;241;43m.\u001B[39;49m\u001B[43mread_csv\u001B[49m\u001B[43m(\u001B[49m\u001B[38;5;124;43m'\u001B[39;49m\u001B[38;5;124;43mdatsets/allShades.csv\u001B[39;49m\u001B[38;5;124;43m'\u001B[39;49m\u001B[43m)\u001B[49m\n",
      "File \u001B[1;32m~\\miniconda3\\envs\\Sprin4\\Lib\\site-packages\\pandas\\io\\parsers\\readers.py:948\u001B[0m, in \u001B[0;36mread_csv\u001B[1;34m(filepath_or_buffer, sep, delimiter, header, names, index_col, usecols, dtype, engine, converters, true_values, false_values, skipinitialspace, skiprows, skipfooter, nrows, na_values, keep_default_na, na_filter, verbose, skip_blank_lines, parse_dates, infer_datetime_format, keep_date_col, date_parser, date_format, dayfirst, cache_dates, iterator, chunksize, compression, thousands, decimal, lineterminator, quotechar, quoting, doublequote, escapechar, comment, encoding, encoding_errors, dialect, on_bad_lines, delim_whitespace, low_memory, memory_map, float_precision, storage_options, dtype_backend)\u001B[0m\n\u001B[0;32m    935\u001B[0m kwds_defaults \u001B[38;5;241m=\u001B[39m _refine_defaults_read(\n\u001B[0;32m    936\u001B[0m     dialect,\n\u001B[0;32m    937\u001B[0m     delimiter,\n\u001B[1;32m   (...)\u001B[0m\n\u001B[0;32m    944\u001B[0m     dtype_backend\u001B[38;5;241m=\u001B[39mdtype_backend,\n\u001B[0;32m    945\u001B[0m )\n\u001B[0;32m    946\u001B[0m kwds\u001B[38;5;241m.\u001B[39mupdate(kwds_defaults)\n\u001B[1;32m--> 948\u001B[0m \u001B[38;5;28;01mreturn\u001B[39;00m \u001B[43m_read\u001B[49m\u001B[43m(\u001B[49m\u001B[43mfilepath_or_buffer\u001B[49m\u001B[43m,\u001B[49m\u001B[43m \u001B[49m\u001B[43mkwds\u001B[49m\u001B[43m)\u001B[49m\n",
      "File \u001B[1;32m~\\miniconda3\\envs\\Sprin4\\Lib\\site-packages\\pandas\\io\\parsers\\readers.py:611\u001B[0m, in \u001B[0;36m_read\u001B[1;34m(filepath_or_buffer, kwds)\u001B[0m\n\u001B[0;32m    608\u001B[0m _validate_names(kwds\u001B[38;5;241m.\u001B[39mget(\u001B[38;5;124m\"\u001B[39m\u001B[38;5;124mnames\u001B[39m\u001B[38;5;124m\"\u001B[39m, \u001B[38;5;28;01mNone\u001B[39;00m))\n\u001B[0;32m    610\u001B[0m \u001B[38;5;66;03m# Create the parser.\u001B[39;00m\n\u001B[1;32m--> 611\u001B[0m parser \u001B[38;5;241m=\u001B[39m \u001B[43mTextFileReader\u001B[49m\u001B[43m(\u001B[49m\u001B[43mfilepath_or_buffer\u001B[49m\u001B[43m,\u001B[49m\u001B[43m \u001B[49m\u001B[38;5;241;43m*\u001B[39;49m\u001B[38;5;241;43m*\u001B[39;49m\u001B[43mkwds\u001B[49m\u001B[43m)\u001B[49m\n\u001B[0;32m    613\u001B[0m \u001B[38;5;28;01mif\u001B[39;00m chunksize \u001B[38;5;129;01mor\u001B[39;00m iterator:\n\u001B[0;32m    614\u001B[0m     \u001B[38;5;28;01mreturn\u001B[39;00m parser\n",
      "File \u001B[1;32m~\\miniconda3\\envs\\Sprin4\\Lib\\site-packages\\pandas\\io\\parsers\\readers.py:1448\u001B[0m, in \u001B[0;36mTextFileReader.__init__\u001B[1;34m(self, f, engine, **kwds)\u001B[0m\n\u001B[0;32m   1445\u001B[0m     \u001B[38;5;28mself\u001B[39m\u001B[38;5;241m.\u001B[39moptions[\u001B[38;5;124m\"\u001B[39m\u001B[38;5;124mhas_index_names\u001B[39m\u001B[38;5;124m\"\u001B[39m] \u001B[38;5;241m=\u001B[39m kwds[\u001B[38;5;124m\"\u001B[39m\u001B[38;5;124mhas_index_names\u001B[39m\u001B[38;5;124m\"\u001B[39m]\n\u001B[0;32m   1447\u001B[0m \u001B[38;5;28mself\u001B[39m\u001B[38;5;241m.\u001B[39mhandles: IOHandles \u001B[38;5;241m|\u001B[39m \u001B[38;5;28;01mNone\u001B[39;00m \u001B[38;5;241m=\u001B[39m \u001B[38;5;28;01mNone\u001B[39;00m\n\u001B[1;32m-> 1448\u001B[0m \u001B[38;5;28mself\u001B[39m\u001B[38;5;241m.\u001B[39m_engine \u001B[38;5;241m=\u001B[39m \u001B[38;5;28;43mself\u001B[39;49m\u001B[38;5;241;43m.\u001B[39;49m\u001B[43m_make_engine\u001B[49m\u001B[43m(\u001B[49m\u001B[43mf\u001B[49m\u001B[43m,\u001B[49m\u001B[43m \u001B[49m\u001B[38;5;28;43mself\u001B[39;49m\u001B[38;5;241;43m.\u001B[39;49m\u001B[43mengine\u001B[49m\u001B[43m)\u001B[49m\n",
      "File \u001B[1;32m~\\miniconda3\\envs\\Sprin4\\Lib\\site-packages\\pandas\\io\\parsers\\readers.py:1705\u001B[0m, in \u001B[0;36mTextFileReader._make_engine\u001B[1;34m(self, f, engine)\u001B[0m\n\u001B[0;32m   1703\u001B[0m     \u001B[38;5;28;01mif\u001B[39;00m \u001B[38;5;124m\"\u001B[39m\u001B[38;5;124mb\u001B[39m\u001B[38;5;124m\"\u001B[39m \u001B[38;5;129;01mnot\u001B[39;00m \u001B[38;5;129;01min\u001B[39;00m mode:\n\u001B[0;32m   1704\u001B[0m         mode \u001B[38;5;241m+\u001B[39m\u001B[38;5;241m=\u001B[39m \u001B[38;5;124m\"\u001B[39m\u001B[38;5;124mb\u001B[39m\u001B[38;5;124m\"\u001B[39m\n\u001B[1;32m-> 1705\u001B[0m \u001B[38;5;28mself\u001B[39m\u001B[38;5;241m.\u001B[39mhandles \u001B[38;5;241m=\u001B[39m \u001B[43mget_handle\u001B[49m\u001B[43m(\u001B[49m\n\u001B[0;32m   1706\u001B[0m \u001B[43m    \u001B[49m\u001B[43mf\u001B[49m\u001B[43m,\u001B[49m\n\u001B[0;32m   1707\u001B[0m \u001B[43m    \u001B[49m\u001B[43mmode\u001B[49m\u001B[43m,\u001B[49m\n\u001B[0;32m   1708\u001B[0m \u001B[43m    \u001B[49m\u001B[43mencoding\u001B[49m\u001B[38;5;241;43m=\u001B[39;49m\u001B[38;5;28;43mself\u001B[39;49m\u001B[38;5;241;43m.\u001B[39;49m\u001B[43moptions\u001B[49m\u001B[38;5;241;43m.\u001B[39;49m\u001B[43mget\u001B[49m\u001B[43m(\u001B[49m\u001B[38;5;124;43m\"\u001B[39;49m\u001B[38;5;124;43mencoding\u001B[39;49m\u001B[38;5;124;43m\"\u001B[39;49m\u001B[43m,\u001B[49m\u001B[43m \u001B[49m\u001B[38;5;28;43;01mNone\u001B[39;49;00m\u001B[43m)\u001B[49m\u001B[43m,\u001B[49m\n\u001B[0;32m   1709\u001B[0m \u001B[43m    \u001B[49m\u001B[43mcompression\u001B[49m\u001B[38;5;241;43m=\u001B[39;49m\u001B[38;5;28;43mself\u001B[39;49m\u001B[38;5;241;43m.\u001B[39;49m\u001B[43moptions\u001B[49m\u001B[38;5;241;43m.\u001B[39;49m\u001B[43mget\u001B[49m\u001B[43m(\u001B[49m\u001B[38;5;124;43m\"\u001B[39;49m\u001B[38;5;124;43mcompression\u001B[39;49m\u001B[38;5;124;43m\"\u001B[39;49m\u001B[43m,\u001B[49m\u001B[43m \u001B[49m\u001B[38;5;28;43;01mNone\u001B[39;49;00m\u001B[43m)\u001B[49m\u001B[43m,\u001B[49m\n\u001B[0;32m   1710\u001B[0m \u001B[43m    \u001B[49m\u001B[43mmemory_map\u001B[49m\u001B[38;5;241;43m=\u001B[39;49m\u001B[38;5;28;43mself\u001B[39;49m\u001B[38;5;241;43m.\u001B[39;49m\u001B[43moptions\u001B[49m\u001B[38;5;241;43m.\u001B[39;49m\u001B[43mget\u001B[49m\u001B[43m(\u001B[49m\u001B[38;5;124;43m\"\u001B[39;49m\u001B[38;5;124;43mmemory_map\u001B[39;49m\u001B[38;5;124;43m\"\u001B[39;49m\u001B[43m,\u001B[49m\u001B[43m \u001B[49m\u001B[38;5;28;43;01mFalse\u001B[39;49;00m\u001B[43m)\u001B[49m\u001B[43m,\u001B[49m\n\u001B[0;32m   1711\u001B[0m \u001B[43m    \u001B[49m\u001B[43mis_text\u001B[49m\u001B[38;5;241;43m=\u001B[39;49m\u001B[43mis_text\u001B[49m\u001B[43m,\u001B[49m\n\u001B[0;32m   1712\u001B[0m \u001B[43m    \u001B[49m\u001B[43merrors\u001B[49m\u001B[38;5;241;43m=\u001B[39;49m\u001B[38;5;28;43mself\u001B[39;49m\u001B[38;5;241;43m.\u001B[39;49m\u001B[43moptions\u001B[49m\u001B[38;5;241;43m.\u001B[39;49m\u001B[43mget\u001B[49m\u001B[43m(\u001B[49m\u001B[38;5;124;43m\"\u001B[39;49m\u001B[38;5;124;43mencoding_errors\u001B[39;49m\u001B[38;5;124;43m\"\u001B[39;49m\u001B[43m,\u001B[49m\u001B[43m \u001B[49m\u001B[38;5;124;43m\"\u001B[39;49m\u001B[38;5;124;43mstrict\u001B[39;49m\u001B[38;5;124;43m\"\u001B[39;49m\u001B[43m)\u001B[49m\u001B[43m,\u001B[49m\n\u001B[0;32m   1713\u001B[0m \u001B[43m    \u001B[49m\u001B[43mstorage_options\u001B[49m\u001B[38;5;241;43m=\u001B[39;49m\u001B[38;5;28;43mself\u001B[39;49m\u001B[38;5;241;43m.\u001B[39;49m\u001B[43moptions\u001B[49m\u001B[38;5;241;43m.\u001B[39;49m\u001B[43mget\u001B[49m\u001B[43m(\u001B[49m\u001B[38;5;124;43m\"\u001B[39;49m\u001B[38;5;124;43mstorage_options\u001B[39;49m\u001B[38;5;124;43m\"\u001B[39;49m\u001B[43m,\u001B[49m\u001B[43m \u001B[49m\u001B[38;5;28;43;01mNone\u001B[39;49;00m\u001B[43m)\u001B[49m\u001B[43m,\u001B[49m\n\u001B[0;32m   1714\u001B[0m \u001B[43m\u001B[49m\u001B[43m)\u001B[49m\n\u001B[0;32m   1715\u001B[0m \u001B[38;5;28;01massert\u001B[39;00m \u001B[38;5;28mself\u001B[39m\u001B[38;5;241m.\u001B[39mhandles \u001B[38;5;129;01mis\u001B[39;00m \u001B[38;5;129;01mnot\u001B[39;00m \u001B[38;5;28;01mNone\u001B[39;00m\n\u001B[0;32m   1716\u001B[0m f \u001B[38;5;241m=\u001B[39m \u001B[38;5;28mself\u001B[39m\u001B[38;5;241m.\u001B[39mhandles\u001B[38;5;241m.\u001B[39mhandle\n",
      "File \u001B[1;32m~\\miniconda3\\envs\\Sprin4\\Lib\\site-packages\\pandas\\io\\common.py:863\u001B[0m, in \u001B[0;36mget_handle\u001B[1;34m(path_or_buf, mode, encoding, compression, memory_map, is_text, errors, storage_options)\u001B[0m\n\u001B[0;32m    858\u001B[0m \u001B[38;5;28;01melif\u001B[39;00m \u001B[38;5;28misinstance\u001B[39m(handle, \u001B[38;5;28mstr\u001B[39m):\n\u001B[0;32m    859\u001B[0m     \u001B[38;5;66;03m# Check whether the filename is to be opened in binary mode.\u001B[39;00m\n\u001B[0;32m    860\u001B[0m     \u001B[38;5;66;03m# Binary mode does not support 'encoding' and 'newline'.\u001B[39;00m\n\u001B[0;32m    861\u001B[0m     \u001B[38;5;28;01mif\u001B[39;00m ioargs\u001B[38;5;241m.\u001B[39mencoding \u001B[38;5;129;01mand\u001B[39;00m \u001B[38;5;124m\"\u001B[39m\u001B[38;5;124mb\u001B[39m\u001B[38;5;124m\"\u001B[39m \u001B[38;5;129;01mnot\u001B[39;00m \u001B[38;5;129;01min\u001B[39;00m ioargs\u001B[38;5;241m.\u001B[39mmode:\n\u001B[0;32m    862\u001B[0m         \u001B[38;5;66;03m# Encoding\u001B[39;00m\n\u001B[1;32m--> 863\u001B[0m         handle \u001B[38;5;241m=\u001B[39m \u001B[38;5;28;43mopen\u001B[39;49m\u001B[43m(\u001B[49m\n\u001B[0;32m    864\u001B[0m \u001B[43m            \u001B[49m\u001B[43mhandle\u001B[49m\u001B[43m,\u001B[49m\n\u001B[0;32m    865\u001B[0m \u001B[43m            \u001B[49m\u001B[43mioargs\u001B[49m\u001B[38;5;241;43m.\u001B[39;49m\u001B[43mmode\u001B[49m\u001B[43m,\u001B[49m\n\u001B[0;32m    866\u001B[0m \u001B[43m            \u001B[49m\u001B[43mencoding\u001B[49m\u001B[38;5;241;43m=\u001B[39;49m\u001B[43mioargs\u001B[49m\u001B[38;5;241;43m.\u001B[39;49m\u001B[43mencoding\u001B[49m\u001B[43m,\u001B[49m\n\u001B[0;32m    867\u001B[0m \u001B[43m            \u001B[49m\u001B[43merrors\u001B[49m\u001B[38;5;241;43m=\u001B[39;49m\u001B[43merrors\u001B[49m\u001B[43m,\u001B[49m\n\u001B[0;32m    868\u001B[0m \u001B[43m            \u001B[49m\u001B[43mnewline\u001B[49m\u001B[38;5;241;43m=\u001B[39;49m\u001B[38;5;124;43m\"\u001B[39;49m\u001B[38;5;124;43m\"\u001B[39;49m\u001B[43m,\u001B[49m\n\u001B[0;32m    869\u001B[0m \u001B[43m        \u001B[49m\u001B[43m)\u001B[49m\n\u001B[0;32m    870\u001B[0m     \u001B[38;5;28;01melse\u001B[39;00m:\n\u001B[0;32m    871\u001B[0m         \u001B[38;5;66;03m# Binary mode\u001B[39;00m\n\u001B[0;32m    872\u001B[0m         handle \u001B[38;5;241m=\u001B[39m \u001B[38;5;28mopen\u001B[39m(handle, ioargs\u001B[38;5;241m.\u001B[39mmode)\n",
      "\u001B[1;31mFileNotFoundError\u001B[0m: [Errno 2] No such file or directory: 'datsets/allShades.csv'"
     ]
    }
   ],
   "execution_count": 6
  },
  {
   "cell_type": "markdown",
   "source": [
    "### Basic Data Exploration"
   ],
   "metadata": {
    "cell_id": "02108a7965a64b57992d9db3eb1e23a1",
    "deepnote_cell_type": "markdown"
   }
  },
  {
   "cell_type": "code",
   "source": [
    "# # Show rows and columns count\n",
    "# print(f\"Rows count: {df.shape[0]}\\nColumns count: {df.shape[1]}\")"
   ],
   "metadata": {
    "cell_id": "9d82f0ae9afa46f394b3bad6a6360113",
    "source_hash": "b2061493",
    "execution_start": 1684082034442,
    "execution_millis": 6,
    "deepnote_to_be_reexecuted": false,
    "deepnote_cell_type": "code"
   },
   "outputs": [],
   "execution_count": 4
  },
  {
   "cell_type": "code",
   "source": [
    "# df.head()"
   ],
   "metadata": {
    "cell_id": "a82fce9bd2f443509252ca7620379aa5",
    "source_hash": "f584530c",
    "execution_start": 1684082034452,
    "execution_millis": 30,
    "deepnote_to_be_reexecuted": false,
    "deepnote_cell_type": "code"
   },
   "outputs": [],
   "execution_count": 5
  },
  {
   "cell_type": "code",
   "source": [
    "# df.tail()"
   ],
   "metadata": {
    "cell_id": "c3685e4ca2a743c68263bf5e4c617073",
    "source_hash": "c2c74a05",
    "execution_start": 1684082034454,
    "execution_millis": 45,
    "deepnote_to_be_reexecuted": false,
    "deepnote_cell_type": "code"
   },
   "outputs": [],
   "execution_count": 6
  },
  {
   "cell_type": "markdown",
   "source": [
    "#### Check Data Types"
   ],
   "metadata": {
    "cell_id": "7274c5c9b3ae440fb8a2a8858ef6d27f",
    "deepnote_cell_type": "markdown"
   }
  },
  {
   "cell_type": "code",
   "source": [
    "# # Show data types\n",
    "# df.info()"
   ],
   "metadata": {
    "cell_id": "ffc9ed41bd8e4957af514b3d9f9a8986",
    "source_hash": "411bda3e",
    "execution_start": 1684082034480,
    "execution_millis": 19,
    "deepnote_to_be_reexecuted": false,
    "deepnote_cell_type": "code"
   },
   "outputs": [],
   "execution_count": 7
  },
  {
   "cell_type": "markdown",
   "source": [
    "- `column1`, `column2`, `column3` are **strings**.\n",
    "- `column4` and `column5` are **floats**.\n",
    "- `column6` is an **integer**.\n",
    "\n",
    "`column3` should be a **datetime** type instead."
   ],
   "metadata": {
    "cell_id": "7f762cd850bf4a5899692d37dce3bfe4",
    "deepnote_cell_type": "markdown"
   }
  },
  {
   "cell_type": "markdown",
   "source": [
    "#### Check Missing Data"
   ],
   "metadata": {
    "cell_id": "4d97dcf425544595846e23c0c3e57637",
    "deepnote_cell_type": "markdown"
   }
  },
  {
   "cell_type": "code",
   "source": [
    "# # Print percentage of missing values\n",
    "# missing_percent = df.isna().mean().sort_values(ascending=False)\n",
    "# print('---- Percentage of Missing Values (%) -----')\n",
    "# if missing_percent.sum():\n",
    "#     print(missing_percent[missing_percent > 0] * 100)\n",
    "# else:\n",
    "#     print('None')"
   ],
   "metadata": {
    "cell_id": "37050f70f0334425868db3e02d515659",
    "source_hash": "7d2008df",
    "execution_start": 1684082034480,
    "execution_millis": 19,
    "deepnote_to_be_reexecuted": false,
    "deepnote_cell_type": "code"
   },
   "outputs": [],
   "execution_count": 8
  },
  {
   "cell_type": "markdown",
   "source": [
    "#### Check for Duplicate Rows"
   ],
   "metadata": {
    "cell_id": "788f50114ef74753bf9a47386517d95f",
    "deepnote_cell_type": "markdown"
   }
  },
  {
   "cell_type": "code",
   "source": [
    "# # Show number of duplicated rows\n",
    "# print(f\"No. of entirely duplicated rows: {df.duplicated().sum()}\")\n",
    "\n",
    "# # Show duplicated rows\n",
    "# df[df.duplicated()]"
   ],
   "metadata": {
    "cell_id": "2f173b2cfa29432bb073a029b773219e",
    "source_hash": "d799c3f4",
    "execution_start": 1684082034480,
    "execution_millis": 19,
    "deepnote_to_be_reexecuted": false,
    "deepnote_cell_type": "code"
   },
   "outputs": [],
   "execution_count": 9
  },
  {
   "cell_type": "markdown",
   "source": [
    "#### Check Uniqueness of Data"
   ],
   "metadata": {
    "cell_id": "bfb94e3ab9ac499890ee33260c3f9bc0",
    "deepnote_cell_type": "markdown"
   }
  },
  {
   "cell_type": "code",
   "source": [
    "# # Print the percentage similarity of values (the lower %, the better)\n",
    "# num_unique = df.nunique().sort_values()\n",
    "# print('---- Percentage Similarity of Values (%) -----')\n",
    "# print(100/num_unique)"
   ],
   "metadata": {
    "cell_id": "60b40039d083454998cea78276a9a0fc",
    "source_hash": "54dd3bf0",
    "execution_start": 1684082034484,
    "execution_millis": 17,
    "deepnote_to_be_reexecuted": false,
    "deepnote_cell_type": "code"
   },
   "outputs": [],
   "execution_count": 10
  },
  {
   "cell_type": "markdown",
   "source": [
    "#### Check Data Range"
   ],
   "metadata": {
    "cell_id": "0d0a5d13fa4f45c1bd74c5c6056e85b4",
    "deepnote_cell_type": "markdown"
   }
  },
  {
   "cell_type": "code",
   "source": [
    "# # Print summary statistics\n",
    "# df.describe(include='all')\n",
    "# skim(df)"
   ],
   "metadata": {
    "cell_id": "ed4d093842c542bdb01e7537deb27fa9",
    "source_hash": "f9954904",
    "execution_start": 1684082034486,
    "execution_millis": 15,
    "deepnote_to_be_reexecuted": false,
    "deepnote_cell_type": "code"
   },
   "outputs": [],
   "execution_count": 11
  },
  {
   "cell_type": "markdown",
   "source": [
    "### Areas to Fix\n",
    "**Data Types**\n",
    "- [ ] Issue 1\n",
    "\n",
    "**Missing Data**\n",
    "- [ ] \n",
    "\n",
    "**Duplicate Rows**\n",
    "- [ ]\n",
    "\n",
    "**Uniqueness of Data**\n",
    "- [ ]\n",
    "\n",
    "**Data Range**\n",
    "- [ ]"
   ],
   "metadata": {
    "cell_id": "a73ad313fe5640cc82dd2f1b9a6ea5fc",
    "deepnote_cell_type": "markdown"
   }
  },
  {
   "cell_type": "markdown",
   "source": [
    "---"
   ],
   "metadata": {
    "cell_id": "a5bcbeb6e7f94451b008c8076cab7365",
    "deepnote_cell_type": "markdown"
   }
  },
  {
   "cell_type": "markdown",
   "source": [
    "# 3"
   ],
   "metadata": {
    "cell_id": "1c0e1aa8992949998540a19add96c70e",
    "deepnote_cell_type": "markdown"
   }
  },
  {
   "cell_type": "markdown",
   "source": [
    "## Data Preprocessing"
   ],
   "metadata": {
    "cell_id": "592b248d503e44b4b461ef82f9adf7a6",
    "deepnote_cell_type": "markdown"
   }
  },
  {
   "cell_type": "markdown",
   "source": [
    "Here you can add sections like:\n",
    "\n",
    "- Renaming columns\n",
    "- Drop Redundant Columns\n",
    "- Changing Data Types\n",
    "- Dropping Duplicates\n",
    "- Handling Missing Values\n",
    "- Handling Unreasonable Data Ranges\n",
    "- Feature Engineering / Transformation\n",
    "\n",
    "Use `assert` where possible to show that preprocessing is done."
   ],
   "metadata": {
    "cell_id": "8be765b5461441988fb9d82f77530ea4",
    "deepnote_cell_type": "markdown"
   }
  },
  {
   "cell_type": "markdown",
   "source": [
    "### Rename Columns"
   ],
   "metadata": {
    "cell_id": "c53e0f6956e54310bdb86f365995d21e",
    "deepnote_cell_type": "markdown"
   }
  },
  {
   "cell_type": "code",
   "source": [
    "# # Rename columns to snake_case\n",
    "# df = clean_columns(df, replace={})"
   ],
   "metadata": {
    "cell_id": "bb233ddb67dd400283cd10ee262c03c6",
    "source_hash": "9100c620",
    "execution_start": 1684082034538,
    "execution_millis": 5,
    "deepnote_to_be_reexecuted": false,
    "deepnote_cell_type": "code"
   },
   "outputs": [],
   "execution_count": 12
  },
  {
   "cell_type": "code",
   "source": [
    "# # Rename columns\n",
    "# columns_to_rename = {}\n",
    "# df.rename(columns=columns_to_rename, inplace=True)"
   ],
   "metadata": {
    "cell_id": "0990dadbacb64e018a7f339755a8abcb",
    "source_hash": "fb618630",
    "execution_start": 1684082034540,
    "execution_millis": 3,
    "deepnote_to_be_reexecuted": false,
    "deepnote_cell_type": "code"
   },
   "outputs": [],
   "execution_count": 13
  },
  {
   "cell_type": "code",
   "source": [
    "# # Verify columns are renamed\n",
    "# df.columns"
   ],
   "metadata": {
    "cell_id": "d7c6bd3c71f84ddca59fce3a8d0858ab",
    "source_hash": "e9141d00",
    "execution_start": 1684082034540,
    "execution_millis": 4,
    "deepnote_to_be_reexecuted": false,
    "deepnote_cell_type": "code"
   },
   "outputs": [],
   "execution_count": 14
  },
  {
   "cell_type": "markdown",
   "source": [
    "### Drop Redundant Columns"
   ],
   "metadata": {
    "cell_id": "95cc904fc07e4bf0a727054592a9aa9c",
    "deepnote_cell_type": "markdown"
   }
  },
  {
   "cell_type": "code",
   "source": [
    "# # Check the proportion of the most frequent value in each column\n",
    "# print('---- Frequency of the Mode (%) -----')\n",
    "# mode_dict = {col: (df[col].value_counts().iat[0] / df[col].size * 100) for col in df.columns}\n",
    "# mode_series = pd.Series(mode_dict)\n",
    "# mode_series"
   ],
   "metadata": {
    "cell_id": "491d6041576a4b12adbbb9a13dd98078",
    "source_hash": "b08fc01",
    "execution_start": 1684082034543,
    "execution_millis": 23,
    "deepnote_to_be_reexecuted": false,
    "deepnote_cell_type": "code"
   },
   "outputs": [],
   "execution_count": 15
  },
  {
   "cell_type": "code",
   "source": [
    "# # Show the value frequency of each column greater than the mode's threshold\n",
    "# threshold = 80\n",
    "# for col in mode_series[mode_series > threshold].index:\n",
    "#     print(df[col].value_counts(dropna=False))\n",
    "#     print()"
   ],
   "metadata": {
    "cell_id": "bcfc78e3f26840c59ae3f86d0a527078",
    "source_hash": "742e6b87",
    "execution_start": 1684082034552,
    "execution_millis": 14,
    "deepnote_to_be_reexecuted": false,
    "deepnote_cell_type": "code"
   },
   "outputs": [],
   "execution_count": 16
  },
  {
   "cell_type": "code",
   "source": [
    "# # Drop columns (specify columns to drop)\n",
    "# cols_to_drop = []\n",
    "# df.drop(columns=cols_to_drop, axis=1, inplace=True)"
   ],
   "metadata": {
    "cell_id": "2e3bea2688c749a98e17287395a6bc48",
    "source_hash": "8d2cd12e",
    "execution_start": 1684082034566,
    "execution_millis": 13,
    "deepnote_to_be_reexecuted": false,
    "deepnote_cell_type": "code"
   },
   "outputs": [],
   "execution_count": 17
  },
  {
   "cell_type": "code",
   "source": [
    "# # Verify columns dropped\n",
    "# assert all(col not in df.columns for col in cols_to_drop)"
   ],
   "metadata": {
    "cell_id": "1f29ef15044545c5a9e5de93c7711848",
    "source_hash": "99c0ca31",
    "execution_start": 1684082034573,
    "execution_millis": 5,
    "deepnote_to_be_reexecuted": false,
    "deepnote_cell_type": "code"
   },
   "outputs": [],
   "execution_count": 18
  },
  {
   "cell_type": "code",
   "source": [
    "# # Drop columns (specify column indices to drop)\n",
    "# df.drop(df.columns[a:b], axis=1, inplace=True)"
   ],
   "metadata": {
    "cell_id": "778fd9af94294cde9495cf2f6c97a37d",
    "source_hash": "d7e4a913",
    "execution_start": 1684082034575,
    "execution_millis": 3,
    "deepnote_to_be_reexecuted": false,
    "deepnote_cell_type": "code"
   },
   "outputs": [],
   "execution_count": 19
  },
  {
   "cell_type": "code",
   "source": [
    "# # Verify columns dropped\n",
    "# assert all(col not in df.columns for col in df.columns[a:b])"
   ],
   "metadata": {
    "cell_id": "ef05ff68792e4c689043834b0c19a0cb",
    "source_hash": "e65462d6",
    "execution_start": 1684082034580,
    "execution_millis": 5,
    "deepnote_to_be_reexecuted": false,
    "deepnote_cell_type": "code"
   },
   "outputs": [],
   "execution_count": 20
  },
  {
   "cell_type": "code",
   "source": [
    "# # Drop columns (specify columns to keep)\n",
    "# cols_to_keep = []\n",
    "# df = df[cols_to_keep]"
   ],
   "metadata": {
    "tags": [],
    "cell_id": "2c6bd889ea6b4629af687e24182402bb",
    "source_hash": "163ed3ca",
    "execution_start": 1684082034584,
    "execution_millis": 0,
    "deepnote_to_be_reexecuted": false,
    "deepnote_cell_type": "code"
   },
   "outputs": [],
   "execution_count": 21
  },
  {
   "cell_type": "code",
   "source": [
    "# # Verify columns dropped\n",
    "# assert all(col in df.columns for col in cols_to_keep)"
   ],
   "metadata": {
    "tags": [],
    "cell_id": "c476ebe4800f4507b6b4cfeb3059857b",
    "source_hash": "5269ecc",
    "execution_start": 1684082034590,
    "execution_millis": 1839849990,
    "deepnote_to_be_reexecuted": false,
    "deepnote_cell_type": "code"
   },
   "outputs": [],
   "execution_count": 22
  },
  {
   "cell_type": "markdown",
   "source": [
    "### Changing Data Types"
   ],
   "metadata": {
    "cell_id": "5a44d491b9714a98aca3e40a2e51c02e",
    "deepnote_cell_type": "markdown"
   }
  },
  {
   "cell_type": "code",
   "source": [
    "# # Convert columns to the right data types\n",
    "# df[col] = df[col].astype('string')\n",
    "# df[col] = df[col].astype('int')\n",
    "# df[col] = pd.to_datetime(df[col], infer_datetime_format=True)\n",
    "\n",
    "# # Convert to categorical datatype\n",
    "# col_cat = ptypes.CategoricalDtype(categories=['A', 'B', 'C'], ordered=True)\n",
    "# df['col_cat'] = df['col_cat'].astype(col_cat)"
   ],
   "metadata": {
    "cell_id": "be0c0625c2db4b53bcb94ef0e655b5cb",
    "source_hash": "9fd78d41",
    "execution_start": 1684082034588,
    "execution_millis": 1,
    "deepnote_to_be_reexecuted": false,
    "deepnote_cell_type": "code"
   },
   "outputs": [],
   "execution_count": 23
  },
  {
   "cell_type": "code",
   "source": [
    "# # Verify conversion\n",
    "# assert ptypes.is_string_dtype(df[col])\n",
    "# assert ptypes.is_numeric_dtype(df[col])\n",
    "# cols_to_check = []\n",
    "# assert all(ptypes.is_datetime64_any_dtype(df[col]) for col in cols_to_check)"
   ],
   "metadata": {
    "cell_id": "3c88b97c0317445c84c580b59f1d728e",
    "source_hash": "96c40701",
    "execution_start": 1684082034588,
    "execution_millis": 12,
    "deepnote_to_be_reexecuted": false,
    "deepnote_cell_type": "code"
   },
   "outputs": [],
   "execution_count": 24
  },
  {
   "cell_type": "markdown",
   "source": [
    "### Dropping Duplicates"
   ],
   "metadata": {
    "cell_id": "eaec5575662a4be589c3a7b61fe0cf06",
    "deepnote_cell_type": "markdown"
   }
  },
  {
   "cell_type": "code",
   "source": [
    "# # Drop entirely duplicated rows\n",
    "# df.drop_duplicates(inplace=True, ignore_index=True)"
   ],
   "metadata": {
    "cell_id": "305ee61a5e70417ebae2407234c8c9bb",
    "source_hash": "a141816e",
    "execution_start": 1684082034633,
    "execution_millis": 1,
    "deepnote_to_be_reexecuted": false,
    "deepnote_cell_type": "code"
   },
   "outputs": [],
   "execution_count": 25
  },
  {
   "cell_type": "code",
   "source": [
    "# # Verify rows dropped\n",
    "# assert df.duplicated().sum()==0"
   ],
   "metadata": {
    "cell_id": "ba4c707ea9a2404e93fb435662f5ff04",
    "source_hash": "5427c87c",
    "execution_start": 1684082034633,
    "execution_millis": 4,
    "deepnote_to_be_reexecuted": false,
    "deepnote_cell_type": "code"
   },
   "outputs": [],
   "execution_count": 26
  },
  {
   "cell_type": "markdown",
   "source": [
    "### Handling Missing Values"
   ],
   "metadata": {
    "cell_id": "b02d7025cf844a18b535f905fe727528",
    "deepnote_cell_type": "markdown"
   }
  },
  {
   "cell_type": "markdown",
   "source": [
    "### Handling Unreasonable Data Ranges"
   ],
   "metadata": {
    "cell_id": "bbbbbf33374e4a1a870c89f1d49227cb",
    "deepnote_cell_type": "markdown"
   }
  },
  {
   "cell_type": "code",
   "source": [
    "# # Drop affected rows\n",
    "# df = df.loc[~((df['A'] == 0) | (df['B'] > 100))].reset_index()"
   ],
   "metadata": {
    "cell_id": "ca85f03853454dec8aa379b90b7721fe",
    "source_hash": "6f74c738",
    "execution_start": 1684082034633,
    "execution_millis": 4,
    "deepnote_to_be_reexecuted": false,
    "deepnote_cell_type": "code"
   },
   "outputs": [],
   "execution_count": 27
  },
  {
   "cell_type": "code",
   "source": [
    "# # Verify rows dropped\n",
    "# len(df)"
   ],
   "metadata": {
    "cell_id": "4f9232b5a84b4c07a5f06b6c5f860cc0",
    "source_hash": "8facc333",
    "execution_start": 1684082034633,
    "execution_millis": 4,
    "deepnote_to_be_reexecuted": false,
    "deepnote_cell_type": "code"
   },
   "outputs": [],
   "execution_count": 28
  },
  {
   "cell_type": "markdown",
   "source": [
    "### Feature Engineering / Transformation"
   ],
   "metadata": {
    "cell_id": "6886b4dfc68349dba5890010a3e5c80c",
    "deepnote_cell_type": "markdown"
   }
  },
  {
   "cell_type": "code",
   "source": [
    "# # Get unique values of interested columns\n",
    "# cols = []\n",
    "# pd.unique(df[cols].values.ravel('k'))  # argument 'k' lists the values in the order of the cols "
   ],
   "metadata": {
    "cell_id": "b851cbd85c7141ea8a527ffb014bac37",
    "source_hash": "5ca24685",
    "execution_start": 1684082034636,
    "execution_millis": 4,
    "deepnote_to_be_reexecuted": false,
    "deepnote_cell_type": "code"
   },
   "outputs": [],
   "execution_count": 29
  },
  {
   "cell_type": "code",
   "source": [
    "# # Create custom function\n",
    "# # Google style docstrings\n",
    "# # https://sphinxcontrib-napoleon.readthedocs.io/en/latest/example_google.html\n",
    "# def custom_function(param1: int, param2: str) -> bool:\n",
    "#     \"\"\"Example function with PEP 484 type annotations.\n",
    "\n",
    "#     Args:\n",
    "#         param1: The first parameter.\n",
    "#         param2: The second parameter.\n",
    "\n",
    "#     Returns:\n",
    "#         The return value. True for success, False otherwise.\n",
    "\n",
    "#     \"\"\""
   ],
   "metadata": {
    "cell_id": "144d517ea9f14287a8af6f0342df5d5c",
    "source_hash": "7eb0a4cf",
    "execution_start": 1684082034685,
    "execution_millis": 1,
    "deepnote_to_be_reexecuted": false,
    "deepnote_cell_type": "code"
   },
   "outputs": [],
   "execution_count": 30
  },
  {
   "cell_type": "code",
   "source": [
    "# # Apply function to multiple columns\n",
    "# cols = []\n",
    "# df_updated = df.copy()\n",
    "# df_updated[cols] = df_updated[cols].applymap(custom_function)\n",
    "\n",
    "# # Create new aggregated boolean column\n",
    "# df_updated['bool'] = df_updated[cols].any(axis=1, skipna=False)"
   ],
   "metadata": {
    "cell_id": "abfdcab92e2642d2b3926c8d32b06a27",
    "source_hash": "2f4fd46f",
    "execution_start": 1684082034685,
    "execution_millis": 1,
    "deepnote_to_be_reexecuted": false,
    "deepnote_cell_type": "code"
   },
   "outputs": [],
   "execution_count": 31
  },
  {
   "cell_type": "markdown",
   "source": [
    "---"
   ],
   "metadata": {
    "cell_id": "0aa6b72e2b54435faeb0d3e59a718144",
    "deepnote_cell_type": "markdown"
   }
  },
  {
   "cell_type": "markdown",
   "source": [
    "# 4"
   ],
   "metadata": {
    "cell_id": "bf6fd640b9fe4be49dac37997978a636",
    "deepnote_cell_type": "markdown"
   }
  },
  {
   "cell_type": "markdown",
   "source": [
    "## Data Analysis"
   ],
   "metadata": {
    "cell_id": "04c62bb80ece4a5f905f42c5ff5fe035",
    "deepnote_cell_type": "markdown"
   }
  },
  {
   "cell_type": "markdown",
   "source": [
    "Here is where your analysis begins. You can add different sections based on your project goals."
   ],
   "metadata": {
    "cell_id": "af4161bba1184c54ae5e01e0e38e1be4",
    "deepnote_cell_type": "markdown"
   }
  },
  {
   "cell_type": "markdown",
   "source": [
    "### Exploring `Column Name`"
   ],
   "metadata": {
    "cell_id": "d33995822de34fc1bd31fce802ec9512",
    "deepnote_cell_type": "markdown"
   }
  },
  {
   "cell_type": "code",
   "source": [
    "# Code and visualization"
   ],
   "metadata": {
    "cell_id": "a0799ba8c0e442b781527eb0245304ab",
    "source_hash": "9ecaa010",
    "execution_start": 1684082034685,
    "execution_millis": 1,
    "deepnote_to_be_reexecuted": false,
    "deepnote_cell_type": "code"
   },
   "outputs": [],
   "execution_count": 32
  },
  {
   "cell_type": "markdown",
   "source": [
    "**Observations**\n",
    "- Ob 1\n",
    "- Ob 2\n",
    "- Ob 3"
   ],
   "metadata": {
    "cell_id": "519d71f9a0c94ae3b52d04713680e2d0",
    "deepnote_cell_type": "markdown"
   }
  },
  {
   "cell_type": "markdown",
   "source": [
    "---"
   ],
   "metadata": {
    "cell_id": "9ed14056610a4431a33549f334ca4373",
    "deepnote_cell_type": "markdown"
   }
  },
  {
   "cell_type": "markdown",
   "source": [
    "# 5"
   ],
   "metadata": {
    "cell_id": "363f7d89c38d4329981494d8e46aa259",
    "deepnote_cell_type": "markdown"
   }
  },
  {
   "cell_type": "markdown",
   "source": [
    "## Conclusion\n",
    "\n",
    "### Insights \n",
    "State the insights/outcomes of your project or notebook."
   ],
   "metadata": {
    "cell_id": "c50a92f03c394aa69cc435090e3f6f56",
    "deepnote_cell_type": "markdown"
   }
  },
  {
   "cell_type": "markdown",
   "source": [
    "### Suggestions\n",
    "\n",
    "Make suggestions based on insights."
   ],
   "metadata": {
    "cell_id": "49f7130037184208ae6b4fe2ec9a9268",
    "deepnote_cell_type": "markdown"
   }
  },
  {
   "cell_type": "markdown",
   "source": [
    "### Possible Next Steps\n",
    "Areas to expand on:\n",
    "- (if there is any)"
   ],
   "metadata": {
    "cell_id": "727f036ec033469780c596e0b1ddbd82",
    "deepnote_cell_type": "markdown"
   }
  },
  {
   "cell_type": "markdown",
   "source": [
    "---"
   ],
   "metadata": {
    "cell_id": "44a747a8bb7d4e8faa57eb77012199c0",
    "deepnote_cell_type": "markdown"
   }
  },
  {
   "cell_type": "markdown",
   "source": [
    "# 6"
   ],
   "metadata": {
    "cell_id": "dd7702901c1249efb97b7686138360a1",
    "deepnote_cell_type": "markdown"
   }
  },
  {
   "cell_type": "markdown",
   "source": [
    "## Epilogue\n",
    "\n",
    "### References\n",
    "\n",
    "This is how we use inline citation[<sup id=\"fn1-back\">[1]</sup>](#fn1).\n",
    "\n",
    "[<span id=\"fn1\">1.</span>](#fn1-back) _Author (date)._ Title. Available at: https://website.com (Accessed: Date). \n",
    "\n",
    "> Use [https://www.citethisforme.com/](https://www.citethisforme.com/) to create citations."
   ],
   "metadata": {
    "cell_id": "3cfda3e06f4247cd810179189b9c4a00",
    "deepnote_cell_type": "markdown"
   }
  },
  {
   "cell_type": "markdown",
   "source": [
    "### Versioning\n",
    "Notebook and insights by (author).\n",
    "- Version: 1.5.0\n",
    "- Date: 2023-05-15"
   ],
   "metadata": {
    "cell_id": "ebb51cba0a4846cd9056b8da1caced2b",
    "deepnote_cell_type": "markdown"
   }
  },
  {
   "cell_type": "markdown",
   "source": [
    "<a style='text-decoration:none;line-height:16px;display:flex;color:#5B5B62;padding:10px;justify-content:end;' href='https://deepnote.com?utm_source=created-in-deepnote-cell&projectId=b689e16b-e36c-4f8c-b17a-b3e876352669' target=\"_blank\">\n",
    "<img alt='Created in deepnote.com' style='display:inline;max-height:16px;margin:0px;margin-right:7.5px;' src='data:image/svg+xml;base64,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' > </img>\n",
    "Created in <span style='font-weight:600;margin-left:4px;'>Deepnote</span></a>"
   ],
   "metadata": {
    "created_in_deepnote_cell": true,
    "deepnote_cell_type": "markdown"
   }
  }
 ],
 "nbformat": 4,
 "nbformat_minor": 0,
 "metadata": {
  "vscode": {
   "interpreter": {
    "hash": "fafc50dc8a0fe30378212a6e8a815037b6b7ff0aadeb98c480725f88009956fb"
   }
  },
  "deepnote": {},
  "kernelspec": {
   "name": "python3",
   "language": "python",
   "display_name": "base"
  },
  "language_info": {
   "name": "python",
   "version": "3.9.15",
   "mimetype": "text/x-python",
   "file_extension": ".py",
   "pygments_lexer": "ipython3",
   "codemirror_mode": {
    "name": "ipython",
    "version": 3
   },
   "nbconvert_exporter": "python"
  },
  "deepnote_notebook_id": "8d49e53e32e14bc390f58737ab18c268",
  "deepnote_execution_queue": [],
  "deepnote_persisted_session": {
   "createdAt": "2023-04-06T16:20:59.951Z"
  }
 }
}
