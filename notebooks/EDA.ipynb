{
 "cells": [
  {
   "cell_type": "markdown",
   "source": [
    "# Foundation Shade Diversity"
   ],
   "metadata": {
    "cell_id": "dea50a85adce443584ffb42b3efa546f",
    "deepnote_cell_type": "markdown"
   }
  },
  {
   "cell_type": "markdown",
   "source": [
    "## Table of Contents\n",
    "\n",
    "1. [**Introduction**](Introduction)\n",
    "    - Project Description\n",
    "    - Data Description\n",
    "2. [**Acquiring and Loading Data**](#2)\n",
    "\t- Importing Libraries and Notebook Setup\n",
    "    - Loading Data\n",
    "    - Basic Data Exploration\n",
    "    - Areas to Fix\n",
    "3. [**Data Proprocessing**](#3)\n",
    "4. [**Data Analysis**](#4)\n",
    "5. [**Conclusion**](#5)\n",
    "    - Insights\n",
    "    - Suggestions\n",
    "    - Possible Next Steps\n",
    "6. [**Epilogue**](#6) \n",
    "    - References\n",
    "    - Versioning"
   ],
   "metadata": {
    "cell_id": "e33a18bf99fb45fd9732a2c0f40a47ef",
    "deepnote_cell_type": "markdown"
   }
  },
  {
   "cell_type": "markdown",
   "source": [
    "## Introduction\n",
    "\n",
    "### Project Description\n",
    "\n",
    "**Goal/Purpose:** \n",
    "\n",
    "In this EDA notebook, we aim to explore the diversity of foundation shades in makeup products. We will analyze a dataset of makeup products and their corresponding shades to gain insights into the range and inclusivity of shades offered by different brands. By visualizing the data and conducting statistical analyses, we seek to provide a comprehensive understanding of foundation shade diversity in the cosmetics industry.\n",
    "<p>&nbsp;</p>\n",
    "\n",
    "**Questions to be Answered:**\n",
    "\n",
    "1. What is the distribution of foundation shades across different brands and product lines?\n",
    "    - Are some brands more diverse in their shade offerings compared to others?\n",
    "2. How does foundation shade diversity vary across price points and product types?\n",
    "    - Do high-end brands offer a wider range of shades compared to budget-friendly brands?\n",
    "3. Is there evidence of inclusivity in foundation shades for various skin tones?\n",
    "    - What is the representation of shades for fair, medium, and dark skin tones?\n",
    "    - Are there gaps in shade options for specific skin tones, and if so, which brands are addressing these gaps?\n",
    "\n",
    " \n",
    "\n",
    "<p>&nbsp;</p>\n",
    "\n",
    "**Assumptions/Methodology/Scope:** \n",
    "\n",
    "Briefly describe assumptions, processing steps, and the scope of this project.\n",
    "\n",
    "<p>&nbsp;</p>\n",
    "\n",
    "### Data Description\n",
    "\n",
    "**Content:** \n",
    "\n",
    "This dataset is a _(filetype) file of _(how many) data points which contains ___. \n",
    "\n",
    "<p>&nbsp;</p>\n",
    "\n",
    "**Description of Attributes:** \n",
    "\n",
    "\n",
    "\n",
    "| Column  | Description |\n",
    "| :------ | :---------- |\n",
    "| column1 | description1 |\n",
    "\n",
    "<p>&nbsp;</p>\n",
    "\n",
    "**Acknowledgements:** \n",
    "\n",
    "This dataset is provided by _(. The original dataset was scraped by _) and the original source can be found on [website](https://website.link)."
   ],
   "metadata": {
    "collapsed": false
   }
  },
  {
   "cell_type": "markdown",
   "source": [
    "---"
   ],
   "metadata": {
    "cell_id": "902dd7f04d87465ebaa929248fbc8aae",
    "deepnote_cell_type": "markdown"
   }
  },
  {
   "cell_type": "markdown",
   "source": [
    "## Acquiring and Loading Data\n",
    "### Importing Libraries and Notebook Setup"
   ],
   "metadata": {
    "cell_id": "66ecdc87fd09411e988c940de5fe5003",
    "deepnote_cell_type": "markdown"
   }
  },
  {
   "cell_type": "code",
   "source": [
    "# Data manipulation\n",
    "import numpy as np\n",
    "import pandas as pd\n",
    "\n",
    "# Visualizations\n",
    "import plotly.express as px\n"
   ],
   "metadata": {
    "cell_id": "7652fdf0134f4d6091689d0ca0fdf2e5",
    "source_hash": "ab774905",
    "execution_start": 1684082032937,
    "execution_millis": 1489,
    "deepnote_to_be_reexecuted": false,
    "deepnote_cell_type": "code",
    "ExecuteTime": {
     "end_time": "2023-11-08T14:58:52.444308500Z",
     "start_time": "2023-11-08T14:58:51.383193200Z"
    }
   },
   "outputs": [],
   "execution_count": 1
  },
  {
   "cell_type": "markdown",
   "source": [
    "### Loading Data"
   ],
   "metadata": {
    "cell_id": "5a64877afc224dccbfb11b10f59221fd",
    "deepnote_cell_type": "markdown"
   }
  },
  {
   "cell_type": "code",
   "source": [
    "# Loading All Shades Dataframe\n",
    "all_shades = pd.read_csv('../datasets/allShades.csv')"
   ],
   "metadata": {
    "cell_id": "310231887a074cabb1ba7abea7b991bf",
    "source_hash": "2a9d8eee",
    "execution_start": 1684082034439,
    "execution_millis": 1,
    "deepnote_to_be_reexecuted": false,
    "deepnote_cell_type": "code",
    "ExecuteTime": {
     "end_time": "2023-11-08T15:56:48.045399500Z",
     "start_time": "2023-11-08T15:56:47.963262300Z"
    }
   },
   "outputs": [],
   "execution_count": 12
  },
  {
   "cell_type": "markdown",
   "source": [],
   "metadata": {
    "collapsed": false
   }
  },
  {
   "cell_type": "markdown",
   "source": [
    "## Basic Data Exploration"
   ],
   "metadata": {
    "collapsed": false
   }
  },
  {
   "cell_type": "markdown",
   "source": [
    "### All Shades"
   ],
   "metadata": {
    "collapsed": false
   }
  },
  {
   "cell_type": "markdown",
   "source": [
    "#### Check Data Types"
   ],
   "metadata": {
    "cell_id": "7274c5c9b3ae440fb8a2a8858ef6d27f",
    "deepnote_cell_type": "markdown"
   }
  },
  {
   "cell_type": "code",
   "execution_count": 18,
   "outputs": [
    {
     "name": "stdout",
     "output_type": "stream",
     "text": [
      "<class 'pandas.core.frame.DataFrame'>\n",
      "RangeIndex: 6816 entries, 0 to 6815\n",
      "Data columns (total 14 columns):\n",
      " #   Column       Non-Null Count  Dtype  \n",
      "---  ------       --------------  -----  \n",
      " 0   index        6816 non-null   int64  \n",
      " 1   brand        6816 non-null   object \n",
      " 2   product      6816 non-null   object \n",
      " 3   url          6816 non-null   object \n",
      " 4   description  6816 non-null   object \n",
      " 5   imgSrc       6816 non-null   object \n",
      " 6   imgAlt       6816 non-null   object \n",
      " 7   name         4955 non-null   object \n",
      " 8   specific     4905 non-null   object \n",
      " 9   colorspace   6816 non-null   object \n",
      " 10  hex          6816 non-null   object \n",
      " 11  hue          6816 non-null   float64\n",
      " 12  sat          6816 non-null   float64\n",
      " 13  lightness    6816 non-null   float64\n",
      "dtypes: float64(3), int64(1), object(10)\n",
      "memory usage: 745.6+ KB\n"
     ]
    },
    {
     "data": {
      "text/plain": "      index                    brand  \\\n3624   3624  NYX Professional Makeup   \n4132   4132            Armani Beauty   \n2710   2710                  L'Oréal   \n2732   2732                  L'Oréal   \n4863   4863                    Tarte   \n6613   6613           Natasha Denona   \n5473   5473              Bobbi Brown   \n2598   2598  NYX Professional Makeup   \n5238   5238         MAKE UP FOR EVER   \n443     443                     NARS   \n\n                                                product  \\\n3624          Born To Glow Naturally Radiant Foundation   \n4132  Luminous Silk Perfect Glow Flawless Oil-Free F...   \n2710              Infallible Fresh Wear 24HR Foundation   \n2732              Infallible Fresh Wear 24HR Foundation   \n4863         SEA Water Foundation Broad Spectrum SPF 15   \n6613                                      Foundation X+   \n5473                              Skin Foundation Stick   \n2598                   Can't Stop Won't Stop Foundation   \n5238          Ultra HD Invisible Cover Stick Foundation   \n443                               Sheer Glow Foundation   \n\n                                                    url  \\\n3624  https://www.ulta.com/born-glow-naturally-radia...   \n4132  https://www.sephora.com/product/luminous-silk-...   \n2710  https://www.ulta.com/infallible-fresh-wear-24h...   \n2732  https://www.ulta.com/infallible-fresh-wear-24h...   \n4863  https://www.sephora.com/product/sea-water-foun...   \n6613  https://www.sephora.com/product/foundation-x-P...   \n5473  https://www.sephora.com/product/foundation-sti...   \n2598  https://www.ulta.com/cant-stop-wont-stop-found...   \n5238  https://www.sephora.com/product/ultra-hd-invis...   \n443   https://www.ulta.com/sheer-glow-foundation?pro...   \n\n                                            description  \\\n3624        Mahogany (medium deep w/ neutral undertone)   \n4132                               9 tan to deep, olive   \n2710                                         Ivory Buff   \n2732                                              Maple   \n4863                                48G tan-deep golden   \n6613         92 WNDeep - Neutral warm neutral undertone   \n5473  Warm Walnut (W-096) deep brown with yellow und...   \n2598    Neutral Tan (medium light w/ neutral undertone)   \n5238  Y245 - Soft Sand for light skin with pink unde...   \n443       Tahoe (medium-deep skin w/ golden undertones)   \n\n                                                 imgSrc  \\\n3624  https://images.ulta.com/is/image/Ulta/2546612s...   \n4132                 /productimages/sku/s1359694+sw.jpg   \n2710  https://images.ulta.com/is/image/Ulta/2538177s...   \n2732  https://images.ulta.com/is/image/Ulta/2558065s...   \n4863                 /productimages/sku/s2349439+sw.jpg   \n6613                 /productimages/sku/s2213288+sw.jpg   \n5473                 /productimages/sku/s1582261+sw.jpg   \n2598  https://images.ulta.com/is/image/Ulta/2531989s...   \n5238                 /productimages/sku/s1713171+sw.jpg   \n443   https://images.ulta.com/is/image/Ulta/2505583s...   \n\n                                               imgAlt         name specific  \\\n3624      Mahogany (medium deep w/ neutral undertone)     Mahogany      NaN   \n4132                                    9 1 oz/ 30 mL          NaN        9   \n2710                                       Ivory Buff   Ivory Buff      NaN   \n2732                                            Maple        Maple      NaN   \n4863                 48G 1 oz/ 30 mL Clean at Sephora          NaN      48G   \n6613               92 WNDeep - Neutral 1.01 oz/ 30 mL       WNDeep       92   \n5473                 Warm Walnut (W-096) 0.31 oz/ 9 g  Warm Walnut      NaN   \n2598  Neutral Tan (medium light w/ neutral undertone)  Neutral Tan      NaN   \n5238                 Y245 - Soft Sand 0.44 oz/ 12.5 g          NaN     Y245   \n443     Tahoe (medium-deep skin w/ golden undertones)        Tahoe      NaN   \n\n     colorspace      hex        hue       sat  lightness  \n3624        RGB  #A16948  22.247191  0.381974   0.456863  \n4132        RGB  #C19370  25.925926  0.395122   0.598039  \n2710        RGB  #E8C29F  28.767123  0.613445   0.766667  \n2732        RGB  #AF7041  25.636364  0.458333   0.470588  \n4863        RGB  #AE7C61  21.038961  0.322176   0.531373  \n6613        RGB  #C69981  20.869565  0.377049   0.641176  \n5473        RGB  #B27845  28.073394  0.441296   0.484314  \n2598        RGB  #9E7654  27.567568  0.305785   0.474510  \n5238        RGB  #D5A485  23.250000  0.487805   0.678431  \n443         RGB  #DF934C  28.979592  0.696682   0.586275  ",
      "text/html": "<div>\n<style scoped>\n    .dataframe tbody tr th:only-of-type {\n        vertical-align: middle;\n    }\n\n    .dataframe tbody tr th {\n        vertical-align: top;\n    }\n\n    .dataframe thead th {\n        text-align: right;\n    }\n</style>\n<table border=\"1\" class=\"dataframe\">\n  <thead>\n    <tr style=\"text-align: right;\">\n      <th></th>\n      <th>index</th>\n      <th>brand</th>\n      <th>product</th>\n      <th>url</th>\n      <th>description</th>\n      <th>imgSrc</th>\n      <th>imgAlt</th>\n      <th>name</th>\n      <th>specific</th>\n      <th>colorspace</th>\n      <th>hex</th>\n      <th>hue</th>\n      <th>sat</th>\n      <th>lightness</th>\n    </tr>\n  </thead>\n  <tbody>\n    <tr>\n      <th>3624</th>\n      <td>3624</td>\n      <td>NYX Professional Makeup</td>\n      <td>Born To Glow Naturally Radiant Foundation</td>\n      <td>https://www.ulta.com/born-glow-naturally-radia...</td>\n      <td>Mahogany (medium deep w/ neutral undertone)</td>\n      <td>https://images.ulta.com/is/image/Ulta/2546612s...</td>\n      <td>Mahogany (medium deep w/ neutral undertone)</td>\n      <td>Mahogany</td>\n      <td>NaN</td>\n      <td>RGB</td>\n      <td>#A16948</td>\n      <td>22.247191</td>\n      <td>0.381974</td>\n      <td>0.456863</td>\n    </tr>\n    <tr>\n      <th>4132</th>\n      <td>4132</td>\n      <td>Armani Beauty</td>\n      <td>Luminous Silk Perfect Glow Flawless Oil-Free F...</td>\n      <td>https://www.sephora.com/product/luminous-silk-...</td>\n      <td>9 tan to deep, olive</td>\n      <td>/productimages/sku/s1359694+sw.jpg</td>\n      <td>9 1 oz/ 30 mL</td>\n      <td>NaN</td>\n      <td>9</td>\n      <td>RGB</td>\n      <td>#C19370</td>\n      <td>25.925926</td>\n      <td>0.395122</td>\n      <td>0.598039</td>\n    </tr>\n    <tr>\n      <th>2710</th>\n      <td>2710</td>\n      <td>L'Oréal</td>\n      <td>Infallible Fresh Wear 24HR Foundation</td>\n      <td>https://www.ulta.com/infallible-fresh-wear-24h...</td>\n      <td>Ivory Buff</td>\n      <td>https://images.ulta.com/is/image/Ulta/2538177s...</td>\n      <td>Ivory Buff</td>\n      <td>Ivory Buff</td>\n      <td>NaN</td>\n      <td>RGB</td>\n      <td>#E8C29F</td>\n      <td>28.767123</td>\n      <td>0.613445</td>\n      <td>0.766667</td>\n    </tr>\n    <tr>\n      <th>2732</th>\n      <td>2732</td>\n      <td>L'Oréal</td>\n      <td>Infallible Fresh Wear 24HR Foundation</td>\n      <td>https://www.ulta.com/infallible-fresh-wear-24h...</td>\n      <td>Maple</td>\n      <td>https://images.ulta.com/is/image/Ulta/2558065s...</td>\n      <td>Maple</td>\n      <td>Maple</td>\n      <td>NaN</td>\n      <td>RGB</td>\n      <td>#AF7041</td>\n      <td>25.636364</td>\n      <td>0.458333</td>\n      <td>0.470588</td>\n    </tr>\n    <tr>\n      <th>4863</th>\n      <td>4863</td>\n      <td>Tarte</td>\n      <td>SEA Water Foundation Broad Spectrum SPF 15</td>\n      <td>https://www.sephora.com/product/sea-water-foun...</td>\n      <td>48G tan-deep golden</td>\n      <td>/productimages/sku/s2349439+sw.jpg</td>\n      <td>48G 1 oz/ 30 mL Clean at Sephora</td>\n      <td>NaN</td>\n      <td>48G</td>\n      <td>RGB</td>\n      <td>#AE7C61</td>\n      <td>21.038961</td>\n      <td>0.322176</td>\n      <td>0.531373</td>\n    </tr>\n    <tr>\n      <th>6613</th>\n      <td>6613</td>\n      <td>Natasha Denona</td>\n      <td>Foundation X+</td>\n      <td>https://www.sephora.com/product/foundation-x-P...</td>\n      <td>92 WNDeep - Neutral warm neutral undertone</td>\n      <td>/productimages/sku/s2213288+sw.jpg</td>\n      <td>92 WNDeep - Neutral 1.01 oz/ 30 mL</td>\n      <td>WNDeep</td>\n      <td>92</td>\n      <td>RGB</td>\n      <td>#C69981</td>\n      <td>20.869565</td>\n      <td>0.377049</td>\n      <td>0.641176</td>\n    </tr>\n    <tr>\n      <th>5473</th>\n      <td>5473</td>\n      <td>Bobbi Brown</td>\n      <td>Skin Foundation Stick</td>\n      <td>https://www.sephora.com/product/foundation-sti...</td>\n      <td>Warm Walnut (W-096) deep brown with yellow und...</td>\n      <td>/productimages/sku/s1582261+sw.jpg</td>\n      <td>Warm Walnut (W-096) 0.31 oz/ 9 g</td>\n      <td>Warm Walnut</td>\n      <td>NaN</td>\n      <td>RGB</td>\n      <td>#B27845</td>\n      <td>28.073394</td>\n      <td>0.441296</td>\n      <td>0.484314</td>\n    </tr>\n    <tr>\n      <th>2598</th>\n      <td>2598</td>\n      <td>NYX Professional Makeup</td>\n      <td>Can't Stop Won't Stop Foundation</td>\n      <td>https://www.ulta.com/cant-stop-wont-stop-found...</td>\n      <td>Neutral Tan (medium light w/ neutral undertone)</td>\n      <td>https://images.ulta.com/is/image/Ulta/2531989s...</td>\n      <td>Neutral Tan (medium light w/ neutral undertone)</td>\n      <td>Neutral Tan</td>\n      <td>NaN</td>\n      <td>RGB</td>\n      <td>#9E7654</td>\n      <td>27.567568</td>\n      <td>0.305785</td>\n      <td>0.474510</td>\n    </tr>\n    <tr>\n      <th>5238</th>\n      <td>5238</td>\n      <td>MAKE UP FOR EVER</td>\n      <td>Ultra HD Invisible Cover Stick Foundation</td>\n      <td>https://www.sephora.com/product/ultra-hd-invis...</td>\n      <td>Y245 - Soft Sand for light skin with pink unde...</td>\n      <td>/productimages/sku/s1713171+sw.jpg</td>\n      <td>Y245 - Soft Sand 0.44 oz/ 12.5 g</td>\n      <td>NaN</td>\n      <td>Y245</td>\n      <td>RGB</td>\n      <td>#D5A485</td>\n      <td>23.250000</td>\n      <td>0.487805</td>\n      <td>0.678431</td>\n    </tr>\n    <tr>\n      <th>443</th>\n      <td>443</td>\n      <td>NARS</td>\n      <td>Sheer Glow Foundation</td>\n      <td>https://www.ulta.com/sheer-glow-foundation?pro...</td>\n      <td>Tahoe (medium-deep skin w/ golden undertones)</td>\n      <td>https://images.ulta.com/is/image/Ulta/2505583s...</td>\n      <td>Tahoe (medium-deep skin w/ golden undertones)</td>\n      <td>Tahoe</td>\n      <td>NaN</td>\n      <td>RGB</td>\n      <td>#DF934C</td>\n      <td>28.979592</td>\n      <td>0.696682</td>\n      <td>0.586275</td>\n    </tr>\n  </tbody>\n</table>\n</div>"
     },
     "execution_count": 18,
     "metadata": {},
     "output_type": "execute_result"
    }
   ],
   "source": [
    "# Retrieving general info and sample of 'all_shades' DataFrame\n",
    "all_shades.info()\n",
    "all_shades.sample(10)"
   ],
   "metadata": {
    "collapsed": false,
    "ExecuteTime": {
     "start_time": "2023-11-08T16:02:39.405453200Z"
    }
   }
  },
  {
   "cell_type": "markdown",
   "source": [
    "##### Comments\n",
    "- `brand`, `product`, `url`,`description` are **strings**.\n",
    "- `hue`, `sat` and `lightness` are **floats**.\n",
    "- `index` is an **integer**.\n"
   ],
   "metadata": {
    "cell_id": "7f762cd850bf4a5899692d37dce3bfe4",
    "deepnote_cell_type": "markdown"
   }
  },
  {
   "cell_type": "markdown",
   "source": [
    "#### Check Missing Data"
   ],
   "metadata": {
    "cell_id": "4d97dcf425544595846e23c0c3e57637",
    "deepnote_cell_type": "markdown"
   }
  },
  {
   "cell_type": "code",
   "source": [
    "# # Print percentage of missing values\n",
    "missing_percent_shade = all_shades.isna().mean().sort_values(ascending=False)\n",
    "# print('---- Percentage of Missing Values (%) -----')\n",
    "if missing_percent_shade.sum():\n",
    "    print(missing_percent_shade[missing_percent_shade > 0] * 100)\n",
    "else:\n",
    "    print('None')"
   ],
   "metadata": {
    "cell_id": "37050f70f0334425868db3e02d515659",
    "source_hash": "7d2008df",
    "execution_start": 1684082034480,
    "execution_millis": 19,
    "deepnote_to_be_reexecuted": false,
    "deepnote_cell_type": "code",
    "ExecuteTime": {
     "end_time": "2023-11-09T00:17:57.134370300Z",
     "start_time": "2023-11-09T00:17:57.117404Z"
    }
   },
   "outputs": [
    {
     "name": "stdout",
     "output_type": "stream",
     "text": [
      "specific    28.036972\n",
      "name        27.303404\n",
      "dtype: float64\n"
     ]
    }
   ],
   "execution_count": 21
  },
  {
   "cell_type": "code",
   "execution_count": null,
   "outputs": [],
   "source": [
    "# Investigating missing data. \n",
    "\n"
   ],
   "metadata": {
    "collapsed": false
   }
  },
  {
   "cell_type": "markdown",
   "source": [
    "##### Check for Duplicate Rows"
   ],
   "metadata": {
    "cell_id": "788f50114ef74753bf9a47386517d95f",
    "deepnote_cell_type": "markdown"
   }
  },
  {
   "cell_type": "code",
   "source": [
    "# # Show number of duplicated rows\n",
    "# print(f\"No. of entirely duplicated rows: {df.duplicated().sum()}\")\n",
    "\n",
    "# # Show duplicated rows\n",
    "# df[df.duplicated()]"
   ],
   "metadata": {
    "cell_id": "2f173b2cfa29432bb073a029b773219e",
    "source_hash": "d799c3f4",
    "execution_start": 1684082034480,
    "execution_millis": 19,
    "deepnote_to_be_reexecuted": false,
    "deepnote_cell_type": "code"
   },
   "outputs": [],
   "execution_count": 9
  },
  {
   "cell_type": "markdown",
   "source": [
    "#### Check Uniqueness of Data"
   ],
   "metadata": {
    "cell_id": "bfb94e3ab9ac499890ee33260c3f9bc0",
    "deepnote_cell_type": "markdown"
   }
  },
  {
   "cell_type": "code",
   "source": [
    "# # Print the percentage similarity of values (the lower %, the better)\n",
    "# num_unique = df.nunique().sort_values()\n",
    "# print('---- Percentage Similarity of Values (%) -----')\n",
    "# print(100/num_unique)"
   ],
   "metadata": {
    "cell_id": "60b40039d083454998cea78276a9a0fc",
    "source_hash": "54dd3bf0",
    "execution_start": 1684082034484,
    "execution_millis": 17,
    "deepnote_to_be_reexecuted": false,
    "deepnote_cell_type": "code"
   },
   "outputs": [],
   "execution_count": 10
  },
  {
   "cell_type": "markdown",
   "source": [
    "#### Check Data Range"
   ],
   "metadata": {
    "cell_id": "0d0a5d13fa4f45c1bd74c5c6056e85b4",
    "deepnote_cell_type": "markdown"
   }
  },
  {
   "cell_type": "code",
   "source": [
    "# # Print summary statistics\n",
    "# df.describe(include='all')\n",
    "# skim(df)"
   ],
   "metadata": {
    "cell_id": "ed4d093842c542bdb01e7537deb27fa9",
    "source_hash": "f9954904",
    "execution_start": 1684082034486,
    "execution_millis": 15,
    "deepnote_to_be_reexecuted": false,
    "deepnote_cell_type": "code"
   },
   "outputs": [],
   "execution_count": 11
  },
  {
   "cell_type": "markdown",
   "source": [
    "### Areas to Fix\n",
    "**Data Types**\n",
    "- [ ] Issue 1\n",
    "\n",
    "**Missing Data**\n",
    "- [ ] \n",
    "\n",
    "**Duplicate Rows**\n",
    "- [ ]\n",
    "\n",
    "**Uniqueness of Data**\n",
    "- [ ]\n",
    "\n",
    "**Data Range**\n",
    "- [ ]"
   ],
   "metadata": {
    "cell_id": "a73ad313fe5640cc82dd2f1b9a6ea5fc",
    "deepnote_cell_type": "markdown"
   }
  },
  {
   "cell_type": "markdown",
   "source": [
    "---"
   ],
   "metadata": {
    "cell_id": "a5bcbeb6e7f94451b008c8076cab7365",
    "deepnote_cell_type": "markdown"
   }
  },
  {
   "cell_type": "markdown",
   "source": [
    "# 3"
   ],
   "metadata": {
    "cell_id": "1c0e1aa8992949998540a19add96c70e",
    "deepnote_cell_type": "markdown"
   }
  },
  {
   "cell_type": "markdown",
   "source": [
    "## Data Preprocessing"
   ],
   "metadata": {
    "cell_id": "592b248d503e44b4b461ef82f9adf7a6",
    "deepnote_cell_type": "markdown"
   }
  },
  {
   "cell_type": "markdown",
   "source": [
    "Here you can add sections like:\n",
    "\n",
    "- Renaming columns\n",
    "- Drop Redundant Columns\n",
    "- Changing Data Types\n",
    "- Dropping Duplicates\n",
    "- Handling Missing Values\n",
    "- Handling Unreasonable Data Ranges\n",
    "- Feature Engineering / Transformation\n",
    "\n",
    "Use `assert` where possible to show that preprocessing is done."
   ],
   "metadata": {
    "cell_id": "8be765b5461441988fb9d82f77530ea4",
    "deepnote_cell_type": "markdown"
   }
  },
  {
   "cell_type": "markdown",
   "source": [
    "### Rename Columns"
   ],
   "metadata": {
    "cell_id": "c53e0f6956e54310bdb86f365995d21e",
    "deepnote_cell_type": "markdown"
   }
  },
  {
   "cell_type": "code",
   "source": [
    "# # Rename columns to snake_case\n",
    "# df = clean_columns(df, replace={})"
   ],
   "metadata": {
    "cell_id": "bb233ddb67dd400283cd10ee262c03c6",
    "source_hash": "9100c620",
    "execution_start": 1684082034538,
    "execution_millis": 5,
    "deepnote_to_be_reexecuted": false,
    "deepnote_cell_type": "code"
   },
   "outputs": [],
   "execution_count": 12
  },
  {
   "cell_type": "code",
   "source": [
    "# # Rename columns\n",
    "# columns_to_rename = {}\n",
    "# df.rename(columns=columns_to_rename, inplace=True)"
   ],
   "metadata": {
    "cell_id": "0990dadbacb64e018a7f339755a8abcb",
    "source_hash": "fb618630",
    "execution_start": 1684082034540,
    "execution_millis": 3,
    "deepnote_to_be_reexecuted": false,
    "deepnote_cell_type": "code"
   },
   "outputs": [],
   "execution_count": 13
  },
  {
   "cell_type": "code",
   "source": [
    "# # Verify columns are renamed\n",
    "# df.columns"
   ],
   "metadata": {
    "cell_id": "d7c6bd3c71f84ddca59fce3a8d0858ab",
    "source_hash": "e9141d00",
    "execution_start": 1684082034540,
    "execution_millis": 4,
    "deepnote_to_be_reexecuted": false,
    "deepnote_cell_type": "code"
   },
   "outputs": [],
   "execution_count": 14
  },
  {
   "cell_type": "markdown",
   "source": [
    "### Drop Redundant Columns"
   ],
   "metadata": {
    "cell_id": "95cc904fc07e4bf0a727054592a9aa9c",
    "deepnote_cell_type": "markdown"
   }
  },
  {
   "cell_type": "code",
   "source": [
    "# # Check the proportion of the most frequent value in each column\n",
    "# print('---- Frequency of the Mode (%) -----')\n",
    "# mode_dict = {col: (df[col].value_counts().iat[0] / df[col].size * 100) for col in df.columns}\n",
    "# mode_series = pd.Series(mode_dict)\n",
    "# mode_series"
   ],
   "metadata": {
    "cell_id": "491d6041576a4b12adbbb9a13dd98078",
    "source_hash": "b08fc01",
    "execution_start": 1684082034543,
    "execution_millis": 23,
    "deepnote_to_be_reexecuted": false,
    "deepnote_cell_type": "code"
   },
   "outputs": [],
   "execution_count": 15
  },
  {
   "cell_type": "code",
   "source": [
    "# # Show the value frequency of each column greater than the mode's threshold\n",
    "# threshold = 80\n",
    "# for col in mode_series[mode_series > threshold].index:\n",
    "#     print(df[col].value_counts(dropna=False))\n",
    "#     print()"
   ],
   "metadata": {
    "cell_id": "bcfc78e3f26840c59ae3f86d0a527078",
    "source_hash": "742e6b87",
    "execution_start": 1684082034552,
    "execution_millis": 14,
    "deepnote_to_be_reexecuted": false,
    "deepnote_cell_type": "code"
   },
   "outputs": [],
   "execution_count": 16
  },
  {
   "cell_type": "code",
   "source": [
    "# # Drop columns (specify columns to drop)\n",
    "# cols_to_drop = []\n",
    "# df.drop(columns=cols_to_drop, axis=1, inplace=True)"
   ],
   "metadata": {
    "cell_id": "2e3bea2688c749a98e17287395a6bc48",
    "source_hash": "8d2cd12e",
    "execution_start": 1684082034566,
    "execution_millis": 13,
    "deepnote_to_be_reexecuted": false,
    "deepnote_cell_type": "code"
   },
   "outputs": [],
   "execution_count": 17
  },
  {
   "cell_type": "code",
   "source": [
    "# # Verify columns dropped\n",
    "# assert all(col not in df.columns for col in cols_to_drop)"
   ],
   "metadata": {
    "cell_id": "1f29ef15044545c5a9e5de93c7711848",
    "source_hash": "99c0ca31",
    "execution_start": 1684082034573,
    "execution_millis": 5,
    "deepnote_to_be_reexecuted": false,
    "deepnote_cell_type": "code"
   },
   "outputs": [],
   "execution_count": 18
  },
  {
   "cell_type": "code",
   "source": [
    "# # Drop columns (specify column indices to drop)\n",
    "# df.drop(df.columns[a:b], axis=1, inplace=True)"
   ],
   "metadata": {
    "cell_id": "778fd9af94294cde9495cf2f6c97a37d",
    "source_hash": "d7e4a913",
    "execution_start": 1684082034575,
    "execution_millis": 3,
    "deepnote_to_be_reexecuted": false,
    "deepnote_cell_type": "code"
   },
   "outputs": [],
   "execution_count": 19
  },
  {
   "cell_type": "code",
   "source": [
    "# # Verify columns dropped\n",
    "# assert all(col not in df.columns for col in df.columns[a:b])"
   ],
   "metadata": {
    "cell_id": "ef05ff68792e4c689043834b0c19a0cb",
    "source_hash": "e65462d6",
    "execution_start": 1684082034580,
    "execution_millis": 5,
    "deepnote_to_be_reexecuted": false,
    "deepnote_cell_type": "code"
   },
   "outputs": [],
   "execution_count": 20
  },
  {
   "cell_type": "code",
   "source": [
    "# # Drop columns (specify columns to keep)\n",
    "# cols_to_keep = []\n",
    "# df = df[cols_to_keep]"
   ],
   "metadata": {
    "tags": [],
    "cell_id": "2c6bd889ea6b4629af687e24182402bb",
    "source_hash": "163ed3ca",
    "execution_start": 1684082034584,
    "execution_millis": 0,
    "deepnote_to_be_reexecuted": false,
    "deepnote_cell_type": "code"
   },
   "outputs": [],
   "execution_count": 21
  },
  {
   "cell_type": "code",
   "source": [
    "# # Verify columns dropped\n",
    "# assert all(col in df.columns for col in cols_to_keep)"
   ],
   "metadata": {
    "tags": [],
    "cell_id": "c476ebe4800f4507b6b4cfeb3059857b",
    "source_hash": "5269ecc",
    "execution_start": 1684082034590,
    "execution_millis": 1839849990,
    "deepnote_to_be_reexecuted": false,
    "deepnote_cell_type": "code"
   },
   "outputs": [],
   "execution_count": 22
  },
  {
   "cell_type": "markdown",
   "source": [
    "### Changing Data Types"
   ],
   "metadata": {
    "cell_id": "5a44d491b9714a98aca3e40a2e51c02e",
    "deepnote_cell_type": "markdown"
   }
  },
  {
   "cell_type": "code",
   "source": [
    "# # Convert columns to the right data types\n",
    "# df[col] = df[col].astype('string')\n",
    "# df[col] = df[col].astype('int')\n",
    "# df[col] = pd.to_datetime(df[col], infer_datetime_format=True)\n",
    "\n",
    "# # Convert to categorical datatype\n",
    "# col_cat = ptypes.CategoricalDtype(categories=['A', 'B', 'C'], ordered=True)\n",
    "# df['col_cat'] = df['col_cat'].astype(col_cat)"
   ],
   "metadata": {
    "cell_id": "be0c0625c2db4b53bcb94ef0e655b5cb",
    "source_hash": "9fd78d41",
    "execution_start": 1684082034588,
    "execution_millis": 1,
    "deepnote_to_be_reexecuted": false,
    "deepnote_cell_type": "code"
   },
   "outputs": [],
   "execution_count": 23
  },
  {
   "cell_type": "code",
   "source": [
    "# # Verify conversion\n",
    "# assert ptypes.is_string_dtype(df[col])\n",
    "# assert ptypes.is_numeric_dtype(df[col])\n",
    "# cols_to_check = []\n",
    "# assert all(ptypes.is_datetime64_any_dtype(df[col]) for col in cols_to_check)"
   ],
   "metadata": {
    "cell_id": "3c88b97c0317445c84c580b59f1d728e",
    "source_hash": "96c40701",
    "execution_start": 1684082034588,
    "execution_millis": 12,
    "deepnote_to_be_reexecuted": false,
    "deepnote_cell_type": "code"
   },
   "outputs": [],
   "execution_count": 24
  },
  {
   "cell_type": "markdown",
   "source": [
    "### Dropping Duplicates"
   ],
   "metadata": {
    "cell_id": "eaec5575662a4be589c3a7b61fe0cf06",
    "deepnote_cell_type": "markdown"
   }
  },
  {
   "cell_type": "code",
   "source": [
    "# # Drop entirely duplicated rows\n",
    "# df.drop_duplicates(inplace=True, ignore_index=True)"
   ],
   "metadata": {
    "cell_id": "305ee61a5e70417ebae2407234c8c9bb",
    "source_hash": "a141816e",
    "execution_start": 1684082034633,
    "execution_millis": 1,
    "deepnote_to_be_reexecuted": false,
    "deepnote_cell_type": "code"
   },
   "outputs": [],
   "execution_count": 25
  },
  {
   "cell_type": "code",
   "source": [
    "# # Verify rows dropped\n",
    "# assert df.duplicated().sum()==0"
   ],
   "metadata": {
    "cell_id": "ba4c707ea9a2404e93fb435662f5ff04",
    "source_hash": "5427c87c",
    "execution_start": 1684082034633,
    "execution_millis": 4,
    "deepnote_to_be_reexecuted": false,
    "deepnote_cell_type": "code"
   },
   "outputs": [],
   "execution_count": 26
  },
  {
   "cell_type": "markdown",
   "source": [
    "### Handling Missing Values"
   ],
   "metadata": {
    "cell_id": "b02d7025cf844a18b535f905fe727528",
    "deepnote_cell_type": "markdown"
   }
  },
  {
   "cell_type": "markdown",
   "source": [
    "### Handling Unreasonable Data Ranges"
   ],
   "metadata": {
    "cell_id": "bbbbbf33374e4a1a870c89f1d49227cb",
    "deepnote_cell_type": "markdown"
   }
  },
  {
   "cell_type": "code",
   "source": [
    "# # Drop affected rows\n",
    "# df = df.loc[~((df['A'] == 0) | (df['B'] > 100))].reset_index()"
   ],
   "metadata": {
    "cell_id": "ca85f03853454dec8aa379b90b7721fe",
    "source_hash": "6f74c738",
    "execution_start": 1684082034633,
    "execution_millis": 4,
    "deepnote_to_be_reexecuted": false,
    "deepnote_cell_type": "code"
   },
   "outputs": [],
   "execution_count": 27
  },
  {
   "cell_type": "code",
   "source": [
    "# # Verify rows dropped\n",
    "# len(df)"
   ],
   "metadata": {
    "cell_id": "4f9232b5a84b4c07a5f06b6c5f860cc0",
    "source_hash": "8facc333",
    "execution_start": 1684082034633,
    "execution_millis": 4,
    "deepnote_to_be_reexecuted": false,
    "deepnote_cell_type": "code"
   },
   "outputs": [],
   "execution_count": 28
  },
  {
   "cell_type": "markdown",
   "source": [
    "### Feature Engineering / Transformation"
   ],
   "metadata": {
    "cell_id": "6886b4dfc68349dba5890010a3e5c80c",
    "deepnote_cell_type": "markdown"
   }
  },
  {
   "cell_type": "code",
   "source": [
    "# # Get unique values of interested columns\n",
    "# cols = []\n",
    "# pd.unique(df[cols].values.ravel('k'))  # argument 'k' lists the values in the order of the cols "
   ],
   "metadata": {
    "cell_id": "b851cbd85c7141ea8a527ffb014bac37",
    "source_hash": "5ca24685",
    "execution_start": 1684082034636,
    "execution_millis": 4,
    "deepnote_to_be_reexecuted": false,
    "deepnote_cell_type": "code"
   },
   "outputs": [],
   "execution_count": 29
  },
  {
   "cell_type": "code",
   "source": [
    "# # Create custom function\n",
    "# # Google style docstrings\n",
    "# # https://sphinxcontrib-napoleon.readthedocs.io/en/latest/example_google.html\n",
    "# def custom_function(param1: int, param2: str) -> bool:\n",
    "#     \"\"\"Example function with PEP 484 type annotations.\n",
    "\n",
    "#     Args:\n",
    "#         param1: The first parameter.\n",
    "#         param2: The second parameter.\n",
    "\n",
    "#     Returns:\n",
    "#         The return value. True for success, False otherwise.\n",
    "\n",
    "#     \"\"\""
   ],
   "metadata": {
    "cell_id": "144d517ea9f14287a8af6f0342df5d5c",
    "source_hash": "7eb0a4cf",
    "execution_start": 1684082034685,
    "execution_millis": 1,
    "deepnote_to_be_reexecuted": false,
    "deepnote_cell_type": "code"
   },
   "outputs": [],
   "execution_count": 30
  },
  {
   "cell_type": "code",
   "source": [
    "# # Apply function to multiple columns\n",
    "# cols = []\n",
    "# df_updated = df.copy()\n",
    "# df_updated[cols] = df_updated[cols].applymap(custom_function)\n",
    "\n",
    "# # Create new aggregated boolean column\n",
    "# df_updated['bool'] = df_updated[cols].any(axis=1, skipna=False)"
   ],
   "metadata": {
    "cell_id": "abfdcab92e2642d2b3926c8d32b06a27",
    "source_hash": "2f4fd46f",
    "execution_start": 1684082034685,
    "execution_millis": 1,
    "deepnote_to_be_reexecuted": false,
    "deepnote_cell_type": "code"
   },
   "outputs": [],
   "execution_count": 31
  },
  {
   "cell_type": "markdown",
   "source": [
    "---"
   ],
   "metadata": {
    "cell_id": "0aa6b72e2b54435faeb0d3e59a718144",
    "deepnote_cell_type": "markdown"
   }
  },
  {
   "cell_type": "markdown",
   "source": [
    "# 4"
   ],
   "metadata": {
    "cell_id": "bf6fd640b9fe4be49dac37997978a636",
    "deepnote_cell_type": "markdown"
   }
  },
  {
   "cell_type": "markdown",
   "source": [
    "## Data Analysis"
   ],
   "metadata": {
    "cell_id": "04c62bb80ece4a5f905f42c5ff5fe035",
    "deepnote_cell_type": "markdown"
   }
  },
  {
   "cell_type": "markdown",
   "source": [
    "Here is where your analysis begins. You can add different sections based on your project goals."
   ],
   "metadata": {
    "cell_id": "af4161bba1184c54ae5e01e0e38e1be4",
    "deepnote_cell_type": "markdown"
   }
  },
  {
   "cell_type": "markdown",
   "source": [
    "### Exploring `Column Name`"
   ],
   "metadata": {
    "cell_id": "d33995822de34fc1bd31fce802ec9512",
    "deepnote_cell_type": "markdown"
   }
  },
  {
   "cell_type": "code",
   "source": [
    "# Code and visualization"
   ],
   "metadata": {
    "cell_id": "a0799ba8c0e442b781527eb0245304ab",
    "source_hash": "9ecaa010",
    "execution_start": 1684082034685,
    "execution_millis": 1,
    "deepnote_to_be_reexecuted": false,
    "deepnote_cell_type": "code"
   },
   "outputs": [],
   "execution_count": 32
  },
  {
   "cell_type": "markdown",
   "source": [
    "**Observations**\n",
    "- Ob 1\n",
    "- Ob 2\n",
    "- Ob 3"
   ],
   "metadata": {
    "cell_id": "519d71f9a0c94ae3b52d04713680e2d0",
    "deepnote_cell_type": "markdown"
   }
  },
  {
   "cell_type": "markdown",
   "source": [
    "---"
   ],
   "metadata": {
    "cell_id": "9ed14056610a4431a33549f334ca4373",
    "deepnote_cell_type": "markdown"
   }
  },
  {
   "cell_type": "markdown",
   "source": [
    "# 5"
   ],
   "metadata": {
    "cell_id": "363f7d89c38d4329981494d8e46aa259",
    "deepnote_cell_type": "markdown"
   }
  },
  {
   "cell_type": "markdown",
   "source": [
    "## Conclusion\n",
    "\n",
    "### Insights \n",
    "State the insights/outcomes of your project or notebook."
   ],
   "metadata": {
    "cell_id": "c50a92f03c394aa69cc435090e3f6f56",
    "deepnote_cell_type": "markdown"
   }
  },
  {
   "cell_type": "markdown",
   "source": [
    "### Suggestions\n",
    "\n",
    "Make suggestions based on insights."
   ],
   "metadata": {
    "cell_id": "49f7130037184208ae6b4fe2ec9a9268",
    "deepnote_cell_type": "markdown"
   }
  },
  {
   "cell_type": "markdown",
   "source": [
    "### Possible Next Steps\n",
    "Areas to expand on:\n",
    "- (if there is any)"
   ],
   "metadata": {
    "cell_id": "727f036ec033469780c596e0b1ddbd82",
    "deepnote_cell_type": "markdown"
   }
  },
  {
   "cell_type": "markdown",
   "source": [
    "---"
   ],
   "metadata": {
    "cell_id": "44a747a8bb7d4e8faa57eb77012199c0",
    "deepnote_cell_type": "markdown"
   }
  },
  {
   "cell_type": "markdown",
   "source": [
    "# 6"
   ],
   "metadata": {
    "cell_id": "dd7702901c1249efb97b7686138360a1",
    "deepnote_cell_type": "markdown"
   }
  },
  {
   "cell_type": "markdown",
   "source": [
    "## Epilogue\n",
    "\n",
    "### References\n",
    "\n",
    "This is how we use inline citation[<sup id=\"fn1-back\">[1]</sup>](#fn1).\n",
    "\n",
    "[<span id=\"fn1\">1.</span>](#fn1-back) _Author (date)._ Title. Available at: https://website.com (Accessed: Date). \n",
    "\n",
    "> Use [https://www.citethisforme.com/](https://www.citethisforme.com/) to create citations."
   ],
   "metadata": {
    "cell_id": "3cfda3e06f4247cd810179189b9c4a00",
    "deepnote_cell_type": "markdown"
   }
  },
  {
   "cell_type": "markdown",
   "source": [
    "### Versioning\n",
    "Notebook and insights by (author).\n",
    "- Version: 1.5.0\n",
    "- Date: 2023-05-15"
   ],
   "metadata": {
    "cell_id": "ebb51cba0a4846cd9056b8da1caced2b",
    "deepnote_cell_type": "markdown"
   }
  },
  {
   "cell_type": "markdown",
   "source": [
    "<a style='text-decoration:none;line-height:16px;display:flex;color:#5B5B62;padding:10px;justify-content:end;' href='https://deepnote.com?utm_source=created-in-deepnote-cell&projectId=b689e16b-e36c-4f8c-b17a-b3e876352669' target=\"_blank\">\n",
    "<img alt='Created in deepnote.com' style='display:inline;max-height:16px;margin:0px;margin-right:7.5px;' src='data:image/svg+xml;base64,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' > </img>\n",
    "Created in <span style='font-weight:600;margin-left:4px;'>Deepnote</span></a>"
   ],
   "metadata": {
    "created_in_deepnote_cell": true,
    "deepnote_cell_type": "markdown"
   }
  }
 ],
 "nbformat": 4,
 "nbformat_minor": 0,
 "metadata": {
  "vscode": {
   "interpreter": {
    "hash": "fafc50dc8a0fe30378212a6e8a815037b6b7ff0aadeb98c480725f88009956fb"
   }
  },
  "deepnote": {},
  "kernelspec": {
   "name": "python3",
   "language": "python",
   "display_name": "base"
  },
  "language_info": {
   "name": "python",
   "version": "3.9.15",
   "mimetype": "text/x-python",
   "file_extension": ".py",
   "pygments_lexer": "ipython3",
   "codemirror_mode": {
    "name": "ipython",
    "version": 3
   },
   "nbconvert_exporter": "python"
  },
  "deepnote_notebook_id": "8d49e53e32e14bc390f58737ab18c268",
  "deepnote_execution_queue": [],
  "deepnote_persisted_session": {
   "createdAt": "2023-04-06T16:20:59.951Z"
  }
 }
}
