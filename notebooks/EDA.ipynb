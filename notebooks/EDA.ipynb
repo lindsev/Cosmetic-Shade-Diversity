{
 "cells": [
  {
   "cell_type": "markdown",
   "source": [
    "# Foundation Shade Diversity"
   ],
   "metadata": {
    "cell_id": "dea50a85adce443584ffb42b3efa546f",
    "deepnote_cell_type": "markdown"
   }
  },
  {
   "cell_type": "markdown",
   "source": [
    "## Table of Contents\n",
    "\n",
    "1. [**Introduction**](Introduction)\n",
    "    - Project Description\n",
    "    - Data Description\n",
    "2. [**Acquiring and Loading Data**](#2)\n",
    "\t- Importing Libraries and Notebook Setup\n",
    "    - Loading Data\n",
    "    - Basic Data Exploration\n",
    "    - Areas to Fix\n",
    "3. [**Data Proprocessing**](#3)\n",
    "4. [**Data Analysis**](#4)\n",
    "5. [**Conclusion**](#5)\n",
    "    - Insights\n",
    "    - Suggestions\n",
    "    - Possible Next Steps\n",
    "6. [**Epilogue**](#6) \n",
    "    - References\n",
    "    - Versioning"
   ],
   "metadata": {
    "cell_id": "e33a18bf99fb45fd9732a2c0f40a47ef",
    "deepnote_cell_type": "markdown"
   }
  },
  {
   "cell_type": "markdown",
   "source": [
    "## Introduction\n",
    "\n",
    "### Project Description\n",
    "\n",
    "**Goal/Purpose:** \n",
    "\n",
    "In this EDA notebook, we aim to explore the diversity of foundation shades in makeup products. We will analyze a dataset of makeup products and their corresponding shades to gain insights into the range and inclusivity of shades offered by different brands. By visualizing the data and conducting statistical analyses, we seek to provide a comprehensive understanding of foundation shade diversity in the cosmetics industry.\n",
    "<p>&nbsp;</p>\n",
    "\n",
    "**Questions to be Answered:**\n",
    "\n",
    "1. What is the distribution of foundation shades across different brands and product lines?\n",
    "    - Are some brands more diverse in their shade offerings compared to others?\n",
    "2. How does foundation shade diversity vary across price points and product types?\n",
    "    - Do high-end brands offer a wider range of shades compared to budget-friendly brands?\n",
    "3. Is there evidence of inclusivity in foundation shades for various skin tones?\n",
    "    - What is the representation of shades for fair, medium, and dark skin tones?\n",
    "    - Are there gaps in shade options for specific skin tones, and if so, which brands are addressing these gaps?\n",
    "\n",
    " \n",
    "\n",
    "<p>&nbsp;</p>\n",
    "\n",
    "**Assumptions/Methodology/Scope:** \n",
    "\n",
    "Briefly describe assumptions, processing steps, and the scope of this project.\n",
    "\n",
    "<p>&nbsp;</p>\n",
    "\n",
    "### Data Description\n",
    "\n",
    "**Content:** \n",
    "\n",
    "This dataset is a _(filetype) file of _(how many) data points which contains ___. \n",
    "\n",
    "<p>&nbsp;</p>\n",
    "\n",
    "**Description of Attributes:** \n",
    "\n",
    "\n",
    "\n",
    "| Column  | Description |\n",
    "| :------ | :---------- |\n",
    "| column1 | description1 |\n",
    "\n",
    "<p>&nbsp;</p>\n",
    "\n",
    "**Acknowledgements:** \n",
    "\n",
    "This dataset is provided by _(. The original dataset was scraped by _) and the original source can be found on [website](https://website.link)."
   ],
   "metadata": {
    "collapsed": false
   }
  },
  {
   "cell_type": "markdown",
   "source": [
    "---"
   ],
   "metadata": {
    "cell_id": "902dd7f04d87465ebaa929248fbc8aae",
    "deepnote_cell_type": "markdown"
   }
  },
  {
   "cell_type": "markdown",
   "source": [
    "## Acquiring and Loading Data\n",
    "### Importing Libraries and Notebook Setup"
   ],
   "metadata": {
    "cell_id": "66ecdc87fd09411e988c940de5fe5003",
    "deepnote_cell_type": "markdown"
   }
  },
  {
   "cell_type": "code",
   "source": [
    "# Data manipulation\n",
    "import numpy as np\n",
    "import pandas as pd\n",
    "from unidecode import unidecode\n",
    "# Visualizations\n",
    "import plotly.express as px\n",
    "\n",
    "#Preliminary Data Exploration\n",
    "import exploration_helpers as eh\n"
   ],
   "metadata": {
    "cell_id": "7652fdf0134f4d6091689d0ca0fdf2e5",
    "source_hash": "ab774905",
    "execution_start": 1684082032937,
    "execution_millis": 1489,
    "deepnote_to_be_reexecuted": false,
    "deepnote_cell_type": "code",
    "ExecuteTime": {
     "end_time": "2023-11-21T02:06:05.507045700Z",
     "start_time": "2023-11-21T02:06:04.843633800Z"
    }
   },
   "outputs": [],
   "execution_count": 2
  },
  {
   "cell_type": "markdown",
   "source": [
    "### Loading Data"
   ],
   "metadata": {
    "cell_id": "5a64877afc224dccbfb11b10f59221fd",
    "deepnote_cell_type": "markdown"
   }
  },
  {
   "cell_type": "code",
   "source": [
    "# Loading All Shades Dataframe\n",
    "all_shades = pd.read_csv('../datasets/allShades.csv', usecols=['brand','product','description','name','specific','hex']) # Only keeping features for our purpose"
   ],
   "metadata": {
    "cell_id": "310231887a074cabb1ba7abea7b991bf",
    "source_hash": "2a9d8eee",
    "execution_start": 1684082034439,
    "execution_millis": 1,
    "deepnote_to_be_reexecuted": false,
    "deepnote_cell_type": "code",
    "ExecuteTime": {
     "end_time": "2023-11-21T02:06:05.550421400Z",
     "start_time": "2023-11-21T02:06:05.508061300Z"
    }
   },
   "outputs": [],
   "execution_count": 3
  },
  {
   "cell_type": "markdown",
   "source": [],
   "metadata": {
    "collapsed": false
   }
  },
  {
   "cell_type": "markdown",
   "source": [
    "## Basic Data Exploration"
   ],
   "metadata": {
    "collapsed": false
   }
  },
  {
   "cell_type": "markdown",
   "source": [
    "### All Shades"
   ],
   "metadata": {
    "collapsed": false
   }
  },
  {
   "cell_type": "code",
   "execution_count": 4,
   "outputs": [
    {
     "name": "stdout",
     "output_type": "stream",
     "text": [
      "<class 'pandas.core.frame.DataFrame'>\n",
      "RangeIndex: 6816 entries, 0 to 6815\n",
      "Data columns (total 6 columns):\n",
      " #   Column       Non-Null Count  Dtype \n",
      "---  ------       --------------  ----- \n",
      " 0   brand        6816 non-null   object\n",
      " 1   product      6816 non-null   object\n",
      " 2   description  6816 non-null   object\n",
      " 3   name         4955 non-null   object\n",
      " 4   specific     4905 non-null   object\n",
      " 5   hex          6816 non-null   object\n",
      "dtypes: object(6)\n",
      "memory usage: 319.6+ KB\n"
     ]
    },
    {
     "data": {
      "text/plain": "                  brand                                            product  \\\n2872              Tarte  Babassu Foundcealer Skincare Foundation Broad ...   \n1345          Too Faced  Born This Way Undetectable Medium-to-Full Cove...   \n3353             Morphe                       Morphe 2 Hint Hint Skin Tint   \n1653  Makeup Revolution          Conceal & Define Full Coverage Foundation   \n3216             Milani                            Screen Queen Foundation   \n5069   PAT McGRATH LABS                      Sublime Perfection Foundation   \n1934           Clinique           Even Better Makeup Broad Spectrum SPF 15   \n5984           TOM FORD                         Traceless Foundation Stick   \n1149            L'Oréal  Infallible 24HR Fresh Wear Foundation In A Powder   \n1630   e.l.f. Cosmetics                         Flawless Finish Foundation   \n\n                                            description               name  \\\n2872     14S Fair Sand (fair skin w/ yellow undertones)          Fair Sand   \n1345          Light Beige (light w/ neutral undertones)        Light Beige   \n3353  Hint of Toffee (medium tan with neutral pink u...     Hint of Toffee   \n1653  F0.2 (for fairest skin tones w/ a light yellow...                NaN   \n3216                                      Spiced Toffee      Spiced Toffee   \n5069  Medium Deep 23 medium deep with yellow undertones        Medium Deep   \n1934  WN 76 Toasted Wheat (medium, warm-neutral unde...      Toasted Wheat   \n5984                                     3.5 Ivory Rose         Ivory Rose   \n1149                                         Ivory Buff         Ivory Buff   \n1630  Tan ((tan with cool pink undertones) Online Only)  Tan  Online Only)   \n\n     specific      hex  \n2872      14S  #EBCDAF  \n1345      NaN  #D7B586  \n3353      NaN  #E7AC89  \n1653     F0.2  #E1CDAA  \n3216      NaN  #995E2D  \n5069       23  #AF7A4F  \n1934    WN 76  #C99567  \n5984      3.5  #F6CDB5  \n1149      NaN  #EBC99E  \n1630      NaN  #DFAB78  ",
      "text/html": "<div>\n<style scoped>\n    .dataframe tbody tr th:only-of-type {\n        vertical-align: middle;\n    }\n\n    .dataframe tbody tr th {\n        vertical-align: top;\n    }\n\n    .dataframe thead th {\n        text-align: right;\n    }\n</style>\n<table border=\"1\" class=\"dataframe\">\n  <thead>\n    <tr style=\"text-align: right;\">\n      <th></th>\n      <th>brand</th>\n      <th>product</th>\n      <th>description</th>\n      <th>name</th>\n      <th>specific</th>\n      <th>hex</th>\n    </tr>\n  </thead>\n  <tbody>\n    <tr>\n      <th>2872</th>\n      <td>Tarte</td>\n      <td>Babassu Foundcealer Skincare Foundation Broad ...</td>\n      <td>14S Fair Sand (fair skin w/ yellow undertones)</td>\n      <td>Fair Sand</td>\n      <td>14S</td>\n      <td>#EBCDAF</td>\n    </tr>\n    <tr>\n      <th>1345</th>\n      <td>Too Faced</td>\n      <td>Born This Way Undetectable Medium-to-Full Cove...</td>\n      <td>Light Beige (light w/ neutral undertones)</td>\n      <td>Light Beige</td>\n      <td>NaN</td>\n      <td>#D7B586</td>\n    </tr>\n    <tr>\n      <th>3353</th>\n      <td>Morphe</td>\n      <td>Morphe 2 Hint Hint Skin Tint</td>\n      <td>Hint of Toffee (medium tan with neutral pink u...</td>\n      <td>Hint of Toffee</td>\n      <td>NaN</td>\n      <td>#E7AC89</td>\n    </tr>\n    <tr>\n      <th>1653</th>\n      <td>Makeup Revolution</td>\n      <td>Conceal &amp; Define Full Coverage Foundation</td>\n      <td>F0.2 (for fairest skin tones w/ a light yellow...</td>\n      <td>NaN</td>\n      <td>F0.2</td>\n      <td>#E1CDAA</td>\n    </tr>\n    <tr>\n      <th>3216</th>\n      <td>Milani</td>\n      <td>Screen Queen Foundation</td>\n      <td>Spiced Toffee</td>\n      <td>Spiced Toffee</td>\n      <td>NaN</td>\n      <td>#995E2D</td>\n    </tr>\n    <tr>\n      <th>5069</th>\n      <td>PAT McGRATH LABS</td>\n      <td>Sublime Perfection Foundation</td>\n      <td>Medium Deep 23 medium deep with yellow undertones</td>\n      <td>Medium Deep</td>\n      <td>23</td>\n      <td>#AF7A4F</td>\n    </tr>\n    <tr>\n      <th>1934</th>\n      <td>Clinique</td>\n      <td>Even Better Makeup Broad Spectrum SPF 15</td>\n      <td>WN 76 Toasted Wheat (medium, warm-neutral unde...</td>\n      <td>Toasted Wheat</td>\n      <td>WN 76</td>\n      <td>#C99567</td>\n    </tr>\n    <tr>\n      <th>5984</th>\n      <td>TOM FORD</td>\n      <td>Traceless Foundation Stick</td>\n      <td>3.5 Ivory Rose</td>\n      <td>Ivory Rose</td>\n      <td>3.5</td>\n      <td>#F6CDB5</td>\n    </tr>\n    <tr>\n      <th>1149</th>\n      <td>L'Oréal</td>\n      <td>Infallible 24HR Fresh Wear Foundation In A Powder</td>\n      <td>Ivory Buff</td>\n      <td>Ivory Buff</td>\n      <td>NaN</td>\n      <td>#EBC99E</td>\n    </tr>\n    <tr>\n      <th>1630</th>\n      <td>e.l.f. Cosmetics</td>\n      <td>Flawless Finish Foundation</td>\n      <td>Tan ((tan with cool pink undertones) Online Only)</td>\n      <td>Tan  Online Only)</td>\n      <td>NaN</td>\n      <td>#DFAB78</td>\n    </tr>\n  </tbody>\n</table>\n</div>"
     },
     "execution_count": 4,
     "metadata": {},
     "output_type": "execute_result"
    }
   ],
   "source": [
    "# Retrieving general info and sample of 'all_shades' DataFrame\n",
    "all_shades.info()\n",
    "all_shades.sample(10)"
   ],
   "metadata": {
    "collapsed": false,
    "ExecuteTime": {
     "end_time": "2023-11-21T02:06:05.569021100Z",
     "start_time": "2023-11-21T02:06:05.538420600Z"
    }
   }
  },
  {
   "cell_type": "markdown",
   "source": [],
   "metadata": {
    "collapsed": false
   }
  },
  {
   "cell_type": "code",
   "execution_count": 5,
   "outputs": [
    {
     "name": "stdout",
     "output_type": "stream",
     "text": [
      "---- Percentage Similarity of Values (%) -----\n",
      "brand          0.934579\n",
      "product        0.304878\n",
      "name           0.081900\n",
      "specific       0.058038\n",
      "description    0.017784\n",
      "hex            0.015990\n",
      "dtype: float64\n"
     ]
    }
   ],
   "source": [
    "# # Print the percentage similarity of values (the lower %, the better)\n",
    "num_unique = all_shades.nunique().sort_values()\n",
    "print('---- Percentage Similarity of Values (%) -----')\n",
    "print(100/num_unique)"
   ],
   "metadata": {
    "collapsed": false,
    "ExecuteTime": {
     "end_time": "2023-11-21T02:06:05.570018300Z",
     "start_time": "2023-11-21T02:06:05.559659800Z"
    }
   }
  },
  {
   "cell_type": "code",
   "execution_count": 6,
   "outputs": [
    {
     "data": {
      "text/plain": "               brand                             product description     name  \\\ncount           6816                                6816        6816     4955   \nunique           107                                 328        5623     1221   \ntop     bareMinerals  Studio Fix Fluid SPF 15 Foundation       Light  Neutral   \nfreq             370                                  63          16      137   \n\n       specific      hex  \ncount      4905     6816  \nunique     1723     6254  \ntop           2  #F9F9F9  \nfreq         60        6  ",
      "text/html": "<div>\n<style scoped>\n    .dataframe tbody tr th:only-of-type {\n        vertical-align: middle;\n    }\n\n    .dataframe tbody tr th {\n        vertical-align: top;\n    }\n\n    .dataframe thead th {\n        text-align: right;\n    }\n</style>\n<table border=\"1\" class=\"dataframe\">\n  <thead>\n    <tr style=\"text-align: right;\">\n      <th></th>\n      <th>brand</th>\n      <th>product</th>\n      <th>description</th>\n      <th>name</th>\n      <th>specific</th>\n      <th>hex</th>\n    </tr>\n  </thead>\n  <tbody>\n    <tr>\n      <th>count</th>\n      <td>6816</td>\n      <td>6816</td>\n      <td>6816</td>\n      <td>4955</td>\n      <td>4905</td>\n      <td>6816</td>\n    </tr>\n    <tr>\n      <th>unique</th>\n      <td>107</td>\n      <td>328</td>\n      <td>5623</td>\n      <td>1221</td>\n      <td>1723</td>\n      <td>6254</td>\n    </tr>\n    <tr>\n      <th>top</th>\n      <td>bareMinerals</td>\n      <td>Studio Fix Fluid SPF 15 Foundation</td>\n      <td>Light</td>\n      <td>Neutral</td>\n      <td>2</td>\n      <td>#F9F9F9</td>\n    </tr>\n    <tr>\n      <th>freq</th>\n      <td>370</td>\n      <td>63</td>\n      <td>16</td>\n      <td>137</td>\n      <td>60</td>\n      <td>6</td>\n    </tr>\n  </tbody>\n</table>\n</div>"
     },
     "execution_count": 6,
     "metadata": {},
     "output_type": "execute_result"
    }
   ],
   "source": [
    "# Viewing summary statistics\n",
    "all_shades.describe(include='all')\n"
   ],
   "metadata": {
    "collapsed": false,
    "ExecuteTime": {
     "end_time": "2023-11-21T02:06:05.650920400Z",
     "start_time": "2023-11-21T02:06:05.570018300Z"
    }
   }
  },
  {
   "cell_type": "markdown",
   "source": [
    "#### Missing Data"
   ],
   "metadata": {
    "collapsed": false
   }
  },
  {
   "cell_type": "code",
   "execution_count": 7,
   "outputs": [
    {
     "name": "stdout",
     "output_type": "stream",
     "text": [
      "---- Percentage of Missing Values (%) ----- \n",
      "specific    28.036972\n",
      "name        27.303404\n",
      "dtype: float64\n",
      "---- Number of Missing Shade Values (%) ----- \n",
      "specific    1911\n",
      "name        1861\n",
      "dtype: int64\n"
     ]
    }
   ],
   "source": [
    "# Checking 'all_shades' dataframe for missing values using missing_values()\n",
    "missing_shade_percent, missing_shade_total = eh.missing_values(all_shades)"
   ],
   "metadata": {
    "collapsed": false,
    "ExecuteTime": {
     "end_time": "2023-11-21T02:06:05.651890100Z",
     "start_time": "2023-11-21T02:06:05.589069Z"
    }
   }
  },
  {
   "cell_type": "code",
   "execution_count": 8,
   "outputs": [
    {
     "data": {
      "text/plain": "                                                                                                   brand  \\\nbrand                   product                                                                            \nAnastasia Beverly Hills Luminous Foundation                                47    Anastasia Beverly Hills   \nArmani Beauty           Designer Lift Smoothing Firming Full Coverage F... 6188            Armani Beauty   \n                        Luminous Silk Compact Powder Foundation            6161            Armani Beauty   \n                        Luminous Silk Perfect Glow Flawless Oil-Free Fo... 4122            Armani Beauty   \n                        Maestro Fusion Makeup SPF 15 Liquid Foundation     6734            Armani Beauty   \n...                                                                                                  ...   \nYves Saint Laurent      Touche Eclat Le Teint Radiant Liquid Foundation    5799       Yves Saint Laurent   \nflorence by mills       Like a Light Skin Tint                             3153        florence by mills   \njane iredale            Beyond Matte Liquid Foundation                     1787             jane iredale   \nrms beauty              \"Un\" Cover-Up Cream Foundation                     6531               rms beauty   \n                        \"Un\" Cover-up Concealer                            5649               rms beauty   \n\n                                                                                                                           product  \\\nbrand                   product                                                                                                      \nAnastasia Beverly Hills Luminous Foundation                                47                                  Luminous Foundation   \nArmani Beauty           Designer Lift Smoothing Firming Full Coverage F... 6188  Designer Lift Smoothing Firming Full Coverage ...   \n                        Luminous Silk Compact Powder Foundation            6161            Luminous Silk Compact Powder Foundation   \n                        Luminous Silk Perfect Glow Flawless Oil-Free Fo... 4122  Luminous Silk Perfect Glow Flawless Oil-Free F...   \n                        Maestro Fusion Makeup SPF 15 Liquid Foundation     6734     Maestro Fusion Makeup SPF 15 Liquid Foundation   \n...                                                                                                                            ...   \nYves Saint Laurent      Touche Eclat Le Teint Radiant Liquid Foundation    5799    Touche Eclat Le Teint Radiant Liquid Foundation   \nflorence by mills       Like a Light Skin Tint                             3153                             Like a Light Skin Tint   \njane iredale            Beyond Matte Liquid Foundation                     1787                     Beyond Matte Liquid Foundation   \nrms beauty              \"Un\" Cover-Up Cream Foundation                     6531                     \"Un\" Cover-Up Cream Foundation   \n                        \"Un\" Cover-up Concealer                            5649                            \"Un\" Cover-up Concealer   \n\n                                                                                                                     description  \\\nbrand                   product                                                                                                    \nAnastasia Beverly Hills Luminous Foundation                                47      570N (deep skin with a neutral red undertone)   \nArmani Beauty           Designer Lift Smoothing Firming Full Coverage F... 6188      5.5 for medium skin with neutral undertones   \n                        Luminous Silk Compact Powder Foundation            6161  4.5 light to medium skin with neutral undertone   \n                        Luminous Silk Perfect Glow Flawless Oil-Free Fo... 4122                       6.25 medium to tan, golden   \n                        Maestro Fusion Makeup SPF 15 Liquid Foundation     6734      2 fair skin with warm undertone  - Selected   \n...                                                                                                                          ...   \nYves Saint Laurent      Touche Eclat Le Teint Radiant Liquid Foundation    5799                     B45 Medium neutral undertone   \nflorence by mills       Like a Light Skin Tint                             3153                F020 (fair w/ neutral undertones)   \njane iredale            Beyond Matte Liquid Foundation                     1787                              M8 (medium neutral)   \nrms beauty              \"Un\" Cover-Up Cream Foundation                     6531                   00 a light shade for fair skin   \n                        \"Un\" Cover-up Concealer                            5649                                   88 rich auburn   \n\n                                                                                name  \\\nbrand                   product                                                        \nAnastasia Beverly Hills Luminous Foundation                                47    NaN   \nArmani Beauty           Designer Lift Smoothing Firming Full Coverage F... 6188  NaN   \n                        Luminous Silk Compact Powder Foundation            6161  NaN   \n                        Luminous Silk Perfect Glow Flawless Oil-Free Fo... 4122  NaN   \n                        Maestro Fusion Makeup SPF 15 Liquid Foundation     6734  NaN   \n...                                                                              ...   \nYves Saint Laurent      Touche Eclat Le Teint Radiant Liquid Foundation    5799  NaN   \nflorence by mills       Like a Light Skin Tint                             3153  NaN   \njane iredale            Beyond Matte Liquid Foundation                     1787  NaN   \nrms beauty              \"Un\" Cover-Up Cream Foundation                     6531  NaN   \n                        \"Un\" Cover-up Concealer                            5649  NaN   \n\n                                                                                specific  \\\nbrand                   product                                                            \nAnastasia Beverly Hills Luminous Foundation                                47       570N   \nArmani Beauty           Designer Lift Smoothing Firming Full Coverage F... 6188      5.5   \n                        Luminous Silk Compact Powder Foundation            6161      4.5   \n                        Luminous Silk Perfect Glow Flawless Oil-Free Fo... 4122     6.25   \n                        Maestro Fusion Makeup SPF 15 Liquid Foundation     6734        2   \n...                                                                                  ...   \nYves Saint Laurent      Touche Eclat Le Teint Radiant Liquid Foundation    5799      B45   \nflorence by mills       Like a Light Skin Tint                             3153     F020   \njane iredale            Beyond Matte Liquid Foundation                     1787       M8   \nrms beauty              \"Un\" Cover-Up Cream Foundation                     6531       00   \n                        \"Un\" Cover-up Concealer                            5649       88   \n\n                                                                                     hex  \nbrand                   product                                                           \nAnastasia Beverly Hills Luminous Foundation                                47    #452A21  \nArmani Beauty           Designer Lift Smoothing Firming Full Coverage F... 6188  #DCA771  \n                        Luminous Silk Compact Powder Foundation            6161  #DAB59D  \n                        Luminous Silk Perfect Glow Flawless Oil-Free Fo... 4122  #D9A67D  \n                        Maestro Fusion Makeup SPF 15 Liquid Foundation     6734  #D8B28D  \n...                                                                                  ...  \nYves Saint Laurent      Touche Eclat Le Teint Radiant Liquid Foundation    5799  #C0A18C  \nflorence by mills       Like a Light Skin Tint                             3153  #F4B68A  \njane iredale            Beyond Matte Liquid Foundation                     1787  #D7995D  \nrms beauty              \"Un\" Cover-Up Cream Foundation                     6531  #F9D8C5  \n                        \"Un\" Cover-up Concealer                            5649  #AF7954  \n\n[74 rows x 6 columns]",
      "text/html": "<div>\n<style scoped>\n    .dataframe tbody tr th:only-of-type {\n        vertical-align: middle;\n    }\n\n    .dataframe tbody tr th {\n        vertical-align: top;\n    }\n\n    .dataframe thead th {\n        text-align: right;\n    }\n</style>\n<table border=\"1\" class=\"dataframe\">\n  <thead>\n    <tr style=\"text-align: right;\">\n      <th></th>\n      <th></th>\n      <th></th>\n      <th>brand</th>\n      <th>product</th>\n      <th>description</th>\n      <th>name</th>\n      <th>specific</th>\n      <th>hex</th>\n    </tr>\n    <tr>\n      <th>brand</th>\n      <th>product</th>\n      <th></th>\n      <th></th>\n      <th></th>\n      <th></th>\n      <th></th>\n      <th></th>\n      <th></th>\n    </tr>\n  </thead>\n  <tbody>\n    <tr>\n      <th>Anastasia Beverly Hills</th>\n      <th>Luminous Foundation</th>\n      <th>47</th>\n      <td>Anastasia Beverly Hills</td>\n      <td>Luminous Foundation</td>\n      <td>570N (deep skin with a neutral red undertone)</td>\n      <td>NaN</td>\n      <td>570N</td>\n      <td>#452A21</td>\n    </tr>\n    <tr>\n      <th rowspan=\"4\" valign=\"top\">Armani Beauty</th>\n      <th>Designer Lift Smoothing Firming Full Coverage Foundation with SPF 20</th>\n      <th>6188</th>\n      <td>Armani Beauty</td>\n      <td>Designer Lift Smoothing Firming Full Coverage ...</td>\n      <td>5.5 for medium skin with neutral undertones</td>\n      <td>NaN</td>\n      <td>5.5</td>\n      <td>#DCA771</td>\n    </tr>\n    <tr>\n      <th>Luminous Silk Compact Powder Foundation</th>\n      <th>6161</th>\n      <td>Armani Beauty</td>\n      <td>Luminous Silk Compact Powder Foundation</td>\n      <td>4.5 light to medium skin with neutral undertone</td>\n      <td>NaN</td>\n      <td>4.5</td>\n      <td>#DAB59D</td>\n    </tr>\n    <tr>\n      <th>Luminous Silk Perfect Glow Flawless Oil-Free Foundation</th>\n      <th>4122</th>\n      <td>Armani Beauty</td>\n      <td>Luminous Silk Perfect Glow Flawless Oil-Free F...</td>\n      <td>6.25 medium to tan, golden</td>\n      <td>NaN</td>\n      <td>6.25</td>\n      <td>#D9A67D</td>\n    </tr>\n    <tr>\n      <th>Maestro Fusion Makeup SPF 15 Liquid Foundation</th>\n      <th>6734</th>\n      <td>Armani Beauty</td>\n      <td>Maestro Fusion Makeup SPF 15 Liquid Foundation</td>\n      <td>2 fair skin with warm undertone  - Selected</td>\n      <td>NaN</td>\n      <td>2</td>\n      <td>#D8B28D</td>\n    </tr>\n    <tr>\n      <th>...</th>\n      <th>...</th>\n      <th>...</th>\n      <td>...</td>\n      <td>...</td>\n      <td>...</td>\n      <td>...</td>\n      <td>...</td>\n      <td>...</td>\n    </tr>\n    <tr>\n      <th>Yves Saint Laurent</th>\n      <th>Touche Eclat Le Teint Radiant Liquid Foundation</th>\n      <th>5799</th>\n      <td>Yves Saint Laurent</td>\n      <td>Touche Eclat Le Teint Radiant Liquid Foundation</td>\n      <td>B45 Medium neutral undertone</td>\n      <td>NaN</td>\n      <td>B45</td>\n      <td>#C0A18C</td>\n    </tr>\n    <tr>\n      <th>florence by mills</th>\n      <th>Like a Light Skin Tint</th>\n      <th>3153</th>\n      <td>florence by mills</td>\n      <td>Like a Light Skin Tint</td>\n      <td>F020 (fair w/ neutral undertones)</td>\n      <td>NaN</td>\n      <td>F020</td>\n      <td>#F4B68A</td>\n    </tr>\n    <tr>\n      <th>jane iredale</th>\n      <th>Beyond Matte Liquid Foundation</th>\n      <th>1787</th>\n      <td>jane iredale</td>\n      <td>Beyond Matte Liquid Foundation</td>\n      <td>M8 (medium neutral)</td>\n      <td>NaN</td>\n      <td>M8</td>\n      <td>#D7995D</td>\n    </tr>\n    <tr>\n      <th rowspan=\"2\" valign=\"top\">rms beauty</th>\n      <th>\"Un\" Cover-Up Cream Foundation</th>\n      <th>6531</th>\n      <td>rms beauty</td>\n      <td>\"Un\" Cover-Up Cream Foundation</td>\n      <td>00 a light shade for fair skin</td>\n      <td>NaN</td>\n      <td>00</td>\n      <td>#F9D8C5</td>\n    </tr>\n    <tr>\n      <th>\"Un\" Cover-up Concealer</th>\n      <th>5649</th>\n      <td>rms beauty</td>\n      <td>\"Un\" Cover-up Concealer</td>\n      <td>88 rich auburn</td>\n      <td>NaN</td>\n      <td>88</td>\n      <td>#AF7954</td>\n    </tr>\n  </tbody>\n</table>\n<p>74 rows × 6 columns</p>\n</div>"
     },
     "execution_count": 8,
     "metadata": {},
     "output_type": "execute_result"
    }
   ],
   "source": [
    "# Investigating missing data in 'all_shades' DataFrame\n",
    "\n",
    "#Vewing missing values in the 'name' column\n",
    "missing_names = all_shades['name'].isnull()\n",
    "all_shades[missing_names].groupby(['brand','product']).apply(lambda group: group.sample(1))"
   ],
   "metadata": {
    "collapsed": false,
    "ExecuteTime": {
     "end_time": "2023-11-21T02:06:05.710345800Z",
     "start_time": "2023-11-21T02:06:05.594793700Z"
    }
   }
  },
  {
   "cell_type": "code",
   "execution_count": 9,
   "outputs": [
    {
     "data": {
      "text/plain": "                                                                                               brand  \\\nbrand                   product                                                                        \nAlmay                   Smart Shade Skintone Matching Makeup           2519                    Almay   \nAnastasia Beverly Hills Stick Foundation                               6167  Anastasia Beverly Hills   \nAntonym                 Certified Organic Baked Foundation             6812                  Antonym   \n                        Skin Esteem Organic Liquid Foundation          6742                  Antonym   \nAu Naturale             Creme Starter Kit                              3946              Au Naturale   \n...                                                                                              ...   \nboscia                  Skin Perfecting BB Cream Broad Spectrum SPF 30 6703                   boscia   \ne.l.f. Cosmetics        Flawless Finish Foundation                     1625         e.l.f. Cosmetics   \njane iredale            Liquid Minerals A Foundation                   3593             jane iredale   \n                        PurePressed Base Mineral Foundation Refill     1314             jane iredale   \nlilah b.                Marvelous Matte™ Crème Foundation              6714                 lilah b.   \n\n                                                                                                                    product  \\\nbrand                   product                                                                                               \nAlmay                   Smart Shade Skintone Matching Makeup           2519            Smart Shade Skintone Matching Makeup   \nAnastasia Beverly Hills Stick Foundation                               6167                                Stick Foundation   \nAntonym                 Certified Organic Baked Foundation             6812              Certified Organic Baked Foundation   \n                        Skin Esteem Organic Liquid Foundation          6742           Skin Esteem Organic Liquid Foundation   \nAu Naturale             Creme Starter Kit                              3946                               Creme Starter Kit   \n...                                                                                                                     ...   \nboscia                  Skin Perfecting BB Cream Broad Spectrum SPF 30 6703  Skin Perfecting BB Cream Broad Spectrum SPF 30   \ne.l.f. Cosmetics        Flawless Finish Foundation                     1625                      Flawless Finish Foundation   \njane iredale            Liquid Minerals A Foundation                   3593                    Liquid Minerals A Foundation   \n                        PurePressed Base Mineral Foundation Refill     1314      PurePressed Base Mineral Foundation Refill   \nlilah b.                Marvelous Matte™ Crème Foundation              6714               Marvelous Matte™ Crème Foundation   \n\n                                                                                                                   description  \\\nbrand                   product                                                                                                  \nAlmay                   Smart Shade Skintone Matching Makeup           2519                                             Medium   \nAnastasia Beverly Hills Stick Foundation                               6167            Banana highlight pale yellow - Selected   \nAntonym                 Certified Organic Baked Foundation             6812                                    Dark - Selected   \n                        Skin Esteem Organic Liquid Foundation          6742                                               Dark   \nAu Naturale             Creme Starter Kit                              3946                                             Medium   \n...                                                                                                                        ...   \nboscia                  Skin Perfecting BB Cream Broad Spectrum SPF 30 6703  Venice soft seashell with neutral undertons   ...   \ne.l.f. Cosmetics        Flawless Finish Foundation                     1625                  Buff (light w/ peachy undertones)   \njane iredale            Liquid Minerals A Foundation                   3593       Latte (medium dark w/ gold brown undertones)   \n                        PurePressed Base Mineral Foundation Refill     1314               Warm Silk (light w/ gold undertones)   \nlilah b.                Marvelous Matte™ Crème Foundation              6714                b. timeless dark w/ warm undertones   \n\n                                                                                   name  \\\nbrand                   product                                                           \nAlmay                   Smart Shade Skintone Matching Makeup           2519      Medium   \nAnastasia Beverly Hills Stick Foundation                               6167      Banana   \nAntonym                 Certified Organic Baked Foundation             6812        Dark   \n                        Skin Esteem Organic Liquid Foundation          6742        Dark   \nAu Naturale             Creme Starter Kit                              3946      Medium   \n...                                                                                 ...   \nboscia                  Skin Perfecting BB Cream Broad Spectrum SPF 30 6703      Venice   \ne.l.f. Cosmetics        Flawless Finish Foundation                     1625        Buff   \njane iredale            Liquid Minerals A Foundation                   3593       Latte   \n                        PurePressed Base Mineral Foundation Refill     1314   Warm Silk   \nlilah b.                Marvelous Matte™ Crème Foundation              6714  b timeless   \n\n                                                                            specific  \\\nbrand                   product                                                        \nAlmay                   Smart Shade Skintone Matching Makeup           2519      NaN   \nAnastasia Beverly Hills Stick Foundation                               6167      NaN   \nAntonym                 Certified Organic Baked Foundation             6812      NaN   \n                        Skin Esteem Organic Liquid Foundation          6742      NaN   \nAu Naturale             Creme Starter Kit                              3946      NaN   \n...                                                                              ...   \nboscia                  Skin Perfecting BB Cream Broad Spectrum SPF 30 6703      NaN   \ne.l.f. Cosmetics        Flawless Finish Foundation                     1625      NaN   \njane iredale            Liquid Minerals A Foundation                   3593      NaN   \n                        PurePressed Base Mineral Foundation Refill     1314      NaN   \nlilah b.                Marvelous Matte™ Crème Foundation              6714      NaN   \n\n                                                                                 hex  \nbrand                   product                                                       \nAlmay                   Smart Shade Skintone Matching Makeup           2519  #D2A28C  \nAnastasia Beverly Hills Stick Foundation                               6167  #DDAE8F  \nAntonym                 Certified Organic Baked Foundation             6812  #D39C7B  \n                        Skin Esteem Organic Liquid Foundation          6742  #B0867B  \nAu Naturale             Creme Starter Kit                              3946  #C29679  \n...                                                                              ...  \nboscia                  Skin Perfecting BB Cream Broad Spectrum SPF 30 6703  #E6C4AF  \ne.l.f. Cosmetics        Flawless Finish Foundation                     1625  #DDA978  \njane iredale            Liquid Minerals A Foundation                   3593  #DFAB79  \n                        PurePressed Base Mineral Foundation Refill     1314  #E2BF9B  \nlilah b.                Marvelous Matte™ Crème Foundation              6714  #C7A395  \n\n[130 rows x 6 columns]",
      "text/html": "<div>\n<style scoped>\n    .dataframe tbody tr th:only-of-type {\n        vertical-align: middle;\n    }\n\n    .dataframe tbody tr th {\n        vertical-align: top;\n    }\n\n    .dataframe thead th {\n        text-align: right;\n    }\n</style>\n<table border=\"1\" class=\"dataframe\">\n  <thead>\n    <tr style=\"text-align: right;\">\n      <th></th>\n      <th></th>\n      <th></th>\n      <th>brand</th>\n      <th>product</th>\n      <th>description</th>\n      <th>name</th>\n      <th>specific</th>\n      <th>hex</th>\n    </tr>\n    <tr>\n      <th>brand</th>\n      <th>product</th>\n      <th></th>\n      <th></th>\n      <th></th>\n      <th></th>\n      <th></th>\n      <th></th>\n      <th></th>\n    </tr>\n  </thead>\n  <tbody>\n    <tr>\n      <th>Almay</th>\n      <th>Smart Shade Skintone Matching Makeup</th>\n      <th>2519</th>\n      <td>Almay</td>\n      <td>Smart Shade Skintone Matching Makeup</td>\n      <td>Medium</td>\n      <td>Medium</td>\n      <td>NaN</td>\n      <td>#D2A28C</td>\n    </tr>\n    <tr>\n      <th>Anastasia Beverly Hills</th>\n      <th>Stick Foundation</th>\n      <th>6167</th>\n      <td>Anastasia Beverly Hills</td>\n      <td>Stick Foundation</td>\n      <td>Banana highlight pale yellow - Selected</td>\n      <td>Banana</td>\n      <td>NaN</td>\n      <td>#DDAE8F</td>\n    </tr>\n    <tr>\n      <th rowspan=\"2\" valign=\"top\">Antonym</th>\n      <th>Certified Organic Baked Foundation</th>\n      <th>6812</th>\n      <td>Antonym</td>\n      <td>Certified Organic Baked Foundation</td>\n      <td>Dark - Selected</td>\n      <td>Dark</td>\n      <td>NaN</td>\n      <td>#D39C7B</td>\n    </tr>\n    <tr>\n      <th>Skin Esteem Organic Liquid Foundation</th>\n      <th>6742</th>\n      <td>Antonym</td>\n      <td>Skin Esteem Organic Liquid Foundation</td>\n      <td>Dark</td>\n      <td>Dark</td>\n      <td>NaN</td>\n      <td>#B0867B</td>\n    </tr>\n    <tr>\n      <th>Au Naturale</th>\n      <th>Creme Starter Kit</th>\n      <th>3946</th>\n      <td>Au Naturale</td>\n      <td>Creme Starter Kit</td>\n      <td>Medium</td>\n      <td>Medium</td>\n      <td>NaN</td>\n      <td>#C29679</td>\n    </tr>\n    <tr>\n      <th>...</th>\n      <th>...</th>\n      <th>...</th>\n      <td>...</td>\n      <td>...</td>\n      <td>...</td>\n      <td>...</td>\n      <td>...</td>\n      <td>...</td>\n    </tr>\n    <tr>\n      <th>boscia</th>\n      <th>Skin Perfecting BB Cream Broad Spectrum SPF 30</th>\n      <th>6703</th>\n      <td>boscia</td>\n      <td>Skin Perfecting BB Cream Broad Spectrum SPF 30</td>\n      <td>Venice soft seashell with neutral undertons   ...</td>\n      <td>Venice</td>\n      <td>NaN</td>\n      <td>#E6C4AF</td>\n    </tr>\n    <tr>\n      <th>e.l.f. Cosmetics</th>\n      <th>Flawless Finish Foundation</th>\n      <th>1625</th>\n      <td>e.l.f. Cosmetics</td>\n      <td>Flawless Finish Foundation</td>\n      <td>Buff (light w/ peachy undertones)</td>\n      <td>Buff</td>\n      <td>NaN</td>\n      <td>#DDA978</td>\n    </tr>\n    <tr>\n      <th rowspan=\"2\" valign=\"top\">jane iredale</th>\n      <th>Liquid Minerals A Foundation</th>\n      <th>3593</th>\n      <td>jane iredale</td>\n      <td>Liquid Minerals A Foundation</td>\n      <td>Latte (medium dark w/ gold brown undertones)</td>\n      <td>Latte</td>\n      <td>NaN</td>\n      <td>#DFAB79</td>\n    </tr>\n    <tr>\n      <th>PurePressed Base Mineral Foundation Refill</th>\n      <th>1314</th>\n      <td>jane iredale</td>\n      <td>PurePressed Base Mineral Foundation Refill</td>\n      <td>Warm Silk (light w/ gold undertones)</td>\n      <td>Warm Silk</td>\n      <td>NaN</td>\n      <td>#E2BF9B</td>\n    </tr>\n    <tr>\n      <th>lilah b.</th>\n      <th>Marvelous Matte™ Crème Foundation</th>\n      <th>6714</th>\n      <td>lilah b.</td>\n      <td>Marvelous Matte™ Crème Foundation</td>\n      <td>b. timeless dark w/ warm undertones</td>\n      <td>b timeless</td>\n      <td>NaN</td>\n      <td>#C7A395</td>\n    </tr>\n  </tbody>\n</table>\n<p>130 rows × 6 columns</p>\n</div>"
     },
     "execution_count": 9,
     "metadata": {},
     "output_type": "execute_result"
    }
   ],
   "source": [
    "\n",
    "#Viewing missing values in 'specific' column\n",
    "missing_specifics = all_shades['specific'].isnull()\n",
    "all_shades[missing_specifics].groupby(['brand','product']).apply(lambda group: group.sample(1))\n"
   ],
   "metadata": {
    "collapsed": false,
    "ExecuteTime": {
     "end_time": "2023-11-21T02:06:05.749442100Z",
     "start_time": "2023-11-21T02:06:05.625886900Z"
    }
   }
  },
  {
   "cell_type": "markdown",
   "source": [
    "#### Duplicate Rows"
   ],
   "metadata": {
    "collapsed": false
   }
  },
  {
   "cell_type": "code",
   "execution_count": 9,
   "outputs": [],
   "source": [],
   "metadata": {
    "collapsed": false,
    "ExecuteTime": {
     "end_time": "2023-11-21T02:06:05.749442100Z",
     "start_time": "2023-11-21T02:06:05.669517300Z"
    }
   }
  },
  {
   "cell_type": "code",
   "execution_count": 10,
   "outputs": [
    {
     "data": {
      "text/plain": "array(['anastasia beverly hills', 'becca cosmetics', 'benefit cosmetics',\n       'it cosmetics', 'kvd vegan beauty', 'lancome', 'laura mercier',\n       'nars', 'nudestix', 'perricone md', 'smashbox', 'tarte',\n       'too faced', 'urban decay cosmetics', 'covergirl', 'ulta',\n       'j.cat beauty', 'catrice', 'blk/opl', 'maybelline', 'bareminerals',\n       'makeup revolution', 'cover fx', 'hourglass',\n       'nyx professional makeup', 'w3ll people', 'pur', 'winky lux',\n       'milani', \"burt's bees\", \"l'oreal\", 'mac', 'au naturale',\n       'clinique', 'jane iredale', 'estee lauder', 'dermablend',\n       'wet n wild', 'hynt beauty', 'e.l.f. cosmetics', 'kiko milano',\n       'pacifica', 'beauty bakerie', 'l.a. girl', 'revlon', 'almay',\n       'juice beauty', 'physicians formula', 'morphe', 'uoma beauty',\n       'elcie cosmetics', \"juvia's place\", 'ofra cosmetics',\n       'florence by mills', 'lorac', 'the ordinary', 'colourpop',\n       'flower beauty', 'vdl', 'zoeva', 'essence', 'exa', 'smith & cult',\n       'dose of colors', 'fenty beauty by rihanna', 'armani beauty',\n       'ilia', 'make up for ever', 'beautyblender',\n       'rare beauty by selena gomez', 'charlotte tilbury',\n       'sephora collection', 'huda beauty', 'dior', 'gucci', 'dr. jart+',\n       'bobbi brown', 'pat mcgrath labs', 'yves saint laurent',\n       'milk makeup', 'kosas', 'tom ford', 'shiseido', 'la mer',\n       'rms beauty', 'natasha denona', 'amorepacific', 'bite beauty',\n       'erborian', 'guerlain', 'josie maran', 'marc jacobs beauty',\n       'wander beauty', 'kevyn aucoin', 'jouer cosmetics', 'koh gen do',\n       'coola', 'givenchy', 'surratt beauty', 'dr. dennis gross skincare',\n       'lawless', 'origins', 'boscia', 'lilah b.', 'antonym',\n       'pretty vulgar', 'black up'], dtype=object)"
     },
     "execution_count": 10,
     "metadata": {},
     "output_type": "execute_result"
    }
   ],
   "source": [
    "# converting values in shades df to lower case and removing special characters for ease of identifying duplicating rows\n",
    "#Converting brand names to lower case to expedite analysis \n",
    "all_shades['brand']= all_shades['brand'].str.lower()\n",
    "#Removing special characters in brand names\n",
    "all_shades['brand'] = all_shades['brand'].apply(lambda x: unidecode(x))\n",
    "#verifying changes\n",
    "all_shades['brand'].unique()\n"
   ],
   "metadata": {
    "collapsed": false,
    "ExecuteTime": {
     "end_time": "2023-11-21T02:06:05.795150300Z",
     "start_time": "2023-11-21T02:06:05.675040800Z"
    }
   }
  },
  {
   "cell_type": "code",
   "execution_count": 11,
   "outputs": [
    {
     "name": "stdout",
     "output_type": "stream",
     "text": [
      "No. of entirely duplicated rows: 20\n"
     ]
    },
    {
     "data": {
      "text/plain": "              brand                                            product  \\\n4105  armani beauty  Luminous Silk Perfect Glow Flawless Oil-Free F...   \n4106  armani beauty  Luminous Silk Perfect Glow Flawless Oil-Free F...   \n4107  armani beauty  Luminous Silk Perfect Glow Flawless Oil-Free F...   \n4111  armani beauty  Luminous Silk Perfect Glow Flawless Oil-Free F...   \n4113  armani beauty  Luminous Silk Perfect Glow Flawless Oil-Free F...   \n4116  armani beauty  Luminous Silk Perfect Glow Flawless Oil-Free F...   \n4118  armani beauty  Luminous Silk Perfect Glow Flawless Oil-Free F...   \n4144  armani beauty  Luminous Silk Perfect Glow Flawless Oil-Free F...   \n4145  armani beauty  Luminous Silk Perfect Glow Flawless Oil-Free F...   \n4146  armani beauty  Luminous Silk Perfect Glow Flawless Oil-Free F...   \n4148  armani beauty  Luminous Silk Perfect Glow Flawless Oil-Free F...   \n4150  armani beauty  Luminous Silk Perfect Glow Flawless Oil-Free F...   \n4151  armani beauty  Luminous Silk Perfect Glow Flawless Oil-Free F...   \n4153  armani beauty  Luminous Silk Perfect Glow Flawless Oil-Free F...   \n5085   it cosmetics               CC+ Cream Oil-Free Matte with SPF 40   \n5095   it cosmetics               CC+ Cream Oil-Free Matte with SPF 40   \n5162          tarte  BB Tinted Treatment 12-Hour Primer Broad Spect...   \n5163          tarte  BB Tinted Treatment 12-Hour Primer Broad Spect...   \n5170          tarte  BB Tinted Treatment 12-Hour Primer Broad Spect...   \n5171          tarte  BB Tinted Treatment 12-Hour Primer Broad Spect...   \n\n                                 description   name specific      hex  \n4105                     3 very fair, golden    NaN        3  #DCB79B  \n4106              3.5 light to medium, olive    NaN      3.5  #D2AF94  \n4107                    3.75 very fair, pink    NaN     3.75  #DCB098  \n4111            4.5 light to medium, neutral    NaN      4.5  #D7B08E  \n4113                        5 light, neutral    NaN        5  #C9A07F  \n4116                       5.25 medium, pink    NaN     5.25  #CFA385  \n4118            5.75 light to medium, golden    NaN     5.75  #CEA180  \n4144                     3 very fair, golden    NaN        3  #DCB79B  \n4145              3.5 light to medium, olive    NaN      3.5  #D2AF94  \n4146                    3.75 very fair, pink    NaN     3.75  #DCB098  \n4148            4.5 light to medium, neutral    NaN      4.5  #D7B08E  \n4150                        5 light, neutral    NaN        5  #C9A07F  \n4151                       5.25 medium, pink    NaN     5.25  #CFA385  \n4153            5.75 light to medium, golden    NaN     5.75  #CEA180  \n5085  Light taupe shade with warm undertones  Light      NaN  #CBAE8F  \n5095  Light taupe shade with warm undertones  Light      NaN  #CBAE8F  \n5162                                    Fair   Fair      NaN  #F6E5D1  \n5163                                   Light  Light      NaN  #DDAF93  \n5170                                    Fair   Fair      NaN  #F6E5D1  \n5171                                   Light  Light      NaN  #DDAF93  ",
      "text/html": "<div>\n<style scoped>\n    .dataframe tbody tr th:only-of-type {\n        vertical-align: middle;\n    }\n\n    .dataframe tbody tr th {\n        vertical-align: top;\n    }\n\n    .dataframe thead th {\n        text-align: right;\n    }\n</style>\n<table border=\"1\" class=\"dataframe\">\n  <thead>\n    <tr style=\"text-align: right;\">\n      <th></th>\n      <th>brand</th>\n      <th>product</th>\n      <th>description</th>\n      <th>name</th>\n      <th>specific</th>\n      <th>hex</th>\n    </tr>\n  </thead>\n  <tbody>\n    <tr>\n      <th>4105</th>\n      <td>armani beauty</td>\n      <td>Luminous Silk Perfect Glow Flawless Oil-Free F...</td>\n      <td>3 very fair, golden</td>\n      <td>NaN</td>\n      <td>3</td>\n      <td>#DCB79B</td>\n    </tr>\n    <tr>\n      <th>4106</th>\n      <td>armani beauty</td>\n      <td>Luminous Silk Perfect Glow Flawless Oil-Free F...</td>\n      <td>3.5 light to medium, olive</td>\n      <td>NaN</td>\n      <td>3.5</td>\n      <td>#D2AF94</td>\n    </tr>\n    <tr>\n      <th>4107</th>\n      <td>armani beauty</td>\n      <td>Luminous Silk Perfect Glow Flawless Oil-Free F...</td>\n      <td>3.75 very fair, pink</td>\n      <td>NaN</td>\n      <td>3.75</td>\n      <td>#DCB098</td>\n    </tr>\n    <tr>\n      <th>4111</th>\n      <td>armani beauty</td>\n      <td>Luminous Silk Perfect Glow Flawless Oil-Free F...</td>\n      <td>4.5 light to medium, neutral</td>\n      <td>NaN</td>\n      <td>4.5</td>\n      <td>#D7B08E</td>\n    </tr>\n    <tr>\n      <th>4113</th>\n      <td>armani beauty</td>\n      <td>Luminous Silk Perfect Glow Flawless Oil-Free F...</td>\n      <td>5 light, neutral</td>\n      <td>NaN</td>\n      <td>5</td>\n      <td>#C9A07F</td>\n    </tr>\n    <tr>\n      <th>4116</th>\n      <td>armani beauty</td>\n      <td>Luminous Silk Perfect Glow Flawless Oil-Free F...</td>\n      <td>5.25 medium, pink</td>\n      <td>NaN</td>\n      <td>5.25</td>\n      <td>#CFA385</td>\n    </tr>\n    <tr>\n      <th>4118</th>\n      <td>armani beauty</td>\n      <td>Luminous Silk Perfect Glow Flawless Oil-Free F...</td>\n      <td>5.75 light to medium, golden</td>\n      <td>NaN</td>\n      <td>5.75</td>\n      <td>#CEA180</td>\n    </tr>\n    <tr>\n      <th>4144</th>\n      <td>armani beauty</td>\n      <td>Luminous Silk Perfect Glow Flawless Oil-Free F...</td>\n      <td>3 very fair, golden</td>\n      <td>NaN</td>\n      <td>3</td>\n      <td>#DCB79B</td>\n    </tr>\n    <tr>\n      <th>4145</th>\n      <td>armani beauty</td>\n      <td>Luminous Silk Perfect Glow Flawless Oil-Free F...</td>\n      <td>3.5 light to medium, olive</td>\n      <td>NaN</td>\n      <td>3.5</td>\n      <td>#D2AF94</td>\n    </tr>\n    <tr>\n      <th>4146</th>\n      <td>armani beauty</td>\n      <td>Luminous Silk Perfect Glow Flawless Oil-Free F...</td>\n      <td>3.75 very fair, pink</td>\n      <td>NaN</td>\n      <td>3.75</td>\n      <td>#DCB098</td>\n    </tr>\n    <tr>\n      <th>4148</th>\n      <td>armani beauty</td>\n      <td>Luminous Silk Perfect Glow Flawless Oil-Free F...</td>\n      <td>4.5 light to medium, neutral</td>\n      <td>NaN</td>\n      <td>4.5</td>\n      <td>#D7B08E</td>\n    </tr>\n    <tr>\n      <th>4150</th>\n      <td>armani beauty</td>\n      <td>Luminous Silk Perfect Glow Flawless Oil-Free F...</td>\n      <td>5 light, neutral</td>\n      <td>NaN</td>\n      <td>5</td>\n      <td>#C9A07F</td>\n    </tr>\n    <tr>\n      <th>4151</th>\n      <td>armani beauty</td>\n      <td>Luminous Silk Perfect Glow Flawless Oil-Free F...</td>\n      <td>5.25 medium, pink</td>\n      <td>NaN</td>\n      <td>5.25</td>\n      <td>#CFA385</td>\n    </tr>\n    <tr>\n      <th>4153</th>\n      <td>armani beauty</td>\n      <td>Luminous Silk Perfect Glow Flawless Oil-Free F...</td>\n      <td>5.75 light to medium, golden</td>\n      <td>NaN</td>\n      <td>5.75</td>\n      <td>#CEA180</td>\n    </tr>\n    <tr>\n      <th>5085</th>\n      <td>it cosmetics</td>\n      <td>CC+ Cream Oil-Free Matte with SPF 40</td>\n      <td>Light taupe shade with warm undertones</td>\n      <td>Light</td>\n      <td>NaN</td>\n      <td>#CBAE8F</td>\n    </tr>\n    <tr>\n      <th>5095</th>\n      <td>it cosmetics</td>\n      <td>CC+ Cream Oil-Free Matte with SPF 40</td>\n      <td>Light taupe shade with warm undertones</td>\n      <td>Light</td>\n      <td>NaN</td>\n      <td>#CBAE8F</td>\n    </tr>\n    <tr>\n      <th>5162</th>\n      <td>tarte</td>\n      <td>BB Tinted Treatment 12-Hour Primer Broad Spect...</td>\n      <td>Fair</td>\n      <td>Fair</td>\n      <td>NaN</td>\n      <td>#F6E5D1</td>\n    </tr>\n    <tr>\n      <th>5163</th>\n      <td>tarte</td>\n      <td>BB Tinted Treatment 12-Hour Primer Broad Spect...</td>\n      <td>Light</td>\n      <td>Light</td>\n      <td>NaN</td>\n      <td>#DDAF93</td>\n    </tr>\n    <tr>\n      <th>5170</th>\n      <td>tarte</td>\n      <td>BB Tinted Treatment 12-Hour Primer Broad Spect...</td>\n      <td>Fair</td>\n      <td>Fair</td>\n      <td>NaN</td>\n      <td>#F6E5D1</td>\n    </tr>\n    <tr>\n      <th>5171</th>\n      <td>tarte</td>\n      <td>BB Tinted Treatment 12-Hour Primer Broad Spect...</td>\n      <td>Light</td>\n      <td>Light</td>\n      <td>NaN</td>\n      <td>#DDAF93</td>\n    </tr>\n  </tbody>\n</table>\n</div>"
     },
     "execution_count": 11,
     "metadata": {},
     "output_type": "execute_result"
    }
   ],
   "source": [
    "#Checking for and returning duplicate rows in 'all_shades' DataFrame\n",
    "\n",
    "eh.duplicate_rows(all_shades)"
   ],
   "metadata": {
    "collapsed": false,
    "ExecuteTime": {
     "end_time": "2023-11-21T02:06:05.795150300Z",
     "start_time": "2023-11-21T02:06:05.687994700Z"
    }
   }
  },
  {
   "cell_type": "code",
   "execution_count": 12,
   "outputs": [
    {
     "name": "stdout",
     "output_type": "stream",
     "text": [
      "brand          1139\n",
      "product        1139\n",
      "description    1139\n",
      "name           1139\n",
      "specific       1123\n",
      "hex            1139\n",
      "dtype: int64\n"
     ]
    },
    {
     "data": {
      "text/plain": "                                                                                         brand  \\\nbrand              product                                                                       \nbareminerals       I AM AN ORIGINAL GET STARTED® KIT Original Loos... 6653        bareminerals   \nbeauty bakerie     InstaBake Aqua Glass Foundation                    1758      beauty bakerie   \nbeautyblender      Bounce™ Liquid Whip Long Wear Foundation           4297       beautyblender   \ncatrice            HD Liquid Coverage Foundation                      3727             catrice   \ncharlotte tilbury  Airbrush Flawless Longwear Foundation              4473   charlotte tilbury   \n                   Light Wonder Foundation                            5724   charlotte tilbury   \ncolourpop          Pretty Fresh Foundation                            3451           colourpop   \ncover fx           Custom Cover Drops                                 860             cover fx   \n                   Natural Finish Foundation                          2264            cover fx   \n                   Power Play Foundation                              3895            cover fx   \n                   Pressed Mineral Foundation                         1461            cover fx   \ncovergirl          Full Spectrum Matte Ambition All Day Foundation    3576           covergirl   \ndior               BACKSTAGE Face & Body Foundation                   4817                dior   \n                   Dior Airflash Spray Foundation                     4689                dior   \n                   Dior Forever Matte Foundation                      5338                dior   \n                   Dior Forever Skin Glow Foundation                  5302                dior   \ndose of colors     Meet Your Hue Foundation                           3969      dose of colors   \nit cosmetics       CC+ Cream Oil-Free Matte with SPF 40               5088        it cosmetics   \n                   Your Skin But Better Foundation + Skincare         162         it cosmetics   \nkevyn aucoin       Foundation Balm                                    6214        kevyn aucoin   \n                   Stripped Nude Skin Tint                            6700        kevyn aucoin   \n                   The Etherealist Foundation                         6448        kevyn aucoin   \nkosas              Tinted Face Oil Foundation                         5364               kosas   \nkvd vegan beauty   Lock-It Foundation                                 202     kvd vegan beauty   \n                   Lock-It Powder Foundation                          233     kvd vegan beauty   \n                   Lock-It Powder Foundation Refills                  269     kvd vegan beauty   \n                   True Portrait Medium Coverage Shake Foundation     281     kvd vegan beauty   \nlancome            Dual Finish Multi-Tasking Lightweight Pressed P... 1613             lancome   \n                   Rénergie Lift Makeup Lightweight Liquid Foundat... 3324             lancome   \n                   Teint Idole Ultra Longwear Foundation Stick SPF 21 321              lancome   \n                   Teint Idole Ultra Wear 24H Long Wear Foundation    2757             lancome   \nmorphe             Fluidity Full-Coverage Foundation                  2827              morphe   \nnatasha denona     Foundation X+                                      6597      natasha denona   \nnudestix           Nudies Tinted Blur Stick                           6312            nudestix   \n                   Tinted Cover Foundation                            457             nudestix   \npacifica           Alight Clean Foundation                            1744            pacifica   \npat mcgrath labs   Sublime Perfection Foundation                      5066    pat mcgrath labs   \npur                4-In-1 Love Your Selfie Longwear Foundation & C... 2933                 pur   \nsephora collection 10 Hour Wear Perfection Foundation                 4646  sephora collection   \n                   Best Skin Ever Liquid Foundation                   6800  sephora collection   \nsmashbox           Primer + Foundation Customizable Set               6395            smashbox   \nsmith & cult       Veiled Threat Weightless Micro-Blurring Foundation 3862        smith & cult   \nsurratt beauty     Surreal Skin Foundation Wand                       6560      surratt beauty   \ntarte              BB Tinted Treatment 12-Hour Primer Broad Spectr... 5166               tarte   \n                   Face Tape Foundation                               3556               tarte   \nthe ordinary       Coverage Foundation                                3399        the ordinary   \n                   Serum Foundation                                   3404        the ordinary   \nuoma beauty        Say What?! Foundation                              2987         uoma beauty   \nvdl                Perfect Lasting Foundation                         3648                 vdl   \n\n                                                                                                                      product  \\\nbrand              product                                                                                                      \nbareminerals       I AM AN ORIGINAL GET STARTED® KIT Original Loos... 6653  I AM AN ORIGINAL GET STARTED® KIT Original Loo...   \nbeauty bakerie     InstaBake Aqua Glass Foundation                    1758                    InstaBake Aqua Glass Foundation   \nbeautyblender      Bounce™ Liquid Whip Long Wear Foundation           4297           Bounce™ Liquid Whip Long Wear Foundation   \ncatrice            HD Liquid Coverage Foundation                      3727                      HD Liquid Coverage Foundation   \ncharlotte tilbury  Airbrush Flawless Longwear Foundation              4473              Airbrush Flawless Longwear Foundation   \n                   Light Wonder Foundation                            5724                            Light Wonder Foundation   \ncolourpop          Pretty Fresh Foundation                            3451                            Pretty Fresh Foundation   \ncover fx           Custom Cover Drops                                 860                                  Custom Cover Drops   \n                   Natural Finish Foundation                          2264                          Natural Finish Foundation   \n                   Power Play Foundation                              3895                              Power Play Foundation   \n                   Pressed Mineral Foundation                         1461                         Pressed Mineral Foundation   \ncovergirl          Full Spectrum Matte Ambition All Day Foundation    3576    Full Spectrum Matte Ambition All Day Foundation   \ndior               BACKSTAGE Face & Body Foundation                   4817                   BACKSTAGE Face & Body Foundation   \n                   Dior Airflash Spray Foundation                     4689                     Dior Airflash Spray Foundation   \n                   Dior Forever Matte Foundation                      5338                      Dior Forever Matte Foundation   \n                   Dior Forever Skin Glow Foundation                  5302                  Dior Forever Skin Glow Foundation   \ndose of colors     Meet Your Hue Foundation                           3969                           Meet Your Hue Foundation   \nit cosmetics       CC+ Cream Oil-Free Matte with SPF 40               5088               CC+ Cream Oil-Free Matte with SPF 40   \n                   Your Skin But Better Foundation + Skincare         162          Your Skin But Better Foundation + Skincare   \nkevyn aucoin       Foundation Balm                                    6214                                    Foundation Balm   \n                   Stripped Nude Skin Tint                            6700                            Stripped Nude Skin Tint   \n                   The Etherealist Foundation                         6448                         The Etherealist Foundation   \nkosas              Tinted Face Oil Foundation                         5364                         Tinted Face Oil Foundation   \nkvd vegan beauty   Lock-It Foundation                                 202                                  Lock-It Foundation   \n                   Lock-It Powder Foundation                          233                           Lock-It Powder Foundation   \n                   Lock-It Powder Foundation Refills                  269                   Lock-It Powder Foundation Refills   \n                   True Portrait Medium Coverage Shake Foundation     281      True Portrait Medium Coverage Shake Foundation   \nlancome            Dual Finish Multi-Tasking Lightweight Pressed P... 1613  Dual Finish Multi-Tasking Lightweight Pressed ...   \n                   Rénergie Lift Makeup Lightweight Liquid Foundat... 3324  Rénergie Lift Makeup Lightweight Liquid Founda...   \n                   Teint Idole Ultra Longwear Foundation Stick SPF 21 321   Teint Idole Ultra Longwear Foundation Stick SP...   \n                   Teint Idole Ultra Wear 24H Long Wear Foundation    2757    Teint Idole Ultra Wear 24H Long Wear Foundation   \nmorphe             Fluidity Full-Coverage Foundation                  2827                  Fluidity Full-Coverage Foundation   \nnatasha denona     Foundation X+                                      6597                                      Foundation X+   \nnudestix           Nudies Tinted Blur Stick                           6312                           Nudies Tinted Blur Stick   \n                   Tinted Cover Foundation                            457                             Tinted Cover Foundation   \npacifica           Alight Clean Foundation                            1744                            Alight Clean Foundation   \npat mcgrath labs   Sublime Perfection Foundation                      5066                      Sublime Perfection Foundation   \npur                4-In-1 Love Your Selfie Longwear Foundation & C... 2933  4-In-1 Love Your Selfie Longwear Foundation & ...   \nsephora collection 10 Hour Wear Perfection Foundation                 4646                 10 Hour Wear Perfection Foundation   \n                   Best Skin Ever Liquid Foundation                   6800                   Best Skin Ever Liquid Foundation   \nsmashbox           Primer + Foundation Customizable Set               6395               Primer + Foundation Customizable Set   \nsmith & cult       Veiled Threat Weightless Micro-Blurring Foundation 3862  Veiled Threat Weightless Micro-Blurring Founda...   \nsurratt beauty     Surreal Skin Foundation Wand                       6560                       Surreal Skin Foundation Wand   \ntarte              BB Tinted Treatment 12-Hour Primer Broad Spectr... 5166  BB Tinted Treatment 12-Hour Primer Broad Spect...   \n                   Face Tape Foundation                               3556                               Face Tape Foundation   \nthe ordinary       Coverage Foundation                                3399                                Coverage Foundation   \n                   Serum Foundation                                   3404                                   Serum Foundation   \nuoma beauty        Say What?! Foundation                              2987                              Say What?! Foundation   \nvdl                Perfect Lasting Foundation                         3648                         Perfect Lasting Foundation   \n\n                                                                                                                  description  \\\nbrand              product                                                                                                      \nbareminerals       I AM AN ORIGINAL GET STARTED® KIT Original Loos... 6653  Neutral Tan 21 for tan warm skin with golden u...   \nbeauty bakerie     InstaBake Aqua Glass Foundation                    1758                                           315 Warm   \nbeautyblender      Bounce™ Liquid Whip Long Wear Foundation           4297           4.70 Cool very deep with cool undertones   \ncatrice            HD Liquid Coverage Foundation                      3727                                  Caramel Beige 046   \ncharlotte tilbury  Airbrush Flawless Longwear Foundation              4473        7 Warm for medium skin with warm undertones   \n                   Light Wonder Foundation                            5724                                5 Medium warm peach   \ncolourpop          Pretty Fresh Foundation                            3451                                Dark 180N (neutral)   \ncover fx           Custom Cover Drops                                 860   N Medium 3 (medium deep skin w/ neutral undert...   \n                   Natural Finish Foundation                          2264      G+40 (medium olive skin w/ golden undertones)   \n                   Power Play Foundation                              3895  G+50 (medium to tan olive skin w/ golden under...   \n                   Pressed Mineral Foundation                         1461      G+40 (medium olive skin w/ golden undertones)   \ncovergirl          Full Spectrum Matte Ambition All Day Foundation    3576                                       Tan Golden 2   \ndior               BACKSTAGE Face & Body Foundation                   4817                                          5 Neutral   \n                   Dior Airflash Spray Foundation                     4689            1 Cool (104) Fair skin, cool undertones   \n                   Dior Forever Matte Foundation                      5338   3 Warm light medium skin, warm yellow undertones   \n                   Dior Forever Skin Glow Foundation                  5302        1 Cool Rosy fair skin, cool pink undertones   \ndose of colors     Meet Your Hue Foundation                           3969               108 Light (light w/ pink undertones)   \nit cosmetics       CC+ Cream Oil-Free Matte with SPF 40               5088  Medium soft beige shade with warm undertones -...   \n                   Your Skin But Better Foundation + Skincare         162   Tan Neutral 42 (tan complexion with neutral ol...   \nkevyn aucoin       Foundation Balm                                    6214                                  Light EF 03 light   \n                   Stripped Nude Skin Tint                            6700                                         ST 08 deep   \n                   The Etherealist Foundation                         6448           Medium EF 11 medium with pink undertones   \nkosas              Tinted Face Oil Foundation                         5364             Tone 7.5 deep tan with warm undertones   \nkvd vegan beauty   Lock-It Foundation                                 202     Medium 57 W (medium golden with warm undertone)   \n                   Lock-It Powder Foundation                          233                           Medium 145 (medium taupe)   \n                   Lock-It Powder Foundation Refills                  269                            Deep 200 (deep chestnut)   \n                   True Portrait Medium Coverage Shake Foundation     281   Light 012 (light pink with neutral undertone) ...   \nlancome            Dual Finish Multi-Tasking Lightweight Pressed P... 1613                                          520 Suede   \n                   Rénergie Lift Makeup Lightweight Liquid Foundat... 3324                                       160 Ivoire W   \n                   Teint Idole Ultra Longwear Foundation Stick SPF 21 321                           260 Bisque N OUT OF STOCK   \n                   Teint Idole Ultra Wear 24H Long Wear Foundation    2757  300 Bisque (medium skin w/ warm/yellow underto...   \nmorphe             Fluidity Full-Coverage Foundation                  2827       F2.60 Neutral (medium w/ neutral undertones)   \nnatasha denona     Foundation X+                                      6597    42 WYMedium - Warm Yellow warm yellow undertone   \nnudestix           Nudies Tinted Blur Stick                           6312         Light 2 light beige with neutral undertone   \n                   Tinted Cover Foundation                            457                        Nude 1.5 (fair neutral cool)   \npacifica           Alight Clean Foundation                            1744  07WD Warm Deep (deep tan w/ slight red undertone)   \npat mcgrath labs   Sublime Perfection Foundation                      5066               Medium 20 medium with red undertones   \npur                4-In-1 Love Your Selfie Longwear Foundation & C... 2933  DPG1 Mocha (dark brown skin w/ golden undertones)   \nsephora collection 10 Hour Wear Perfection Foundation                 4646  8 Light Ivory (P) for fair skin with pink unde...   \n                   Best Skin Ever Liquid Foundation                   6800         55 N for dark skin with neutral undertones   \nsmashbox           Primer + Foundation Customizable Set               6395                  4.5 very deep with warm undertone   \nsmith & cult       Veiled Threat Weightless Micro-Blurring Foundation 3862     380 Warm (tan to deep skin w/ warm undertones)   \nsurratt beauty     Surreal Skin Foundation Wand                       6560  Surreal Skin 14 bronze light brown with golden...   \ntarte              BB Tinted Treatment 12-Hour Primer Broad Spectr... 5166                                     Tan - Selected   \n                   Face Tape Foundation                               3556  51N Deep Neutral (deep skin w/ neutral underto...   \nthe ordinary       Coverage Foundation                                3399            3.3 N (very deep w/ neutral undertones)   \n                   Serum Foundation                                   3404                    1.1 P (fair w/ pink undertones)   \nuoma beauty        Say What?! Foundation                              2987  White Pearl - T1W (for very fair skin w/ warm ...   \nvdl                Perfect Lasting Foundation                         3648                               A04.5 Warm Undertone   \n\n                                                                                      name  \\\nbrand              product                                                                   \nbareminerals       I AM AN ORIGINAL GET STARTED® KIT Original Loos... 6653    bareMinerals   \nbeauty bakerie     InstaBake Aqua Glass Foundation                    1758            Warm   \nbeautyblender      Bounce™ Liquid Whip Long Wear Foundation           4297            Cool   \ncatrice            HD Liquid Coverage Foundation                      3727   Caramel Beige   \ncharlotte tilbury  Airbrush Flawless Longwear Foundation              4473            Warm   \n                   Light Wonder Foundation                            5724          Medium   \ncolourpop          Pretty Fresh Foundation                            3451            Dark   \ncover fx           Custom Cover Drops                                 860         N Medium   \n                   Natural Finish Foundation                          2264              G+   \n                   Power Play Foundation                              3895              G+   \n                   Pressed Mineral Foundation                         1461              G+   \ncovergirl          Full Spectrum Matte Ambition All Day Foundation    3576      Tan Golden   \ndior               BACKSTAGE Face & Body Foundation                   4817         Neutral   \n                   Dior Airflash Spray Foundation                     4689            Cool   \n                   Dior Forever Matte Foundation                      5338            Warm   \n                   Dior Forever Skin Glow Foundation                  5302       Cool Rosy   \ndose of colors     Meet Your Hue Foundation                           3969           Light   \nit cosmetics       CC+ Cream Oil-Free Matte with SPF 40               5088          Medium   \n                   Your Skin But Better Foundation + Skincare         162      Tan Neutral   \nkevyn aucoin       Foundation Balm                                    6214        Light EF   \n                   Stripped Nude Skin Tint                            6700              ST   \n                   The Etherealist Foundation                         6448       Medium EF   \nkosas              Tinted Face Oil Foundation                         5364            Tone   \nkvd vegan beauty   Lock-It Foundation                                 202       Medium   W   \n                   Lock-It Powder Foundation                          233           Medium   \n                   Lock-It Powder Foundation Refills                  269             Deep   \n                   True Portrait Medium Coverage Shake Foundation     281            Light   \nlancome            Dual Finish Multi-Tasking Lightweight Pressed P... 1613           Suede   \n                   Rénergie Lift Makeup Lightweight Liquid Foundat... 3324        Ivoire W   \n                   Teint Idole Ultra Longwear Foundation Stick SPF 21 321         Bisque N   \n                   Teint Idole Ultra Wear 24H Long Wear Foundation    2757          Bisque   \nmorphe             Fluidity Full-Coverage Foundation                  2827         Neutral   \nnatasha denona     Foundation X+                                      6597        WYMedium   \nnudestix           Nudies Tinted Blur Stick                           6312           Light   \n                   Tinted Cover Foundation                            457             Nude   \npacifica           Alight Clean Foundation                            1744       Warm Deep   \npat mcgrath labs   Sublime Perfection Foundation                      5066          Medium   \npur                4-In-1 Love Your Selfie Longwear Foundation & C... 2933           Mocha   \nsephora collection 10 Hour Wear Perfection Foundation                 4646     Light Ivory   \n                   Best Skin Ever Liquid Foundation                   6800               N   \nsmashbox           Primer + Foundation Customizable Set               6395        Smashbox   \nsmith & cult       Veiled Threat Weightless Micro-Blurring Foundation 3862            Warm   \nsurratt beauty     Surreal Skin Foundation Wand                       6560    Surreal Skin   \ntarte              BB Tinted Treatment 12-Hour Primer Broad Spectr... 5166             Tan   \n                   Face Tape Foundation                               3556    Deep Neutral   \nthe ordinary       Coverage Foundation                                3399               N   \n                   Serum Foundation                                   3404               P   \nuoma beauty        Say What?! Foundation                              2987     White Pearl   \nvdl                Perfect Lasting Foundation                         3648  Warm Undertone   \n\n                                                                           specific  \\\nbrand              product                                                            \nbareminerals       I AM AN ORIGINAL GET STARTED® KIT Original Loos... 6653       21   \nbeauty bakerie     InstaBake Aqua Glass Foundation                    1758      315   \nbeautyblender      Bounce™ Liquid Whip Long Wear Foundation           4297     4.70   \ncatrice            HD Liquid Coverage Foundation                      3727      046   \ncharlotte tilbury  Airbrush Flawless Longwear Foundation              4473        7   \n                   Light Wonder Foundation                            5724        5   \ncolourpop          Pretty Fresh Foundation                            3451     180N   \ncover fx           Custom Cover Drops                                 860         3   \n                   Natural Finish Foundation                          2264       40   \n                   Power Play Foundation                              3895       50   \n                   Pressed Mineral Foundation                         1461       40   \ncovergirl          Full Spectrum Matte Ambition All Day Foundation    3576        2   \ndior               BACKSTAGE Face & Body Foundation                   4817        5   \n                   Dior Airflash Spray Foundation                     4689        1   \n                   Dior Forever Matte Foundation                      5338        3   \n                   Dior Forever Skin Glow Foundation                  5302        1   \ndose of colors     Meet Your Hue Foundation                           3969      108   \nit cosmetics       CC+ Cream Oil-Free Matte with SPF 40               5088      NaN   \n                   Your Skin But Better Foundation + Skincare         162        42   \nkevyn aucoin       Foundation Balm                                    6214       03   \n                   Stripped Nude Skin Tint                            6700       08   \n                   The Etherealist Foundation                         6448       11   \nkosas              Tinted Face Oil Foundation                         5364      7.5   \nkvd vegan beauty   Lock-It Foundation                                 202        57   \n                   Lock-It Powder Foundation                          233       145   \n                   Lock-It Powder Foundation Refills                  269       200   \n                   True Portrait Medium Coverage Shake Foundation     281       012   \nlancome            Dual Finish Multi-Tasking Lightweight Pressed P... 1613      520   \n                   Rénergie Lift Makeup Lightweight Liquid Foundat... 3324      160   \n                   Teint Idole Ultra Longwear Foundation Stick SPF 21 321       260   \n                   Teint Idole Ultra Wear 24H Long Wear Foundation    2757      300   \nmorphe             Fluidity Full-Coverage Foundation                  2827    F2.60   \nnatasha denona     Foundation X+                                      6597       42   \nnudestix           Nudies Tinted Blur Stick                           6312        2   \n                   Tinted Cover Foundation                            457       1.5   \npacifica           Alight Clean Foundation                            1744     07WD   \npat mcgrath labs   Sublime Perfection Foundation                      5066       20   \npur                4-In-1 Love Your Selfie Longwear Foundation & C... 2933     DPG1   \nsephora collection 10 Hour Wear Perfection Foundation                 4646        8   \n                   Best Skin Ever Liquid Foundation                   6800       55   \nsmashbox           Primer + Foundation Customizable Set               6395      4.5   \nsmith & cult       Veiled Threat Weightless Micro-Blurring Foundation 3862      380   \nsurratt beauty     Surreal Skin Foundation Wand                       6560       14   \ntarte              BB Tinted Treatment 12-Hour Primer Broad Spectr... 5166      NaN   \n                   Face Tape Foundation                               3556      51N   \nthe ordinary       Coverage Foundation                                3399      3.3   \n                   Serum Foundation                                   3404      1.1   \nuoma beauty        Say What?! Foundation                              2987      T1W   \nvdl                Perfect Lasting Foundation                         3648    A04.5   \n\n                                                                                hex  \nbrand              product                                                           \nbareminerals       I AM AN ORIGINAL GET STARTED® KIT Original Loos... 6653  #A3623E  \nbeauty bakerie     InstaBake Aqua Glass Foundation                    1758  #A87446  \nbeautyblender      Bounce™ Liquid Whip Long Wear Foundation           4297  #542911  \ncatrice            HD Liquid Coverage Foundation                      3727  #B68B61  \ncharlotte tilbury  Airbrush Flawless Longwear Foundation              4473  #F7CCA4  \n                   Light Wonder Foundation                            5724  #D9B198  \ncolourpop          Pretty Fresh Foundation                            3451  #A67C6B  \ncover fx           Custom Cover Drops                                 860   #C49777  \n                   Natural Finish Foundation                          2264  #E3B488  \n                   Power Play Foundation                              3895  #DA9A6C  \n                   Pressed Mineral Foundation                         1461  #DFA880  \ncovergirl          Full Spectrum Matte Ambition All Day Foundation    3576  #A6724C  \ndior               BACKSTAGE Face & Body Foundation                   4817  #D9A787  \n                   Dior Airflash Spray Foundation                     4689  #CEA28C  \n                   Dior Forever Matte Foundation                      5338  #DBA992  \n                   Dior Forever Skin Glow Foundation                  5302  #E0B6AA  \ndose of colors     Meet Your Hue Foundation                           3969  #F2CDAD  \nit cosmetics       CC+ Cream Oil-Free Matte with SPF 40               5088  #D0AC92  \n                   Your Skin But Better Foundation + Skincare         162   #D3965D  \nkevyn aucoin       Foundation Balm                                    6214  #F1CAA6  \n                   Stripped Nude Skin Tint                            6700  #D6A27E  \n                   The Etherealist Foundation                         6448  #C1977E  \nkosas              Tinted Face Oil Foundation                         5364  #B1763E  \nkvd vegan beauty   Lock-It Foundation                                 202   #CE8E57  \n                   Lock-It Powder Foundation                          233   #D29874  \n                   Lock-It Powder Foundation Refills                  269   #9C6141  \n                   True Portrait Medium Coverage Shake Foundation     281   #D6AE8B  \nlancome            Dual Finish Multi-Tasking Lightweight Pressed P... 1613  #AE5524  \n                   Rénergie Lift Makeup Lightweight Liquid Foundat... 3324  #D3A98B  \n                   Teint Idole Ultra Longwear Foundation Stick SPF 21 321   #E4B68F  \n                   Teint Idole Ultra Wear 24H Long Wear Foundation    2757  #C4A577  \nmorphe             Fluidity Full-Coverage Foundation                  2827  #B8926B  \nnatasha denona     Foundation X+                                      6597  #E3C9AF  \nnudestix           Nudies Tinted Blur Stick                           6312  #E1B19C  \n                   Tinted Cover Foundation                            457   #F2DBD3  \npacifica           Alight Clean Foundation                            1744  #9D5F2E  \npat mcgrath labs   Sublime Perfection Foundation                      5066  #C2835A  \npur                4-In-1 Love Your Selfie Longwear Foundation & C... 2933  #815545  \nsephora collection 10 Hour Wear Perfection Foundation                 4646  #D9B19C  \n                   Best Skin Ever Liquid Foundation                   6800  #C99064  \nsmashbox           Primer + Foundation Customizable Set               6395  #8F554B  \nsmith & cult       Veiled Threat Weightless Micro-Blurring Foundation 3862  #C87D53  \nsurratt beauty     Surreal Skin Foundation Wand                       6560  #A06039  \ntarte              BB Tinted Treatment 12-Hour Primer Broad Spectr... 5166  #D99B76  \n                   Face Tape Foundation                               3556  #C4845E  \nthe ordinary       Coverage Foundation                                3399  #6F4F3D  \n                   Serum Foundation                                   3404  #F7E5D2  \nuoma beauty        Say What?! Foundation                              2987  #EDCDB7  \nvdl                Perfect Lasting Foundation                         3648  #E0BD9B  ",
      "text/html": "<div>\n<style scoped>\n    .dataframe tbody tr th:only-of-type {\n        vertical-align: middle;\n    }\n\n    .dataframe tbody tr th {\n        vertical-align: top;\n    }\n\n    .dataframe thead th {\n        text-align: right;\n    }\n</style>\n<table border=\"1\" class=\"dataframe\">\n  <thead>\n    <tr style=\"text-align: right;\">\n      <th></th>\n      <th></th>\n      <th></th>\n      <th>brand</th>\n      <th>product</th>\n      <th>description</th>\n      <th>name</th>\n      <th>specific</th>\n      <th>hex</th>\n    </tr>\n    <tr>\n      <th>brand</th>\n      <th>product</th>\n      <th></th>\n      <th></th>\n      <th></th>\n      <th></th>\n      <th></th>\n      <th></th>\n      <th></th>\n    </tr>\n  </thead>\n  <tbody>\n    <tr>\n      <th>bareminerals</th>\n      <th>I AM AN ORIGINAL GET STARTED® KIT Original Loose Mineral Foundation Customizable Set</th>\n      <th>6653</th>\n      <td>bareminerals</td>\n      <td>I AM AN ORIGINAL GET STARTED® KIT Original Loo...</td>\n      <td>Neutral Tan 21 for tan warm skin with golden u...</td>\n      <td>bareMinerals</td>\n      <td>21</td>\n      <td>#A3623E</td>\n    </tr>\n    <tr>\n      <th>beauty bakerie</th>\n      <th>InstaBake Aqua Glass Foundation</th>\n      <th>1758</th>\n      <td>beauty bakerie</td>\n      <td>InstaBake Aqua Glass Foundation</td>\n      <td>315 Warm</td>\n      <td>Warm</td>\n      <td>315</td>\n      <td>#A87446</td>\n    </tr>\n    <tr>\n      <th>beautyblender</th>\n      <th>Bounce™ Liquid Whip Long Wear Foundation</th>\n      <th>4297</th>\n      <td>beautyblender</td>\n      <td>Bounce™ Liquid Whip Long Wear Foundation</td>\n      <td>4.70 Cool very deep with cool undertones</td>\n      <td>Cool</td>\n      <td>4.70</td>\n      <td>#542911</td>\n    </tr>\n    <tr>\n      <th>catrice</th>\n      <th>HD Liquid Coverage Foundation</th>\n      <th>3727</th>\n      <td>catrice</td>\n      <td>HD Liquid Coverage Foundation</td>\n      <td>Caramel Beige 046</td>\n      <td>Caramel Beige</td>\n      <td>046</td>\n      <td>#B68B61</td>\n    </tr>\n    <tr>\n      <th rowspan=\"2\" valign=\"top\">charlotte tilbury</th>\n      <th>Airbrush Flawless Longwear Foundation</th>\n      <th>4473</th>\n      <td>charlotte tilbury</td>\n      <td>Airbrush Flawless Longwear Foundation</td>\n      <td>7 Warm for medium skin with warm undertones</td>\n      <td>Warm</td>\n      <td>7</td>\n      <td>#F7CCA4</td>\n    </tr>\n    <tr>\n      <th>Light Wonder Foundation</th>\n      <th>5724</th>\n      <td>charlotte tilbury</td>\n      <td>Light Wonder Foundation</td>\n      <td>5 Medium warm peach</td>\n      <td>Medium</td>\n      <td>5</td>\n      <td>#D9B198</td>\n    </tr>\n    <tr>\n      <th>colourpop</th>\n      <th>Pretty Fresh Foundation</th>\n      <th>3451</th>\n      <td>colourpop</td>\n      <td>Pretty Fresh Foundation</td>\n      <td>Dark 180N (neutral)</td>\n      <td>Dark</td>\n      <td>180N</td>\n      <td>#A67C6B</td>\n    </tr>\n    <tr>\n      <th rowspan=\"4\" valign=\"top\">cover fx</th>\n      <th>Custom Cover Drops</th>\n      <th>860</th>\n      <td>cover fx</td>\n      <td>Custom Cover Drops</td>\n      <td>N Medium 3 (medium deep skin w/ neutral undert...</td>\n      <td>N Medium</td>\n      <td>3</td>\n      <td>#C49777</td>\n    </tr>\n    <tr>\n      <th>Natural Finish Foundation</th>\n      <th>2264</th>\n      <td>cover fx</td>\n      <td>Natural Finish Foundation</td>\n      <td>G+40 (medium olive skin w/ golden undertones)</td>\n      <td>G+</td>\n      <td>40</td>\n      <td>#E3B488</td>\n    </tr>\n    <tr>\n      <th>Power Play Foundation</th>\n      <th>3895</th>\n      <td>cover fx</td>\n      <td>Power Play Foundation</td>\n      <td>G+50 (medium to tan olive skin w/ golden under...</td>\n      <td>G+</td>\n      <td>50</td>\n      <td>#DA9A6C</td>\n    </tr>\n    <tr>\n      <th>Pressed Mineral Foundation</th>\n      <th>1461</th>\n      <td>cover fx</td>\n      <td>Pressed Mineral Foundation</td>\n      <td>G+40 (medium olive skin w/ golden undertones)</td>\n      <td>G+</td>\n      <td>40</td>\n      <td>#DFA880</td>\n    </tr>\n    <tr>\n      <th>covergirl</th>\n      <th>Full Spectrum Matte Ambition All Day Foundation</th>\n      <th>3576</th>\n      <td>covergirl</td>\n      <td>Full Spectrum Matte Ambition All Day Foundation</td>\n      <td>Tan Golden 2</td>\n      <td>Tan Golden</td>\n      <td>2</td>\n      <td>#A6724C</td>\n    </tr>\n    <tr>\n      <th rowspan=\"4\" valign=\"top\">dior</th>\n      <th>BACKSTAGE Face &amp; Body Foundation</th>\n      <th>4817</th>\n      <td>dior</td>\n      <td>BACKSTAGE Face &amp; Body Foundation</td>\n      <td>5 Neutral</td>\n      <td>Neutral</td>\n      <td>5</td>\n      <td>#D9A787</td>\n    </tr>\n    <tr>\n      <th>Dior Airflash Spray Foundation</th>\n      <th>4689</th>\n      <td>dior</td>\n      <td>Dior Airflash Spray Foundation</td>\n      <td>1 Cool (104) Fair skin, cool undertones</td>\n      <td>Cool</td>\n      <td>1</td>\n      <td>#CEA28C</td>\n    </tr>\n    <tr>\n      <th>Dior Forever Matte Foundation</th>\n      <th>5338</th>\n      <td>dior</td>\n      <td>Dior Forever Matte Foundation</td>\n      <td>3 Warm light medium skin, warm yellow undertones</td>\n      <td>Warm</td>\n      <td>3</td>\n      <td>#DBA992</td>\n    </tr>\n    <tr>\n      <th>Dior Forever Skin Glow Foundation</th>\n      <th>5302</th>\n      <td>dior</td>\n      <td>Dior Forever Skin Glow Foundation</td>\n      <td>1 Cool Rosy fair skin, cool pink undertones</td>\n      <td>Cool Rosy</td>\n      <td>1</td>\n      <td>#E0B6AA</td>\n    </tr>\n    <tr>\n      <th>dose of colors</th>\n      <th>Meet Your Hue Foundation</th>\n      <th>3969</th>\n      <td>dose of colors</td>\n      <td>Meet Your Hue Foundation</td>\n      <td>108 Light (light w/ pink undertones)</td>\n      <td>Light</td>\n      <td>108</td>\n      <td>#F2CDAD</td>\n    </tr>\n    <tr>\n      <th rowspan=\"2\" valign=\"top\">it cosmetics</th>\n      <th>CC+ Cream Oil-Free Matte with SPF 40</th>\n      <th>5088</th>\n      <td>it cosmetics</td>\n      <td>CC+ Cream Oil-Free Matte with SPF 40</td>\n      <td>Medium soft beige shade with warm undertones -...</td>\n      <td>Medium</td>\n      <td>NaN</td>\n      <td>#D0AC92</td>\n    </tr>\n    <tr>\n      <th>Your Skin But Better Foundation + Skincare</th>\n      <th>162</th>\n      <td>it cosmetics</td>\n      <td>Your Skin But Better Foundation + Skincare</td>\n      <td>Tan Neutral 42 (tan complexion with neutral ol...</td>\n      <td>Tan Neutral</td>\n      <td>42</td>\n      <td>#D3965D</td>\n    </tr>\n    <tr>\n      <th rowspan=\"3\" valign=\"top\">kevyn aucoin</th>\n      <th>Foundation Balm</th>\n      <th>6214</th>\n      <td>kevyn aucoin</td>\n      <td>Foundation Balm</td>\n      <td>Light EF 03 light</td>\n      <td>Light EF</td>\n      <td>03</td>\n      <td>#F1CAA6</td>\n    </tr>\n    <tr>\n      <th>Stripped Nude Skin Tint</th>\n      <th>6700</th>\n      <td>kevyn aucoin</td>\n      <td>Stripped Nude Skin Tint</td>\n      <td>ST 08 deep</td>\n      <td>ST</td>\n      <td>08</td>\n      <td>#D6A27E</td>\n    </tr>\n    <tr>\n      <th>The Etherealist Foundation</th>\n      <th>6448</th>\n      <td>kevyn aucoin</td>\n      <td>The Etherealist Foundation</td>\n      <td>Medium EF 11 medium with pink undertones</td>\n      <td>Medium EF</td>\n      <td>11</td>\n      <td>#C1977E</td>\n    </tr>\n    <tr>\n      <th>kosas</th>\n      <th>Tinted Face Oil Foundation</th>\n      <th>5364</th>\n      <td>kosas</td>\n      <td>Tinted Face Oil Foundation</td>\n      <td>Tone 7.5 deep tan with warm undertones</td>\n      <td>Tone</td>\n      <td>7.5</td>\n      <td>#B1763E</td>\n    </tr>\n    <tr>\n      <th rowspan=\"4\" valign=\"top\">kvd vegan beauty</th>\n      <th>Lock-It Foundation</th>\n      <th>202</th>\n      <td>kvd vegan beauty</td>\n      <td>Lock-It Foundation</td>\n      <td>Medium 57 W (medium golden with warm undertone)</td>\n      <td>Medium   W</td>\n      <td>57</td>\n      <td>#CE8E57</td>\n    </tr>\n    <tr>\n      <th>Lock-It Powder Foundation</th>\n      <th>233</th>\n      <td>kvd vegan beauty</td>\n      <td>Lock-It Powder Foundation</td>\n      <td>Medium 145 (medium taupe)</td>\n      <td>Medium</td>\n      <td>145</td>\n      <td>#D29874</td>\n    </tr>\n    <tr>\n      <th>Lock-It Powder Foundation Refills</th>\n      <th>269</th>\n      <td>kvd vegan beauty</td>\n      <td>Lock-It Powder Foundation Refills</td>\n      <td>Deep 200 (deep chestnut)</td>\n      <td>Deep</td>\n      <td>200</td>\n      <td>#9C6141</td>\n    </tr>\n    <tr>\n      <th>True Portrait Medium Coverage Shake Foundation</th>\n      <th>281</th>\n      <td>kvd vegan beauty</td>\n      <td>True Portrait Medium Coverage Shake Foundation</td>\n      <td>Light 012 (light pink with neutral undertone) ...</td>\n      <td>Light</td>\n      <td>012</td>\n      <td>#D6AE8B</td>\n    </tr>\n    <tr>\n      <th rowspan=\"4\" valign=\"top\">lancome</th>\n      <th>Dual Finish Multi-Tasking Lightweight Pressed Powder Foundation</th>\n      <th>1613</th>\n      <td>lancome</td>\n      <td>Dual Finish Multi-Tasking Lightweight Pressed ...</td>\n      <td>520 Suede</td>\n      <td>Suede</td>\n      <td>520</td>\n      <td>#AE5524</td>\n    </tr>\n    <tr>\n      <th>Rénergie Lift Makeup Lightweight Liquid Foundation SPF 27</th>\n      <th>3324</th>\n      <td>lancome</td>\n      <td>Rénergie Lift Makeup Lightweight Liquid Founda...</td>\n      <td>160 Ivoire W</td>\n      <td>Ivoire W</td>\n      <td>160</td>\n      <td>#D3A98B</td>\n    </tr>\n    <tr>\n      <th>Teint Idole Ultra Longwear Foundation Stick SPF 21</th>\n      <th>321</th>\n      <td>lancome</td>\n      <td>Teint Idole Ultra Longwear Foundation Stick SP...</td>\n      <td>260 Bisque N OUT OF STOCK</td>\n      <td>Bisque N</td>\n      <td>260</td>\n      <td>#E4B68F</td>\n    </tr>\n    <tr>\n      <th>Teint Idole Ultra Wear 24H Long Wear Foundation</th>\n      <th>2757</th>\n      <td>lancome</td>\n      <td>Teint Idole Ultra Wear 24H Long Wear Foundation</td>\n      <td>300 Bisque (medium skin w/ warm/yellow underto...</td>\n      <td>Bisque</td>\n      <td>300</td>\n      <td>#C4A577</td>\n    </tr>\n    <tr>\n      <th>morphe</th>\n      <th>Fluidity Full-Coverage Foundation</th>\n      <th>2827</th>\n      <td>morphe</td>\n      <td>Fluidity Full-Coverage Foundation</td>\n      <td>F2.60 Neutral (medium w/ neutral undertones)</td>\n      <td>Neutral</td>\n      <td>F2.60</td>\n      <td>#B8926B</td>\n    </tr>\n    <tr>\n      <th>natasha denona</th>\n      <th>Foundation X+</th>\n      <th>6597</th>\n      <td>natasha denona</td>\n      <td>Foundation X+</td>\n      <td>42 WYMedium - Warm Yellow warm yellow undertone</td>\n      <td>WYMedium</td>\n      <td>42</td>\n      <td>#E3C9AF</td>\n    </tr>\n    <tr>\n      <th rowspan=\"2\" valign=\"top\">nudestix</th>\n      <th>Nudies Tinted Blur Stick</th>\n      <th>6312</th>\n      <td>nudestix</td>\n      <td>Nudies Tinted Blur Stick</td>\n      <td>Light 2 light beige with neutral undertone</td>\n      <td>Light</td>\n      <td>2</td>\n      <td>#E1B19C</td>\n    </tr>\n    <tr>\n      <th>Tinted Cover Foundation</th>\n      <th>457</th>\n      <td>nudestix</td>\n      <td>Tinted Cover Foundation</td>\n      <td>Nude 1.5 (fair neutral cool)</td>\n      <td>Nude</td>\n      <td>1.5</td>\n      <td>#F2DBD3</td>\n    </tr>\n    <tr>\n      <th>pacifica</th>\n      <th>Alight Clean Foundation</th>\n      <th>1744</th>\n      <td>pacifica</td>\n      <td>Alight Clean Foundation</td>\n      <td>07WD Warm Deep (deep tan w/ slight red undertone)</td>\n      <td>Warm Deep</td>\n      <td>07WD</td>\n      <td>#9D5F2E</td>\n    </tr>\n    <tr>\n      <th>pat mcgrath labs</th>\n      <th>Sublime Perfection Foundation</th>\n      <th>5066</th>\n      <td>pat mcgrath labs</td>\n      <td>Sublime Perfection Foundation</td>\n      <td>Medium 20 medium with red undertones</td>\n      <td>Medium</td>\n      <td>20</td>\n      <td>#C2835A</td>\n    </tr>\n    <tr>\n      <th>pur</th>\n      <th>4-In-1 Love Your Selfie Longwear Foundation &amp; Concealer</th>\n      <th>2933</th>\n      <td>pur</td>\n      <td>4-In-1 Love Your Selfie Longwear Foundation &amp; ...</td>\n      <td>DPG1 Mocha (dark brown skin w/ golden undertones)</td>\n      <td>Mocha</td>\n      <td>DPG1</td>\n      <td>#815545</td>\n    </tr>\n    <tr>\n      <th rowspan=\"2\" valign=\"top\">sephora collection</th>\n      <th>10 Hour Wear Perfection Foundation</th>\n      <th>4646</th>\n      <td>sephora collection</td>\n      <td>10 Hour Wear Perfection Foundation</td>\n      <td>8 Light Ivory (P) for fair skin with pink unde...</td>\n      <td>Light Ivory</td>\n      <td>8</td>\n      <td>#D9B19C</td>\n    </tr>\n    <tr>\n      <th>Best Skin Ever Liquid Foundation</th>\n      <th>6800</th>\n      <td>sephora collection</td>\n      <td>Best Skin Ever Liquid Foundation</td>\n      <td>55 N for dark skin with neutral undertones</td>\n      <td>N</td>\n      <td>55</td>\n      <td>#C99064</td>\n    </tr>\n    <tr>\n      <th>smashbox</th>\n      <th>Primer + Foundation Customizable Set</th>\n      <th>6395</th>\n      <td>smashbox</td>\n      <td>Primer + Foundation Customizable Set</td>\n      <td>4.5 very deep with warm undertone</td>\n      <td>Smashbox</td>\n      <td>4.5</td>\n      <td>#8F554B</td>\n    </tr>\n    <tr>\n      <th>smith &amp; cult</th>\n      <th>Veiled Threat Weightless Micro-Blurring Foundation</th>\n      <th>3862</th>\n      <td>smith &amp; cult</td>\n      <td>Veiled Threat Weightless Micro-Blurring Founda...</td>\n      <td>380 Warm (tan to deep skin w/ warm undertones)</td>\n      <td>Warm</td>\n      <td>380</td>\n      <td>#C87D53</td>\n    </tr>\n    <tr>\n      <th>surratt beauty</th>\n      <th>Surreal Skin Foundation Wand</th>\n      <th>6560</th>\n      <td>surratt beauty</td>\n      <td>Surreal Skin Foundation Wand</td>\n      <td>Surreal Skin 14 bronze light brown with golden...</td>\n      <td>Surreal Skin</td>\n      <td>14</td>\n      <td>#A06039</td>\n    </tr>\n    <tr>\n      <th rowspan=\"2\" valign=\"top\">tarte</th>\n      <th>BB Tinted Treatment 12-Hour Primer Broad Spectrum SPF 30 Sunscreen</th>\n      <th>5166</th>\n      <td>tarte</td>\n      <td>BB Tinted Treatment 12-Hour Primer Broad Spect...</td>\n      <td>Tan - Selected</td>\n      <td>Tan</td>\n      <td>NaN</td>\n      <td>#D99B76</td>\n    </tr>\n    <tr>\n      <th>Face Tape Foundation</th>\n      <th>3556</th>\n      <td>tarte</td>\n      <td>Face Tape Foundation</td>\n      <td>51N Deep Neutral (deep skin w/ neutral underto...</td>\n      <td>Deep Neutral</td>\n      <td>51N</td>\n      <td>#C4845E</td>\n    </tr>\n    <tr>\n      <th rowspan=\"2\" valign=\"top\">the ordinary</th>\n      <th>Coverage Foundation</th>\n      <th>3399</th>\n      <td>the ordinary</td>\n      <td>Coverage Foundation</td>\n      <td>3.3 N (very deep w/ neutral undertones)</td>\n      <td>N</td>\n      <td>3.3</td>\n      <td>#6F4F3D</td>\n    </tr>\n    <tr>\n      <th>Serum Foundation</th>\n      <th>3404</th>\n      <td>the ordinary</td>\n      <td>Serum Foundation</td>\n      <td>1.1 P (fair w/ pink undertones)</td>\n      <td>P</td>\n      <td>1.1</td>\n      <td>#F7E5D2</td>\n    </tr>\n    <tr>\n      <th>uoma beauty</th>\n      <th>Say What?! Foundation</th>\n      <th>2987</th>\n      <td>uoma beauty</td>\n      <td>Say What?! Foundation</td>\n      <td>White Pearl - T1W (for very fair skin w/ warm ...</td>\n      <td>White Pearl</td>\n      <td>T1W</td>\n      <td>#EDCDB7</td>\n    </tr>\n    <tr>\n      <th>vdl</th>\n      <th>Perfect Lasting Foundation</th>\n      <th>3648</th>\n      <td>vdl</td>\n      <td>Perfect Lasting Foundation</td>\n      <td>A04.5 Warm Undertone</td>\n      <td>Warm Undertone</td>\n      <td>A04.5</td>\n      <td>#E0BD9B</td>\n    </tr>\n  </tbody>\n</table>\n</div>"
     },
     "execution_count": 12,
     "metadata": {},
     "output_type": "execute_result"
    }
   ],
   "source": [
    "shade_name_dupes= all_shades.duplicated(subset=['brand','product','name'], keep=False) & all_shades['name'].notna()\n",
    "shade_name_dupes = all_shades[shade_name_dupes]\n",
    "print(shade_name_dupes.count())\n",
    "shade_name_dupes.groupby(['brand','product']).apply(lambda group: group.sample(1))"
   ],
   "metadata": {
    "collapsed": false,
    "ExecuteTime": {
     "end_time": "2023-11-21T02:06:05.797148800Z",
     "start_time": "2023-11-21T02:06:05.704364700Z"
    }
   }
  },
  {
   "cell_type": "code",
   "execution_count": 13,
   "outputs": [
    {
     "name": "stdout",
     "output_type": "stream",
     "text": [
      "brand          387\n",
      "product        387\n",
      "description    387\n",
      "name           271\n",
      "specific       387\n",
      "hex            387\n",
      "dtype: int64\n"
     ]
    },
    {
     "data": {
      "text/plain": "                                                                                       brand  \\\nbrand             product                                                                      \narmani beauty     Luminous Silk Perfect Glow Flawless Oil-Free Fo... 4107      armani beauty   \nbareminerals      Blemish Rescue™ Salicylic Acid Loose Powder Fou... 5780       bareminerals   \ncharlotte tilbury Airbrush Flawless Longwear Foundation              4469  charlotte tilbury   \nclinique          Even Better Makeup Broad Spectrum SPF 15           1939           clinique   \ncover fx          Custom Cover Drops                                 860            cover fx   \ncovergirl         Full Spectrum Matte Ambition All Day Foundation    3572          covergirl   \ndior              BACKSTAGE Face & Body Foundation                   4817               dior   \n                  Dior Airflash Spray Foundation                     4698               dior   \n                  Dior Forever Matte Foundation                      5339               dior   \n                  Dior Forever Skin Glow Foundation                  5306               dior   \nkvd vegan beauty  Lock-It Foundation                                 198    kvd vegan beauty   \nlaura mercier     Tinted Moisturizer Broad Spectrum SPF 20 - Oil ... 4721      laura mercier   \n                  Tinted Moisturizer Natural Skin Perfector Broad... 4526      laura mercier   \ntarte             Maracuja Hydrating Tinted Moisturizer              5276              tarte   \n                  SEA Water Foundation Broad Spectrum SPF 15         4864              tarte   \nthe ordinary      Coverage Foundation                                3383       the ordinary   \n                  Serum Foundation                                   3401       the ordinary   \nuoma beauty       Say What?! Foundation                              2968        uoma beauty   \n\n                                                                                                                     product  \\\nbrand             product                                                                                                      \narmani beauty     Luminous Silk Perfect Glow Flawless Oil-Free Fo... 4107  Luminous Silk Perfect Glow Flawless Oil-Free F...   \nbareminerals      Blemish Rescue™ Salicylic Acid Loose Powder Fou... 5780  Blemish Rescue™ Salicylic Acid Loose Powder Fo...   \ncharlotte tilbury Airbrush Flawless Longwear Foundation              4469              Airbrush Flawless Longwear Foundation   \nclinique          Even Better Makeup Broad Spectrum SPF 15           1939           Even Better Makeup Broad Spectrum SPF 15   \ncover fx          Custom Cover Drops                                 860                                  Custom Cover Drops   \ncovergirl         Full Spectrum Matte Ambition All Day Foundation    3572    Full Spectrum Matte Ambition All Day Foundation   \ndior              BACKSTAGE Face & Body Foundation                   4817                   BACKSTAGE Face & Body Foundation   \n                  Dior Airflash Spray Foundation                     4698                     Dior Airflash Spray Foundation   \n                  Dior Forever Matte Foundation                      5339                      Dior Forever Matte Foundation   \n                  Dior Forever Skin Glow Foundation                  5306                  Dior Forever Skin Glow Foundation   \nkvd vegan beauty  Lock-It Foundation                                 198                                  Lock-It Foundation   \nlaura mercier     Tinted Moisturizer Broad Spectrum SPF 20 - Oil ... 4721  Tinted Moisturizer Broad Spectrum SPF 20 - Oil...   \n                  Tinted Moisturizer Natural Skin Perfector Broad... 4526  Tinted Moisturizer Natural Skin Perfector Broa...   \ntarte             Maracuja Hydrating Tinted Moisturizer              5276              Maracuja Hydrating Tinted Moisturizer   \n                  SEA Water Foundation Broad Spectrum SPF 15         4864         SEA Water Foundation Broad Spectrum SPF 15   \nthe ordinary      Coverage Foundation                                3383                                Coverage Foundation   \n                  Serum Foundation                                   3401                                   Serum Foundation   \nuoma beauty       Say What?! Foundation                              2968                              Say What?! Foundation   \n\n                                                                                                                 description  \\\nbrand             product                                                                                                      \narmani beauty     Luminous Silk Perfect Glow Flawless Oil-Free Fo... 4107                               3.75 very fair, pink   \nbareminerals      Blemish Rescue™ Salicylic Acid Loose Powder Fou... 5780  Medium Dark 5CN  dark skin with cool to neutra...   \ncharlotte tilbury Airbrush Flawless Longwear Foundation              4469      5.5 Warm for medium skin with warm undertones   \nclinique          Even Better Makeup Broad Spectrum SPF 15           1939  WN 92 Toasted Almond (medium, warm-neutral und...   \ncover fx          Custom Cover Drops                                 860   N Medium 3 (medium deep skin w/ neutral undert...   \ncovergirl         Full Spectrum Matte Ambition All Day Foundation    3572                                        Deep Cool 2   \ndior              BACKSTAGE Face & Body Foundation                   4817                                          5 Neutral   \n                  Dior Airflash Spray Foundation                     4698    3 Cool (304) Light medium skin, cool undertones   \n                  Dior Forever Matte Foundation                      5339  3 Warm Olive light medium skin, warm olive und...   \n                  Dior Forever Skin Glow Foundation                  5306       2 Cool Rosy light skin, cool pink undertones   \nkvd vegan beauty  Lock-It Foundation                                 198      Medium 53 W (medium beige with warm undertone)   \nlaura mercier     Tinted Moisturizer Broad Spectrum SPF 20 - Oil ... 4721              3W1 Ochre medium with warm undertones   \n                  Tinted Moisturizer Natural Skin Perfector Broad... 4526                             2N1 Nude light neutral   \ntarte             Maracuja Hydrating Tinted Moisturizer              5276  13N fair-light neutral fair to light skin with...   \n                  SEA Water Foundation Broad Spectrum SPF 15         4864                                      57S rich sand   \nthe ordinary      Coverage Foundation                                3383                    1.1 P (fair w/ pink undertones)   \n                  Serum Foundation                                   3401               1.0 P (very fair w/ pink undertones)   \nuoma beauty       Say What?! Foundation                              2968  Honey Honey - T3C (for olive skin w/ cool unde...   \n\n                                                                                     name  \\\nbrand             product                                                                   \narmani beauty     Luminous Silk Perfect Glow Flawless Oil-Free Fo... 4107             NaN   \nbareminerals      Blemish Rescue™ Salicylic Acid Loose Powder Fou... 5780     Medium Dark   \ncharlotte tilbury Airbrush Flawless Longwear Foundation              4469            Warm   \nclinique          Even Better Makeup Broad Spectrum SPF 15           1939  Toasted Almond   \ncover fx          Custom Cover Drops                                 860         N Medium   \ncovergirl         Full Spectrum Matte Ambition All Day Foundation    3572       Deep Cool   \ndior              BACKSTAGE Face & Body Foundation                   4817         Neutral   \n                  Dior Airflash Spray Foundation                     4698            Cool   \n                  Dior Forever Matte Foundation                      5339      Warm Olive   \n                  Dior Forever Skin Glow Foundation                  5306       Cool Rosy   \nkvd vegan beauty  Lock-It Foundation                                 198       Medium   W   \nlaura mercier     Tinted Moisturizer Broad Spectrum SPF 20 - Oil ... 4721             NaN   \n                  Tinted Moisturizer Natural Skin Perfector Broad... 4526             NaN   \ntarte             Maracuja Hydrating Tinted Moisturizer              5276             NaN   \n                  SEA Water Foundation Broad Spectrum SPF 15         4864             NaN   \nthe ordinary      Coverage Foundation                                3383               P   \n                  Serum Foundation                                   3401               P   \nuoma beauty       Say What?! Foundation                              2968     Honey Honey   \n\n                                                                          specific  \\\nbrand             product                                                            \narmani beauty     Luminous Silk Perfect Glow Flawless Oil-Free Fo... 4107     3.75   \nbareminerals      Blemish Rescue™ Salicylic Acid Loose Powder Fou... 5780      5CN   \ncharlotte tilbury Airbrush Flawless Longwear Foundation              4469      5.5   \nclinique          Even Better Makeup Broad Spectrum SPF 15           1939    WN 92   \ncover fx          Custom Cover Drops                                 860         3   \ncovergirl         Full Spectrum Matte Ambition All Day Foundation    3572        2   \ndior              BACKSTAGE Face & Body Foundation                   4817        5   \n                  Dior Airflash Spray Foundation                     4698        3   \n                  Dior Forever Matte Foundation                      5339        3   \n                  Dior Forever Skin Glow Foundation                  5306        2   \nkvd vegan beauty  Lock-It Foundation                                 198        53   \nlaura mercier     Tinted Moisturizer Broad Spectrum SPF 20 - Oil ... 4721      3W1   \n                  Tinted Moisturizer Natural Skin Perfector Broad... 4526      2N1   \ntarte             Maracuja Hydrating Tinted Moisturizer              5276      13N   \n                  SEA Water Foundation Broad Spectrum SPF 15         4864      57S   \nthe ordinary      Coverage Foundation                                3383      1.1   \n                  Serum Foundation                                   3401      1.0   \nuoma beauty       Say What?! Foundation                              2968      T3C   \n\n                                                                               hex  \nbrand             product                                                           \narmani beauty     Luminous Silk Perfect Glow Flawless Oil-Free Fo... 4107  #DCB098  \nbareminerals      Blemish Rescue™ Salicylic Acid Loose Powder Fou... 5780  #9C5A37  \ncharlotte tilbury Airbrush Flawless Longwear Foundation              4469  #F5D2AF  \nclinique          Even Better Makeup Broad Spectrum SPF 15           1939  #DB9467  \ncover fx          Custom Cover Drops                                 860   #C49777  \ncovergirl         Full Spectrum Matte Ambition All Day Foundation    3572  #8F6344  \ndior              BACKSTAGE Face & Body Foundation                   4817  #D9A787  \n                  Dior Airflash Spray Foundation                     4698  #C6A38D  \n                  Dior Forever Matte Foundation                      5339  #D5AD91  \n                  Dior Forever Skin Glow Foundation                  5306  #DCADA0  \nkvd vegan beauty  Lock-It Foundation                                 198   #D79662  \nlaura mercier     Tinted Moisturizer Broad Spectrum SPF 20 - Oil ... 4721  #DDAA87  \n                  Tinted Moisturizer Natural Skin Perfector Broad... 4526  #E0B28B  \ntarte             Maracuja Hydrating Tinted Moisturizer              5276  #EEB794  \n                  SEA Water Foundation Broad Spectrum SPF 15         4864  #966E5C  \nthe ordinary      Coverage Foundation                                3383  #F7E5D3  \n                  Serum Foundation                                   3401  #F5E8D7  \nuoma beauty       Say What?! Foundation                              2968  #D1906B  ",
      "text/html": "<div>\n<style scoped>\n    .dataframe tbody tr th:only-of-type {\n        vertical-align: middle;\n    }\n\n    .dataframe tbody tr th {\n        vertical-align: top;\n    }\n\n    .dataframe thead th {\n        text-align: right;\n    }\n</style>\n<table border=\"1\" class=\"dataframe\">\n  <thead>\n    <tr style=\"text-align: right;\">\n      <th></th>\n      <th></th>\n      <th></th>\n      <th>brand</th>\n      <th>product</th>\n      <th>description</th>\n      <th>name</th>\n      <th>specific</th>\n      <th>hex</th>\n    </tr>\n    <tr>\n      <th>brand</th>\n      <th>product</th>\n      <th></th>\n      <th></th>\n      <th></th>\n      <th></th>\n      <th></th>\n      <th></th>\n      <th></th>\n    </tr>\n  </thead>\n  <tbody>\n    <tr>\n      <th>armani beauty</th>\n      <th>Luminous Silk Perfect Glow Flawless Oil-Free Foundation</th>\n      <th>4107</th>\n      <td>armani beauty</td>\n      <td>Luminous Silk Perfect Glow Flawless Oil-Free F...</td>\n      <td>3.75 very fair, pink</td>\n      <td>NaN</td>\n      <td>3.75</td>\n      <td>#DCB098</td>\n    </tr>\n    <tr>\n      <th>bareminerals</th>\n      <th>Blemish Rescue™ Salicylic Acid Loose Powder Foundation</th>\n      <th>5780</th>\n      <td>bareminerals</td>\n      <td>Blemish Rescue™ Salicylic Acid Loose Powder Fo...</td>\n      <td>Medium Dark 5CN  dark skin with cool to neutra...</td>\n      <td>Medium Dark</td>\n      <td>5CN</td>\n      <td>#9C5A37</td>\n    </tr>\n    <tr>\n      <th>charlotte tilbury</th>\n      <th>Airbrush Flawless Longwear Foundation</th>\n      <th>4469</th>\n      <td>charlotte tilbury</td>\n      <td>Airbrush Flawless Longwear Foundation</td>\n      <td>5.5 Warm for medium skin with warm undertones</td>\n      <td>Warm</td>\n      <td>5.5</td>\n      <td>#F5D2AF</td>\n    </tr>\n    <tr>\n      <th>clinique</th>\n      <th>Even Better Makeup Broad Spectrum SPF 15</th>\n      <th>1939</th>\n      <td>clinique</td>\n      <td>Even Better Makeup Broad Spectrum SPF 15</td>\n      <td>WN 92 Toasted Almond (medium, warm-neutral und...</td>\n      <td>Toasted Almond</td>\n      <td>WN 92</td>\n      <td>#DB9467</td>\n    </tr>\n    <tr>\n      <th>cover fx</th>\n      <th>Custom Cover Drops</th>\n      <th>860</th>\n      <td>cover fx</td>\n      <td>Custom Cover Drops</td>\n      <td>N Medium 3 (medium deep skin w/ neutral undert...</td>\n      <td>N Medium</td>\n      <td>3</td>\n      <td>#C49777</td>\n    </tr>\n    <tr>\n      <th>covergirl</th>\n      <th>Full Spectrum Matte Ambition All Day Foundation</th>\n      <th>3572</th>\n      <td>covergirl</td>\n      <td>Full Spectrum Matte Ambition All Day Foundation</td>\n      <td>Deep Cool 2</td>\n      <td>Deep Cool</td>\n      <td>2</td>\n      <td>#8F6344</td>\n    </tr>\n    <tr>\n      <th rowspan=\"4\" valign=\"top\">dior</th>\n      <th>BACKSTAGE Face &amp; Body Foundation</th>\n      <th>4817</th>\n      <td>dior</td>\n      <td>BACKSTAGE Face &amp; Body Foundation</td>\n      <td>5 Neutral</td>\n      <td>Neutral</td>\n      <td>5</td>\n      <td>#D9A787</td>\n    </tr>\n    <tr>\n      <th>Dior Airflash Spray Foundation</th>\n      <th>4698</th>\n      <td>dior</td>\n      <td>Dior Airflash Spray Foundation</td>\n      <td>3 Cool (304) Light medium skin, cool undertones</td>\n      <td>Cool</td>\n      <td>3</td>\n      <td>#C6A38D</td>\n    </tr>\n    <tr>\n      <th>Dior Forever Matte Foundation</th>\n      <th>5339</th>\n      <td>dior</td>\n      <td>Dior Forever Matte Foundation</td>\n      <td>3 Warm Olive light medium skin, warm olive und...</td>\n      <td>Warm Olive</td>\n      <td>3</td>\n      <td>#D5AD91</td>\n    </tr>\n    <tr>\n      <th>Dior Forever Skin Glow Foundation</th>\n      <th>5306</th>\n      <td>dior</td>\n      <td>Dior Forever Skin Glow Foundation</td>\n      <td>2 Cool Rosy light skin, cool pink undertones</td>\n      <td>Cool Rosy</td>\n      <td>2</td>\n      <td>#DCADA0</td>\n    </tr>\n    <tr>\n      <th>kvd vegan beauty</th>\n      <th>Lock-It Foundation</th>\n      <th>198</th>\n      <td>kvd vegan beauty</td>\n      <td>Lock-It Foundation</td>\n      <td>Medium 53 W (medium beige with warm undertone)</td>\n      <td>Medium   W</td>\n      <td>53</td>\n      <td>#D79662</td>\n    </tr>\n    <tr>\n      <th rowspan=\"2\" valign=\"top\">laura mercier</th>\n      <th>Tinted Moisturizer Broad Spectrum SPF 20 - Oil Free</th>\n      <th>4721</th>\n      <td>laura mercier</td>\n      <td>Tinted Moisturizer Broad Spectrum SPF 20 - Oil...</td>\n      <td>3W1 Ochre medium with warm undertones</td>\n      <td>NaN</td>\n      <td>3W1</td>\n      <td>#DDAA87</td>\n    </tr>\n    <tr>\n      <th>Tinted Moisturizer Natural Skin Perfector Broad Spectrum SPF 30</th>\n      <th>4526</th>\n      <td>laura mercier</td>\n      <td>Tinted Moisturizer Natural Skin Perfector Broa...</td>\n      <td>2N1 Nude light neutral</td>\n      <td>NaN</td>\n      <td>2N1</td>\n      <td>#E0B28B</td>\n    </tr>\n    <tr>\n      <th rowspan=\"2\" valign=\"top\">tarte</th>\n      <th>Maracuja Hydrating Tinted Moisturizer</th>\n      <th>5276</th>\n      <td>tarte</td>\n      <td>Maracuja Hydrating Tinted Moisturizer</td>\n      <td>13N fair-light neutral fair to light skin with...</td>\n      <td>NaN</td>\n      <td>13N</td>\n      <td>#EEB794</td>\n    </tr>\n    <tr>\n      <th>SEA Water Foundation Broad Spectrum SPF 15</th>\n      <th>4864</th>\n      <td>tarte</td>\n      <td>SEA Water Foundation Broad Spectrum SPF 15</td>\n      <td>57S rich sand</td>\n      <td>NaN</td>\n      <td>57S</td>\n      <td>#966E5C</td>\n    </tr>\n    <tr>\n      <th rowspan=\"2\" valign=\"top\">the ordinary</th>\n      <th>Coverage Foundation</th>\n      <th>3383</th>\n      <td>the ordinary</td>\n      <td>Coverage Foundation</td>\n      <td>1.1 P (fair w/ pink undertones)</td>\n      <td>P</td>\n      <td>1.1</td>\n      <td>#F7E5D3</td>\n    </tr>\n    <tr>\n      <th>Serum Foundation</th>\n      <th>3401</th>\n      <td>the ordinary</td>\n      <td>Serum Foundation</td>\n      <td>1.0 P (very fair w/ pink undertones)</td>\n      <td>P</td>\n      <td>1.0</td>\n      <td>#F5E8D7</td>\n    </tr>\n    <tr>\n      <th>uoma beauty</th>\n      <th>Say What?! Foundation</th>\n      <th>2968</th>\n      <td>uoma beauty</td>\n      <td>Say What?! Foundation</td>\n      <td>Honey Honey - T3C (for olive skin w/ cool unde...</td>\n      <td>Honey Honey</td>\n      <td>T3C</td>\n      <td>#D1906B</td>\n    </tr>\n  </tbody>\n</table>\n</div>"
     },
     "execution_count": 13,
     "metadata": {},
     "output_type": "execute_result"
    }
   ],
   "source": [
    "\n",
    "specific_dupes =  all_shades.duplicated(subset=['brand','product','specific'], keep=False) & all_shades['specific'].notna()\n",
    "specific_dupes = all_shades[specific_dupes]\n",
    "print(specific_dupes.count())\n",
    "specific_dupes.groupby(['brand','product']).apply(lambda group: group.sample(1))"
   ],
   "metadata": {
    "collapsed": false,
    "ExecuteTime": {
     "end_time": "2023-11-21T02:06:05.878232100Z",
     "start_time": "2023-11-21T02:06:05.738450700Z"
    }
   }
  },
  {
   "cell_type": "markdown",
   "source": [
    "### Initial Observations \n",
    "**Data Types**\n",
    "- `brand`, `product`,`description` and `hex` are **strings**.\n",
    "- `index` is an **integer**.\n",
    "All data types are properly assigned and don't need any changes\n",
    "\n",
    "**Missing Data**\n",
    "- the `specific` and `name` columns feature expected missign data as not all foundation shades have a name and a specific color code. \n",
    "\n",
    "**Duplicate Rows**\n",
    "- The dataset contains 20 entirely duplicate rows \n",
    "- KVD Vegan duplicates by combining Letter of name to Specifc\n",
    "    - removes extra Spaces in name for easier exploration \n",
    "- The ordinary combine the name and specific column the name column is incorrect\n",
    "- Cover Girl duplicate combine specific and name column, drop specific column as it's incorrect and doesn't reflect the specific shade numbers for the product\n",
    "- Charlotte Tilbury combine name and specifc column\n",
    "- Laura Mercier Drop duplicates, and set correct shade names \n",
    "- Dior Combine Name and Specific column, correct specific column ex: Cr 4 for cool rosy 4\n",
    "- Tarte - Drop Duplicates\n",
    "- Bare Minerals, update sepcific to correct numbers and separate the numbers from the name column.\n",
    "- Kosas(Tone), Smashbox, SurratBeauty, bareminerals, Kevyn Aucoin change name to NAN\n",
    "- Sephora combine specific and name \n",
    "**Uniqueness of Data**\n",
    "- [ The brand column has a 93 percent of similarity, this is expected as brands have multiple products]\n"
   ],
   "metadata": {
    "cell_id": "a73ad313fe5640cc82dd2f1b9a6ea5fc",
    "deepnote_cell_type": "markdown"
   }
  },
  {
   "cell_type": "markdown",
   "source": [
    "---"
   ],
   "metadata": {
    "cell_id": "a5bcbeb6e7f94451b008c8076cab7365",
    "deepnote_cell_type": "markdown"
   }
  },
  {
   "cell_type": "markdown",
   "source": [
    "# 3"
   ],
   "metadata": {
    "cell_id": "1c0e1aa8992949998540a19add96c70e",
    "deepnote_cell_type": "markdown"
   }
  },
  {
   "cell_type": "markdown",
   "source": [
    "## Data Preprocessing"
   ],
   "metadata": {
    "cell_id": "592b248d503e44b4b461ef82f9adf7a6",
    "deepnote_cell_type": "markdown"
   }
  },
  {
   "cell_type": "markdown",
   "source": [
    "Here you can add sections like:\n",
    "\n",
    "- Renaming columns\n",
    "- Drop Redundant Columns\n",
    "- Changing Data Types\n",
    "- Dropping Duplicates\n",
    "- Handling Missing Values\n",
    "- Handling Unreasonable Data Ranges\n",
    "- Feature Engineering / Transformation\n",
    "\n",
    "Use `assert` where possible to show that preprocessing is done."
   ],
   "metadata": {
    "cell_id": "8be765b5461441988fb9d82f77530ea4",
    "deepnote_cell_type": "markdown"
   }
  },
  {
   "cell_type": "markdown",
   "source": [
    "### Fix Data"
   ],
   "metadata": {
    "cell_id": "5a44d491b9714a98aca3e40a2e51c02e",
    "deepnote_cell_type": "markdown"
   }
  },
  {
   "cell_type": "markdown",
   "source": [
    "### Data Accuracy"
   ],
   "metadata": {
    "collapsed": false
   }
  },
  {
   "cell_type": "markdown",
   "source": [
    "`Name Column`"
   ],
   "metadata": {
    "collapsed": false
   }
  },
  {
   "cell_type": "code",
   "execution_count": 14,
   "outputs": [
    {
     "data": {
      "text/plain": "             brand                                            product  \\\n5148  bareminerals      Matte Loose Powder Mineral Foundation SPF 15    \n6450  kevyn aucoin                         The Etherealist Foundation   \n5133  bareminerals      Matte Loose Powder Mineral Foundation SPF 15    \n1243  bareminerals         BAREPRO Performance Wear Powder Foundation   \n2395  bareminerals  BAREPRO Performance Wear Liquid Foundation Bro...   \n\n                                            description name specific      hex  \n5148  Tan Nude 17 for medium-tan warm skin with gold...  NaN       17  #A46E51  \n6450               Deep EF 13 deep with warm undertones  NaN       13  #AF815C  \n5133  Fair Ivory 02 for very fair neutral skin with ...  NaN       02  #D09B83  \n1243  Sable 21 (for tan warm skin w/ golden undertones)  NaN       21  #C4885C  \n2395  Warm Natural 12 (for light warm skin w/ yellow...  NaN       12  #DD9F7A  ",
      "text/html": "<div>\n<style scoped>\n    .dataframe tbody tr th:only-of-type {\n        vertical-align: middle;\n    }\n\n    .dataframe tbody tr th {\n        vertical-align: top;\n    }\n\n    .dataframe thead th {\n        text-align: right;\n    }\n</style>\n<table border=\"1\" class=\"dataframe\">\n  <thead>\n    <tr style=\"text-align: right;\">\n      <th></th>\n      <th>brand</th>\n      <th>product</th>\n      <th>description</th>\n      <th>name</th>\n      <th>specific</th>\n      <th>hex</th>\n    </tr>\n  </thead>\n  <tbody>\n    <tr>\n      <th>5148</th>\n      <td>bareminerals</td>\n      <td>Matte Loose Powder Mineral Foundation SPF 15</td>\n      <td>Tan Nude 17 for medium-tan warm skin with gold...</td>\n      <td>NaN</td>\n      <td>17</td>\n      <td>#A46E51</td>\n    </tr>\n    <tr>\n      <th>6450</th>\n      <td>kevyn aucoin</td>\n      <td>The Etherealist Foundation</td>\n      <td>Deep EF 13 deep with warm undertones</td>\n      <td>NaN</td>\n      <td>13</td>\n      <td>#AF815C</td>\n    </tr>\n    <tr>\n      <th>5133</th>\n      <td>bareminerals</td>\n      <td>Matte Loose Powder Mineral Foundation SPF 15</td>\n      <td>Fair Ivory 02 for very fair neutral skin with ...</td>\n      <td>NaN</td>\n      <td>02</td>\n      <td>#D09B83</td>\n    </tr>\n    <tr>\n      <th>1243</th>\n      <td>bareminerals</td>\n      <td>BAREPRO Performance Wear Powder Foundation</td>\n      <td>Sable 21 (for tan warm skin w/ golden undertones)</td>\n      <td>NaN</td>\n      <td>21</td>\n      <td>#C4885C</td>\n    </tr>\n    <tr>\n      <th>2395</th>\n      <td>bareminerals</td>\n      <td>BAREPRO Performance Wear Liquid Foundation Bro...</td>\n      <td>Warm Natural 12 (for light warm skin w/ yellow...</td>\n      <td>NaN</td>\n      <td>12</td>\n      <td>#DD9F7A</td>\n    </tr>\n  </tbody>\n</table>\n</div>"
     },
     "execution_count": 14,
     "metadata": {},
     "output_type": "execute_result"
    }
   ],
   "source": [
    "# Identifying and replacing inappropriately filled shade name values with NaN\n",
    "#listing names that will have  shade name converted to nan\n",
    "target_brands= ['kosas', 'kevyn aucoin', 'bareminerals','smashbox','surratbeauty']\n",
    "all_shades.loc[all_shades['brand'].isin(target_brands), 'name'] = np.nan\n",
    "#Verifying changes \n",
    "all_shades[all_shades['brand'].isin(target_brands)].sample(5)\n"
   ],
   "metadata": {
    "collapsed": false,
    "ExecuteTime": {
     "end_time": "2023-11-21T02:06:05.900687500Z",
     "start_time": "2023-11-21T02:06:05.758557500Z"
    }
   }
  },
  {
   "cell_type": "code",
   "execution_count": 15,
   "outputs": [
    {
     "data": {
      "text/plain": "                brand                                         product  \\\n180  kvd vegan beauty                              Lock-It Foundation   \n181  kvd vegan beauty                              Lock-It Foundation   \n182  kvd vegan beauty                              Lock-It Foundation   \n183  kvd vegan beauty                              Lock-It Foundation   \n184  kvd vegan beauty                              Lock-It Foundation   \n..                ...                                             ...   \n311  kvd vegan beauty  True Portrait Medium Coverage Shake Foundation   \n312  kvd vegan beauty  True Portrait Medium Coverage Shake Foundation   \n313  kvd vegan beauty  True Portrait Medium Coverage Shake Foundation   \n314  kvd vegan beauty  True Portrait Medium Coverage Shake Foundation   \n315  kvd vegan beauty  True Portrait Medium Coverage Shake Foundation   \n\n                                           description      name specific  \\\n180  Medium 54 N (medium sesame with neutral undert...  Medium N       54   \n181  Light 40 N (near-white for mixing & artistry l...   Light N       40   \n182     Light 41 N (fair ivory with neutral undertone)   Light N       41   \n183  Light 42 N (fair porcelain with neutral undert...   Light N       42   \n184    Light 42 W (fair porcelain with warm undertone)   Light W       42   \n..                                                 ...       ...      ...   \n311         Deep 090 (deep bronze with warm undertone)      Deep      090   \n312      Deep 092 (deep golden with neutral undertone)      Deep      092   \n313  Deep 094 (rich-deep bronze with neutral undert...      Deep      094   \n314  Deep 096 (rich-deep golden with neutral undert...      Deep      096   \n315        Deep 098 (rich-deep with neutral undertone)      Deep      098   \n\n         hex  \n180  #D19264  \n181  #F9D3B9  \n182  #F1CCB6  \n183  #FBCCB2  \n184  #F8CEA3  \n..       ...  \n311  #5E3C2C  \n312  #624432  \n313  #5D392C  \n314  #4F352B  \n315  #483329  \n\n[136 rows x 6 columns]",
      "text/html": "<div>\n<style scoped>\n    .dataframe tbody tr th:only-of-type {\n        vertical-align: middle;\n    }\n\n    .dataframe tbody tr th {\n        vertical-align: top;\n    }\n\n    .dataframe thead th {\n        text-align: right;\n    }\n</style>\n<table border=\"1\" class=\"dataframe\">\n  <thead>\n    <tr style=\"text-align: right;\">\n      <th></th>\n      <th>brand</th>\n      <th>product</th>\n      <th>description</th>\n      <th>name</th>\n      <th>specific</th>\n      <th>hex</th>\n    </tr>\n  </thead>\n  <tbody>\n    <tr>\n      <th>180</th>\n      <td>kvd vegan beauty</td>\n      <td>Lock-It Foundation</td>\n      <td>Medium 54 N (medium sesame with neutral undert...</td>\n      <td>Medium N</td>\n      <td>54</td>\n      <td>#D19264</td>\n    </tr>\n    <tr>\n      <th>181</th>\n      <td>kvd vegan beauty</td>\n      <td>Lock-It Foundation</td>\n      <td>Light 40 N (near-white for mixing &amp; artistry l...</td>\n      <td>Light N</td>\n      <td>40</td>\n      <td>#F9D3B9</td>\n    </tr>\n    <tr>\n      <th>182</th>\n      <td>kvd vegan beauty</td>\n      <td>Lock-It Foundation</td>\n      <td>Light 41 N (fair ivory with neutral undertone)</td>\n      <td>Light N</td>\n      <td>41</td>\n      <td>#F1CCB6</td>\n    </tr>\n    <tr>\n      <th>183</th>\n      <td>kvd vegan beauty</td>\n      <td>Lock-It Foundation</td>\n      <td>Light 42 N (fair porcelain with neutral undert...</td>\n      <td>Light N</td>\n      <td>42</td>\n      <td>#FBCCB2</td>\n    </tr>\n    <tr>\n      <th>184</th>\n      <td>kvd vegan beauty</td>\n      <td>Lock-It Foundation</td>\n      <td>Light 42 W (fair porcelain with warm undertone)</td>\n      <td>Light W</td>\n      <td>42</td>\n      <td>#F8CEA3</td>\n    </tr>\n    <tr>\n      <th>...</th>\n      <td>...</td>\n      <td>...</td>\n      <td>...</td>\n      <td>...</td>\n      <td>...</td>\n      <td>...</td>\n    </tr>\n    <tr>\n      <th>311</th>\n      <td>kvd vegan beauty</td>\n      <td>True Portrait Medium Coverage Shake Foundation</td>\n      <td>Deep 090 (deep bronze with warm undertone)</td>\n      <td>Deep</td>\n      <td>090</td>\n      <td>#5E3C2C</td>\n    </tr>\n    <tr>\n      <th>312</th>\n      <td>kvd vegan beauty</td>\n      <td>True Portrait Medium Coverage Shake Foundation</td>\n      <td>Deep 092 (deep golden with neutral undertone)</td>\n      <td>Deep</td>\n      <td>092</td>\n      <td>#624432</td>\n    </tr>\n    <tr>\n      <th>313</th>\n      <td>kvd vegan beauty</td>\n      <td>True Portrait Medium Coverage Shake Foundation</td>\n      <td>Deep 094 (rich-deep bronze with neutral undert...</td>\n      <td>Deep</td>\n      <td>094</td>\n      <td>#5D392C</td>\n    </tr>\n    <tr>\n      <th>314</th>\n      <td>kvd vegan beauty</td>\n      <td>True Portrait Medium Coverage Shake Foundation</td>\n      <td>Deep 096 (rich-deep golden with neutral undert...</td>\n      <td>Deep</td>\n      <td>096</td>\n      <td>#4F352B</td>\n    </tr>\n    <tr>\n      <th>315</th>\n      <td>kvd vegan beauty</td>\n      <td>True Portrait Medium Coverage Shake Foundation</td>\n      <td>Deep 098 (rich-deep with neutral undertone)</td>\n      <td>Deep</td>\n      <td>098</td>\n      <td>#483329</td>\n    </tr>\n  </tbody>\n</table>\n<p>136 rows × 6 columns</p>\n</div>"
     },
     "metadata": {},
     "output_type": "display_data"
    }
   ],
   "source": [
    "#Filtering for 'kvd' brand\n",
    "kvd = all_shades['brand']=='kvd vegan beauty'\n",
    "all_shades.loc[kvd,'name'] = all_shades.loc[kvd,'name'].apply(lambda x: ' '.join(x.split()))\n",
    "\n",
    "\n",
    "display(all_shades[all_shades['brand'] == 'kvd vegan beauty'])\n",
    "\n"
   ],
   "metadata": {
    "collapsed": false,
    "ExecuteTime": {
     "end_time": "2023-11-21T02:06:05.947428600Z",
     "start_time": "2023-11-21T02:06:05.772264300Z"
    }
   }
  },
  {
   "cell_type": "code",
   "execution_count": 16,
   "outputs": [
    {
     "data": {
      "text/plain": "                   brand                              product  \\\n5401  sephora collection  MicroSmooth Baked Powder Foundation   \n5402  sephora collection  MicroSmooth Baked Powder Foundation   \n5403  sephora collection  MicroSmooth Baked Powder Foundation   \n5404  sephora collection  MicroSmooth Baked Powder Foundation   \n5405  sephora collection  MicroSmooth Baked Powder Foundation   \n5406  sephora collection  MicroSmooth Baked Powder Foundation   \n5407  sephora collection  MicroSmooth Baked Powder Foundation   \n5408  sephora collection  MicroSmooth Baked Powder Foundation   \n\n              description        name specific      hex  \n5401         05 Porcelain   Porcelain       05  #ECD6C7  \n5402              15 Nude        Nude       15  #D9B69F  \n5403  25 Beige - Selected       Beige       25  #D9AC84  \n5404              30 Sand        Sand       30  #D5AA87  \n5405            35 Bronze      Bronze       35  #CFA076  \n5406               40 Tan         Tan       40  #C38F6A  \n5407          56 Mahogany    Mahogany       56  #CB9977  \n5408        60 Deep Ebony  Deep Ebony       60  #9E6D50  ",
      "text/html": "<div>\n<style scoped>\n    .dataframe tbody tr th:only-of-type {\n        vertical-align: middle;\n    }\n\n    .dataframe tbody tr th {\n        vertical-align: top;\n    }\n\n    .dataframe thead th {\n        text-align: right;\n    }\n</style>\n<table border=\"1\" class=\"dataframe\">\n  <thead>\n    <tr style=\"text-align: right;\">\n      <th></th>\n      <th>brand</th>\n      <th>product</th>\n      <th>description</th>\n      <th>name</th>\n      <th>specific</th>\n      <th>hex</th>\n    </tr>\n  </thead>\n  <tbody>\n    <tr>\n      <th>5401</th>\n      <td>sephora collection</td>\n      <td>MicroSmooth Baked Powder Foundation</td>\n      <td>05 Porcelain</td>\n      <td>Porcelain</td>\n      <td>05</td>\n      <td>#ECD6C7</td>\n    </tr>\n    <tr>\n      <th>5402</th>\n      <td>sephora collection</td>\n      <td>MicroSmooth Baked Powder Foundation</td>\n      <td>15 Nude</td>\n      <td>Nude</td>\n      <td>15</td>\n      <td>#D9B69F</td>\n    </tr>\n    <tr>\n      <th>5403</th>\n      <td>sephora collection</td>\n      <td>MicroSmooth Baked Powder Foundation</td>\n      <td>25 Beige - Selected</td>\n      <td>Beige</td>\n      <td>25</td>\n      <td>#D9AC84</td>\n    </tr>\n    <tr>\n      <th>5404</th>\n      <td>sephora collection</td>\n      <td>MicroSmooth Baked Powder Foundation</td>\n      <td>30 Sand</td>\n      <td>Sand</td>\n      <td>30</td>\n      <td>#D5AA87</td>\n    </tr>\n    <tr>\n      <th>5405</th>\n      <td>sephora collection</td>\n      <td>MicroSmooth Baked Powder Foundation</td>\n      <td>35 Bronze</td>\n      <td>Bronze</td>\n      <td>35</td>\n      <td>#CFA076</td>\n    </tr>\n    <tr>\n      <th>5406</th>\n      <td>sephora collection</td>\n      <td>MicroSmooth Baked Powder Foundation</td>\n      <td>40 Tan</td>\n      <td>Tan</td>\n      <td>40</td>\n      <td>#C38F6A</td>\n    </tr>\n    <tr>\n      <th>5407</th>\n      <td>sephora collection</td>\n      <td>MicroSmooth Baked Powder Foundation</td>\n      <td>56 Mahogany</td>\n      <td>Mahogany</td>\n      <td>56</td>\n      <td>#CB9977</td>\n    </tr>\n    <tr>\n      <th>5408</th>\n      <td>sephora collection</td>\n      <td>MicroSmooth Baked Powder Foundation</td>\n      <td>60 Deep Ebony</td>\n      <td>Deep Ebony</td>\n      <td>60</td>\n      <td>#9E6D50</td>\n    </tr>\n  </tbody>\n</table>\n</div>"
     },
     "execution_count": 16,
     "metadata": {},
     "output_type": "execute_result"
    }
   ],
   "source": [
    "sephora = all_shades[all_shades['product']=='MicroSmooth Baked Powder Foundation']\n",
    "all_shades.loc[sephora.index, 'name'] = all_shades['description'].str.split().str[1:3].str.join(' ')\n",
    "all_shades.loc[sephora.index, 'name']= all_shades['name'].str.replace('-', '').str.strip()\n",
    "\n",
    "all_shades[all_shades['product']=='MicroSmooth Baked Powder Foundation']"
   ],
   "metadata": {
    "collapsed": false,
    "ExecuteTime": {
     "end_time": "2023-11-21T02:06:05.998952700Z",
     "start_time": "2023-11-21T02:06:05.785150400Z"
    }
   }
  },
  {
   "cell_type": "markdown",
   "source": [
    "### Handeling Missing Values"
   ],
   "metadata": {
    "collapsed": false
   }
  },
  {
   "cell_type": "markdown",
   "source": [],
   "metadata": {
    "collapsed": false
   }
  },
  {
   "cell_type": "code",
   "execution_count": 17,
   "outputs": [
    {
     "data": {
      "text/plain": "        brand                                            product  \\\n1598  lancome  Dual Finish Multi-Tasking Lightweight Pressed ...   \n1608  lancome  Dual Finish Multi-Tasking Lightweight Pressed ...   \n319   lancome  Teint Idole Ultra Longwear Foundation Stick SP...   \n5839  lancome         SKIN FEELS GOOD Skin Nourishing Foundation   \n5849  lancome         SKIN FEELS GOOD Skin Nourishing Foundation   \n\n                                            description               name  \\\n1598                              230 Versatile Ecru II  Versatile Ecru II   \n1608                                         410 Bisque             Bisque   \n319                             210 Buff N OUT OF STOCK             Buff N   \n5839  01N Nude Vanilla for light skin with neutral u...       Nude Vanilla   \n5849  12W Sunny Amber for deep skin with warm/yellow...        Sunny Amber   \n\n     specific      hex  \n1598      230  #F2CFA7  \n1608      410  #F0B882  \n319       210  #DEB997  \n5839      01N  #D6AB96  \n5849      12W  #AF7D6F  ",
      "text/html": "<div>\n<style scoped>\n    .dataframe tbody tr th:only-of-type {\n        vertical-align: middle;\n    }\n\n    .dataframe tbody tr th {\n        vertical-align: top;\n    }\n\n    .dataframe thead th {\n        text-align: right;\n    }\n</style>\n<table border=\"1\" class=\"dataframe\">\n  <thead>\n    <tr style=\"text-align: right;\">\n      <th></th>\n      <th>brand</th>\n      <th>product</th>\n      <th>description</th>\n      <th>name</th>\n      <th>specific</th>\n      <th>hex</th>\n    </tr>\n  </thead>\n  <tbody>\n    <tr>\n      <th>1598</th>\n      <td>lancome</td>\n      <td>Dual Finish Multi-Tasking Lightweight Pressed ...</td>\n      <td>230 Versatile Ecru II</td>\n      <td>Versatile Ecru II</td>\n      <td>230</td>\n      <td>#F2CFA7</td>\n    </tr>\n    <tr>\n      <th>1608</th>\n      <td>lancome</td>\n      <td>Dual Finish Multi-Tasking Lightweight Pressed ...</td>\n      <td>410 Bisque</td>\n      <td>Bisque</td>\n      <td>410</td>\n      <td>#F0B882</td>\n    </tr>\n    <tr>\n      <th>319</th>\n      <td>lancome</td>\n      <td>Teint Idole Ultra Longwear Foundation Stick SP...</td>\n      <td>210 Buff N OUT OF STOCK</td>\n      <td>Buff N</td>\n      <td>210</td>\n      <td>#DEB997</td>\n    </tr>\n    <tr>\n      <th>5839</th>\n      <td>lancome</td>\n      <td>SKIN FEELS GOOD Skin Nourishing Foundation</td>\n      <td>01N Nude Vanilla for light skin with neutral u...</td>\n      <td>Nude Vanilla</td>\n      <td>01N</td>\n      <td>#D6AB96</td>\n    </tr>\n    <tr>\n      <th>5849</th>\n      <td>lancome</td>\n      <td>SKIN FEELS GOOD Skin Nourishing Foundation</td>\n      <td>12W Sunny Amber for deep skin with warm/yellow...</td>\n      <td>Sunny Amber</td>\n      <td>12W</td>\n      <td>#AF7D6F</td>\n    </tr>\n  </tbody>\n</table>\n</div>"
     },
     "execution_count": 17,
     "metadata": {},
     "output_type": "execute_result"
    }
   ],
   "source": [
    "#Filling in missing shade names for lacome brand to improve data accuracy \n",
    "lancome_missing = all_shades[(all_shades['brand']=='lancome') & all_shades['name'].isna()]\n",
    "all_shades.loc[lancome_missing.index, 'name'] = lancome_missing['description'].str.split().str[1:3].str.join(' ')\n",
    "all_shades[all_shades['brand']=='lancome'].sample(5)\n"
   ],
   "metadata": {
    "collapsed": false,
    "ExecuteTime": {
     "end_time": "2023-11-21T02:06:05.998952700Z",
     "start_time": "2023-11-21T02:06:05.810230800Z"
    }
   }
  },
  {
   "cell_type": "code",
   "execution_count": 18,
   "outputs": [
    {
     "data": {
      "text/plain": "         brand                                            product  \\\n6401  givenchy  Matissime Velvet Radiant Mattifying Fluid Foun...   \n6402  givenchy  Matissime Velvet Radiant Mattifying Fluid Foun...   \n6403  givenchy  Matissime Velvet Radiant Mattifying Fluid Foun...   \n6404  givenchy  Matissime Velvet Radiant Mattifying Fluid Foun...   \n6405  givenchy  Matissime Velvet Radiant Mattifying Fluid Foun...   \n\n                                            description           name  \\\n6401  N00 Mat Ivory light w/ neutral balance of pink...      Mat Ivory   \n6402       N01 Mat Porcelain light with neutral balance  Mat Porcelain   \n6403           N02 Mat Shell light with pink undertones      Mat Shell   \n6404       N03 Mat Sand light sand with neutral balance       Mat Sand   \n6405  N03.5 Mat Vanilla medium w/ neutral balance of...    Mat Vanilla   \n\n     specific      hex  \n6401      N00  #F5D8B3  \n6402      N01  #E0C3AD  \n6403      N02  #E8C1B6  \n6404      N03  #E5C0B0  \n6405    N03.5  #EAC39C  ",
      "text/html": "<div>\n<style scoped>\n    .dataframe tbody tr th:only-of-type {\n        vertical-align: middle;\n    }\n\n    .dataframe tbody tr th {\n        vertical-align: top;\n    }\n\n    .dataframe thead th {\n        text-align: right;\n    }\n</style>\n<table border=\"1\" class=\"dataframe\">\n  <thead>\n    <tr style=\"text-align: right;\">\n      <th></th>\n      <th>brand</th>\n      <th>product</th>\n      <th>description</th>\n      <th>name</th>\n      <th>specific</th>\n      <th>hex</th>\n    </tr>\n  </thead>\n  <tbody>\n    <tr>\n      <th>6401</th>\n      <td>givenchy</td>\n      <td>Matissime Velvet Radiant Mattifying Fluid Foun...</td>\n      <td>N00 Mat Ivory light w/ neutral balance of pink...</td>\n      <td>Mat Ivory</td>\n      <td>N00</td>\n      <td>#F5D8B3</td>\n    </tr>\n    <tr>\n      <th>6402</th>\n      <td>givenchy</td>\n      <td>Matissime Velvet Radiant Mattifying Fluid Foun...</td>\n      <td>N01 Mat Porcelain light with neutral balance</td>\n      <td>Mat Porcelain</td>\n      <td>N01</td>\n      <td>#E0C3AD</td>\n    </tr>\n    <tr>\n      <th>6403</th>\n      <td>givenchy</td>\n      <td>Matissime Velvet Radiant Mattifying Fluid Foun...</td>\n      <td>N02 Mat Shell light with pink undertones</td>\n      <td>Mat Shell</td>\n      <td>N02</td>\n      <td>#E8C1B6</td>\n    </tr>\n    <tr>\n      <th>6404</th>\n      <td>givenchy</td>\n      <td>Matissime Velvet Radiant Mattifying Fluid Foun...</td>\n      <td>N03 Mat Sand light sand with neutral balance</td>\n      <td>Mat Sand</td>\n      <td>N03</td>\n      <td>#E5C0B0</td>\n    </tr>\n    <tr>\n      <th>6405</th>\n      <td>givenchy</td>\n      <td>Matissime Velvet Radiant Mattifying Fluid Foun...</td>\n      <td>N03.5 Mat Vanilla medium w/ neutral balance of...</td>\n      <td>Mat Vanilla</td>\n      <td>N03.5</td>\n      <td>#EAC39C</td>\n    </tr>\n  </tbody>\n</table>\n</div>"
     },
     "execution_count": 18,
     "metadata": {},
     "output_type": "execute_result"
    }
   ],
   "source": [
    "givenchy_missing = all_shades[all_shades['product']=='Matissime Velvet Radiant Mattifying Fluid Foundation SPF 20']\n",
    "all_shades.loc[givenchy_missing.index, 'name'] = givenchy_missing['description'].str.split().str[1:3].str.join(' ')\n",
    "all_shades[all_shades['product']=='Matissime Velvet Radiant Mattifying Fluid Foundation SPF 20'].head()\n"
   ],
   "metadata": {
    "collapsed": false,
    "ExecuteTime": {
     "end_time": "2023-11-21T02:06:06.123834400Z",
     "start_time": "2023-11-21T02:06:05.820574900Z"
    }
   }
  },
  {
   "cell_type": "code",
   "execution_count": 19,
   "outputs": [
    {
     "data": {
      "text/plain": "              brand                                            product  \\\n4512  laura mercier  Tinted Moisturizer Natural Skin Perfector Broa...   \n4726  laura mercier  Tinted Moisturizer Broad Spectrum SPF 20 - Oil...   \n4506  laura mercier  Tinted Moisturizer Natural Skin Perfector Broa...   \n4528  laura mercier  Tinted Moisturizer Natural Skin Perfector Broa...   \n4530  laura mercier  Tinted Moisturizer Natural Skin Perfector Broa...   \n\n                                            description    name specific  \\\n4512                            4N1 Wheat olive neutral   Wheat      4N1   \n4726  5W1 Tan medium to deep with warm to golden und...     Tan      5W1   \n4506                             2N1 Nude light neutral    Nude      2N1   \n4528                               3C1 Fawn medium cool    Fawn      3C1   \n4530                             3W1 Bisque medium warm  Bisque      3W1   \n\n          hex  \n4512  #E3B27E  \n4726  #D19676  \n4506  #DFB18A  \n4528  #CEAF91  \n4530  #D3B494  ",
      "text/html": "<div>\n<style scoped>\n    .dataframe tbody tr th:only-of-type {\n        vertical-align: middle;\n    }\n\n    .dataframe tbody tr th {\n        vertical-align: top;\n    }\n\n    .dataframe thead th {\n        text-align: right;\n    }\n</style>\n<table border=\"1\" class=\"dataframe\">\n  <thead>\n    <tr style=\"text-align: right;\">\n      <th></th>\n      <th>brand</th>\n      <th>product</th>\n      <th>description</th>\n      <th>name</th>\n      <th>specific</th>\n      <th>hex</th>\n    </tr>\n  </thead>\n  <tbody>\n    <tr>\n      <th>4512</th>\n      <td>laura mercier</td>\n      <td>Tinted Moisturizer Natural Skin Perfector Broa...</td>\n      <td>4N1 Wheat olive neutral</td>\n      <td>Wheat</td>\n      <td>4N1</td>\n      <td>#E3B27E</td>\n    </tr>\n    <tr>\n      <th>4726</th>\n      <td>laura mercier</td>\n      <td>Tinted Moisturizer Broad Spectrum SPF 20 - Oil...</td>\n      <td>5W1 Tan medium to deep with warm to golden und...</td>\n      <td>Tan</td>\n      <td>5W1</td>\n      <td>#D19676</td>\n    </tr>\n    <tr>\n      <th>4506</th>\n      <td>laura mercier</td>\n      <td>Tinted Moisturizer Natural Skin Perfector Broa...</td>\n      <td>2N1 Nude light neutral</td>\n      <td>Nude</td>\n      <td>2N1</td>\n      <td>#DFB18A</td>\n    </tr>\n    <tr>\n      <th>4528</th>\n      <td>laura mercier</td>\n      <td>Tinted Moisturizer Natural Skin Perfector Broa...</td>\n      <td>3C1 Fawn medium cool</td>\n      <td>Fawn</td>\n      <td>3C1</td>\n      <td>#CEAF91</td>\n    </tr>\n    <tr>\n      <th>4530</th>\n      <td>laura mercier</td>\n      <td>Tinted Moisturizer Natural Skin Perfector Broa...</td>\n      <td>3W1 Bisque medium warm</td>\n      <td>Bisque</td>\n      <td>3W1</td>\n      <td>#D3B494</td>\n    </tr>\n  </tbody>\n</table>\n</div>"
     },
     "execution_count": 19,
     "metadata": {},
     "output_type": "execute_result"
    }
   ],
   "source": [
    "laura_products = ['Tinted Moisturizer Natural Skin Perfector Broad Spectrum SPF 30', 'Tinted Moisturizer Broad Spectrum SPF 20 - Oil Free']\n",
    "laura_missing = all_shades[all_shades['product'].isin(laura_products)]\n",
    "all_shades.loc[laura_missing.index, 'name'] = laura_missing['description'].str.split().str[1:2].str.join(' ')\n",
    "all_shades[all_shades['product'].isin(laura_products)].sample(5)"
   ],
   "metadata": {
    "collapsed": false,
    "ExecuteTime": {
     "end_time": "2023-11-21T02:06:06.127835300Z",
     "start_time": "2023-11-21T02:06:05.835851600Z"
    }
   }
  },
  {
   "cell_type": "code",
   "execution_count": 20,
   "outputs": [
    {
     "data": {
      "text/plain": "                 brand                                       product  \\\n4418  make up for ever    Reboot Active Care Revitalizing Foundation   \n4417  make up for ever    Reboot Active Care Revitalizing Foundation   \n4412  make up for ever    Reboot Active Care Revitalizing Foundation   \n4423  make up for ever    Reboot Active Care Revitalizing Foundation   \n4429  make up for ever  Matte Velvet Skin Blurring Powder Foundation   \n\n                                            description            name  \\\n4418  Y445 - Amber for darker tan skin with golden u...           Amber   \n4417  Y434 - Golden Caramel for lighter tan skin wit...  Golden Caramel   \n4412  Y355 - Neutral Beige for medium skin with neut...   Neutral Beige   \n4423  R540 - Dark Brown for deep skin with yellow un...      Dark Brown   \n4429  Y225 Marble for light skin with golden undertones          Marble   \n\n     specific      hex  \n4418     Y445  #C28B67  \n4417     Y434  #C68D5E  \n4412     Y355  #CDA98A  \n4423     R540  #72493A  \n4429     Y225  #FFDDC4  ",
      "text/html": "<div>\n<style scoped>\n    .dataframe tbody tr th:only-of-type {\n        vertical-align: middle;\n    }\n\n    .dataframe tbody tr th {\n        vertical-align: top;\n    }\n\n    .dataframe thead th {\n        text-align: right;\n    }\n</style>\n<table border=\"1\" class=\"dataframe\">\n  <thead>\n    <tr style=\"text-align: right;\">\n      <th></th>\n      <th>brand</th>\n      <th>product</th>\n      <th>description</th>\n      <th>name</th>\n      <th>specific</th>\n      <th>hex</th>\n    </tr>\n  </thead>\n  <tbody>\n    <tr>\n      <th>4418</th>\n      <td>make up for ever</td>\n      <td>Reboot Active Care Revitalizing Foundation</td>\n      <td>Y445 - Amber for darker tan skin with golden u...</td>\n      <td>Amber</td>\n      <td>Y445</td>\n      <td>#C28B67</td>\n    </tr>\n    <tr>\n      <th>4417</th>\n      <td>make up for ever</td>\n      <td>Reboot Active Care Revitalizing Foundation</td>\n      <td>Y434 - Golden Caramel for lighter tan skin wit...</td>\n      <td>Golden Caramel</td>\n      <td>Y434</td>\n      <td>#C68D5E</td>\n    </tr>\n    <tr>\n      <th>4412</th>\n      <td>make up for ever</td>\n      <td>Reboot Active Care Revitalizing Foundation</td>\n      <td>Y355 - Neutral Beige for medium skin with neut...</td>\n      <td>Neutral Beige</td>\n      <td>Y355</td>\n      <td>#CDA98A</td>\n    </tr>\n    <tr>\n      <th>4423</th>\n      <td>make up for ever</td>\n      <td>Reboot Active Care Revitalizing Foundation</td>\n      <td>R540 - Dark Brown for deep skin with yellow un...</td>\n      <td>Dark Brown</td>\n      <td>R540</td>\n      <td>#72493A</td>\n    </tr>\n    <tr>\n      <th>4429</th>\n      <td>make up for ever</td>\n      <td>Matte Velvet Skin Blurring Powder Foundation</td>\n      <td>Y225 Marble for light skin with golden undertones</td>\n      <td>Marble</td>\n      <td>Y225</td>\n      <td>#FFDDC4</td>\n    </tr>\n  </tbody>\n</table>\n</div>"
     },
     "execution_count": 20,
     "metadata": {},
     "output_type": "execute_result"
    }
   ],
   "source": [
    "# Filling in missing shade names for Make Up For Ever foundation products\n",
    "\n",
    "# Filter rows where the brand is 'make up for ever'\n",
    "muf_products = all_shades[all_shades['brand'] == 'make up for ever']\n",
    "\n",
    "# Filter rows where the product is 'Water Blend Face & Body Foundation'\n",
    "water_blend = all_shades[all_shades['product']=='Water Blend Face & Body Foundation']\n",
    "\n",
    "# Filter rows where the product is in the Matte Velvet product list\n",
    "mat_velvet = ['Matte Velvet Skin Blurring Powder Foundation', 'Matte Velvet Skin Full Coverage Foundation']\n",
    "mat_velvet = all_shades[all_shades['product'].isin(mat_velvet)]\n",
    "\n",
    "# Filter rows where the product is in the Ultra product list\n",
    "ultra = ['Reboot Active Care Revitalizing Foundation', 'Ultra HD Invisible Cover Foundation', 'Ultra HD Invisible Cover Stick Foundation']\n",
    "ultra = all_shades[all_shades['product'].isin(ultra)]\n",
    "\n",
    "# Update 'name' column based on specific conditions\n",
    "all_shades.loc[ultra.index,'name'] = ultra['description'].str.split().str[2:4].str.join(' ')\n",
    "all_shades.loc[water_blend.index,'name'] = water_blend['description'].str.split().str[1:2].str.join('')\n",
    "all_shades.loc[mat_velvet.index,'name'] = mat_velvet['description'].str.split().str[1:3].str.join(' ')\n",
    "all_shades.loc[muf_products.index, 'name']= all_shades['name'].str.replace('for', '').str.strip()\n",
    "\n",
    "all_shades[all_shades['brand']=='make up for ever'].sample(5)"
   ],
   "metadata": {
    "collapsed": false,
    "ExecuteTime": {
     "end_time": "2023-11-21T02:06:06.133829400Z",
     "start_time": "2023-11-21T02:06:05.848928300Z"
    }
   }
  },
  {
   "cell_type": "code",
   "execution_count": 21,
   "outputs": [
    {
     "data": {
      "text/plain": "                   brand                                  product  \\\n5960  yves saint laurent  Touche Eclat All-In-One Glow Foundation   \n5961  yves saint laurent  Touche Eclat All-In-One Glow Foundation   \n5962  yves saint laurent  Touche Eclat All-In-One Glow Foundation   \n5963  yves saint laurent  Touche Eclat All-In-One Glow Foundation   \n5964  yves saint laurent  Touche Eclat All-In-One Glow Foundation   \n\n                                            description         name specific  \\\n5960  B10 Porcelain  for very fair to fair skin with...    Porcelain      B10   \n5961                   B20 Ivory for fair to light skin        Ivory      B20   \n5962  B30 Almond for light skin with neutral to gold...       Almond      B30   \n5963  BR30 Cool Almond  for light skin with cool to ...  Cool Almond     BR30   \n5964  B40 Sand for light to medium skin with neutral...         Sand      B40   \n\n          hex  \n5960  #EEC3A1  \n5961  #E8B392  \n5962  #E2AD85  \n5963  #E6C1B7  \n5964  #E3AE8C  ",
      "text/html": "<div>\n<style scoped>\n    .dataframe tbody tr th:only-of-type {\n        vertical-align: middle;\n    }\n\n    .dataframe tbody tr th {\n        vertical-align: top;\n    }\n\n    .dataframe thead th {\n        text-align: right;\n    }\n</style>\n<table border=\"1\" class=\"dataframe\">\n  <thead>\n    <tr style=\"text-align: right;\">\n      <th></th>\n      <th>brand</th>\n      <th>product</th>\n      <th>description</th>\n      <th>name</th>\n      <th>specific</th>\n      <th>hex</th>\n    </tr>\n  </thead>\n  <tbody>\n    <tr>\n      <th>5960</th>\n      <td>yves saint laurent</td>\n      <td>Touche Eclat All-In-One Glow Foundation</td>\n      <td>B10 Porcelain  for very fair to fair skin with...</td>\n      <td>Porcelain</td>\n      <td>B10</td>\n      <td>#EEC3A1</td>\n    </tr>\n    <tr>\n      <th>5961</th>\n      <td>yves saint laurent</td>\n      <td>Touche Eclat All-In-One Glow Foundation</td>\n      <td>B20 Ivory for fair to light skin</td>\n      <td>Ivory</td>\n      <td>B20</td>\n      <td>#E8B392</td>\n    </tr>\n    <tr>\n      <th>5962</th>\n      <td>yves saint laurent</td>\n      <td>Touche Eclat All-In-One Glow Foundation</td>\n      <td>B30 Almond for light skin with neutral to gold...</td>\n      <td>Almond</td>\n      <td>B30</td>\n      <td>#E2AD85</td>\n    </tr>\n    <tr>\n      <th>5963</th>\n      <td>yves saint laurent</td>\n      <td>Touche Eclat All-In-One Glow Foundation</td>\n      <td>BR30 Cool Almond  for light skin with cool to ...</td>\n      <td>Cool Almond</td>\n      <td>BR30</td>\n      <td>#E6C1B7</td>\n    </tr>\n    <tr>\n      <th>5964</th>\n      <td>yves saint laurent</td>\n      <td>Touche Eclat All-In-One Glow Foundation</td>\n      <td>B40 Sand for light to medium skin with neutral...</td>\n      <td>Sand</td>\n      <td>B40</td>\n      <td>#E3AE8C</td>\n    </tr>\n  </tbody>\n</table>\n</div>"
     },
     "execution_count": 21,
     "metadata": {},
     "output_type": "execute_result"
    }
   ],
   "source": [
    "ysl = all_shades[all_shades['product']== 'Touche Eclat All-In-One Glow Foundation']\n",
    "all_shades.loc[ysl.index,'name'] = ysl['description'].str.split().str[1:3].str.join(' ')\n",
    "all_shades.loc[ysl.index, 'name']= all_shades['name'].str.replace('for', '').str.strip()\n",
    "all_shades[all_shades['product']=='Touche Eclat All-In-One Glow Foundation'].head()"
   ],
   "metadata": {
    "collapsed": false,
    "ExecuteTime": {
     "end_time": "2023-11-21T02:06:06.257698600Z",
     "start_time": "2023-11-21T02:06:05.867236300Z"
    }
   }
  },
  {
   "cell_type": "code",
   "execution_count": 22,
   "outputs": [
    {
     "data": {
      "text/plain": "            brand                                      product  \\\n5038  bobbi brown  Skin Long-Wear Weightless Foundation SPF 15   \n5021  bobbi brown  Skin Long-Wear Weightless Foundation SPF 15   \n5035  bobbi brown  Skin Long-Wear Weightless Foundation SPF 15   \n5028  bobbi brown  Skin Long-Wear Weightless Foundation SPF 15   \n5025  bobbi brown  Skin Long-Wear Weightless Foundation SPF 15   \n\n                                            description           name  \\\n5038  Warm Walnut (W-096) deep brown with yellow und...    Warm Walnut   \n5021  Warm Natural (W-056) medium beige with yellow ...   Warm Natural   \n5035  Golden Almond (W-088) dark brown with golden u...  Golden Almond   \n5028  Golden Honey (W-068) medium dark beige with go...   Golden Honey   \n5025  Neutral Honey (N-060) medium dark beige with a...  Neutral Honey   \n\n     specific      hex  \n5038    W-096  #A16247  \n5021    W-056  #CEA26E  \n5035    W-088  #AD6B3F  \n5028    W-068  #CE976A  \n5025    N-060  #D3A58E  ",
      "text/html": "<div>\n<style scoped>\n    .dataframe tbody tr th:only-of-type {\n        vertical-align: middle;\n    }\n\n    .dataframe tbody tr th {\n        vertical-align: top;\n    }\n\n    .dataframe thead th {\n        text-align: right;\n    }\n</style>\n<table border=\"1\" class=\"dataframe\">\n  <thead>\n    <tr style=\"text-align: right;\">\n      <th></th>\n      <th>brand</th>\n      <th>product</th>\n      <th>description</th>\n      <th>name</th>\n      <th>specific</th>\n      <th>hex</th>\n    </tr>\n  </thead>\n  <tbody>\n    <tr>\n      <th>5038</th>\n      <td>bobbi brown</td>\n      <td>Skin Long-Wear Weightless Foundation SPF 15</td>\n      <td>Warm Walnut (W-096) deep brown with yellow und...</td>\n      <td>Warm Walnut</td>\n      <td>W-096</td>\n      <td>#A16247</td>\n    </tr>\n    <tr>\n      <th>5021</th>\n      <td>bobbi brown</td>\n      <td>Skin Long-Wear Weightless Foundation SPF 15</td>\n      <td>Warm Natural (W-056) medium beige with yellow ...</td>\n      <td>Warm Natural</td>\n      <td>W-056</td>\n      <td>#CEA26E</td>\n    </tr>\n    <tr>\n      <th>5035</th>\n      <td>bobbi brown</td>\n      <td>Skin Long-Wear Weightless Foundation SPF 15</td>\n      <td>Golden Almond (W-088) dark brown with golden u...</td>\n      <td>Golden Almond</td>\n      <td>W-088</td>\n      <td>#AD6B3F</td>\n    </tr>\n    <tr>\n      <th>5028</th>\n      <td>bobbi brown</td>\n      <td>Skin Long-Wear Weightless Foundation SPF 15</td>\n      <td>Golden Honey (W-068) medium dark beige with go...</td>\n      <td>Golden Honey</td>\n      <td>W-068</td>\n      <td>#CE976A</td>\n    </tr>\n    <tr>\n      <th>5025</th>\n      <td>bobbi brown</td>\n      <td>Skin Long-Wear Weightless Foundation SPF 15</td>\n      <td>Neutral Honey (N-060) medium dark beige with a...</td>\n      <td>Neutral Honey</td>\n      <td>N-060</td>\n      <td>#D3A58E</td>\n    </tr>\n  </tbody>\n</table>\n</div>"
     },
     "execution_count": 22,
     "metadata": {},
     "output_type": "execute_result"
    }
   ],
   "source": [
    "bobbi_products = ['Skin Long-Wear Weightless Foundation SPF 15','Skin Foundation Stick']\n",
    "bobbi = all_shades[all_shades['product'].isin((bobbi_products))]\n",
    "all_shades.loc[bobbi.index, 'specific'] = bobbi['description'].str.findall(r'\\(([^)]+)\\)').str.join('')\n",
    "all_shades[all_shades['product'].isin(bobbi_products)].sample(5)\n"
   ],
   "metadata": {
    "collapsed": false,
    "ExecuteTime": {
     "end_time": "2023-11-21T02:06:06.313699100Z",
     "start_time": "2023-11-21T02:06:05.882755800Z"
    }
   }
  },
  {
   "cell_type": "code",
   "execution_count": 23,
   "outputs": [
    {
     "data": {
      "text/plain": "     brand                         product  \\\n4200  nars  Soft Matte Complete Foundation   \n4203  nars  Soft Matte Complete Foundation   \n4207  nars  Soft Matte Complete Foundation   \n4199  nars  Soft Matte Complete Foundation   \n4179  nars  Soft Matte Complete Foundation   \n\n                                            description           name  \\\n4200  Fiji L5 - for light to medium skin with neutra...           Fiji   \n4203  Salzburg L3.5 - for light skin with neutral un...       Salzburg   \n4207       Oslo L1 - for fair skin with pink undertones           Oslo   \n4199  Punjab M1 - for medium skin with yellow undert...         Punjab   \n4179  New Caledonia D2 - for dark skin with yellow u...  New Caledonia   \n\n     specific      hex  \n4200       L5  #EDC192  \n4203     L3.5  #EEC29F  \n4207       L1  #F7D4C4  \n4199       M1  #E4B78E  \n4179       D2  #795036  ",
      "text/html": "<div>\n<style scoped>\n    .dataframe tbody tr th:only-of-type {\n        vertical-align: middle;\n    }\n\n    .dataframe tbody tr th {\n        vertical-align: top;\n    }\n\n    .dataframe thead th {\n        text-align: right;\n    }\n</style>\n<table border=\"1\" class=\"dataframe\">\n  <thead>\n    <tr style=\"text-align: right;\">\n      <th></th>\n      <th>brand</th>\n      <th>product</th>\n      <th>description</th>\n      <th>name</th>\n      <th>specific</th>\n      <th>hex</th>\n    </tr>\n  </thead>\n  <tbody>\n    <tr>\n      <th>4200</th>\n      <td>nars</td>\n      <td>Soft Matte Complete Foundation</td>\n      <td>Fiji L5 - for light to medium skin with neutra...</td>\n      <td>Fiji</td>\n      <td>L5</td>\n      <td>#EDC192</td>\n    </tr>\n    <tr>\n      <th>4203</th>\n      <td>nars</td>\n      <td>Soft Matte Complete Foundation</td>\n      <td>Salzburg L3.5 - for light skin with neutral un...</td>\n      <td>Salzburg</td>\n      <td>L3.5</td>\n      <td>#EEC29F</td>\n    </tr>\n    <tr>\n      <th>4207</th>\n      <td>nars</td>\n      <td>Soft Matte Complete Foundation</td>\n      <td>Oslo L1 - for fair skin with pink undertones</td>\n      <td>Oslo</td>\n      <td>L1</td>\n      <td>#F7D4C4</td>\n    </tr>\n    <tr>\n      <th>4199</th>\n      <td>nars</td>\n      <td>Soft Matte Complete Foundation</td>\n      <td>Punjab M1 - for medium skin with yellow undert...</td>\n      <td>Punjab</td>\n      <td>M1</td>\n      <td>#E4B78E</td>\n    </tr>\n    <tr>\n      <th>4179</th>\n      <td>nars</td>\n      <td>Soft Matte Complete Foundation</td>\n      <td>New Caledonia D2 - for dark skin with yellow u...</td>\n      <td>New Caledonia</td>\n      <td>D2</td>\n      <td>#795036</td>\n    </tr>\n  </tbody>\n</table>\n</div>"
     },
     "execution_count": 23,
     "metadata": {},
     "output_type": "execute_result"
    }
   ],
   "source": [
    "nars = all_shades[all_shades['product'] == 'Soft Matte Complete Foundation']\n",
    "nars_names = ['Santa Fe', 'Mont Blanc','New Caledonia']\n",
    "nars_names = all_shades[all_shades['name'].isin(nars_names)]\n",
    "all_shades.loc[nars.index,'specific'] = nars['description'].str.split().str[1:2].str.join('')\n",
    "all_shades.loc[nars_names.index,'specific'] = nars['description'].str.split().str[2:3].str.join('')\n",
    "\n",
    "all_shades[all_shades['product'] == 'Soft Matte Complete Foundation'].sample(5)"
   ],
   "metadata": {
    "collapsed": false,
    "ExecuteTime": {
     "end_time": "2023-11-21T02:06:06.333697100Z",
     "start_time": "2023-11-21T02:06:05.896690800Z"
    }
   }
  },
  {
   "cell_type": "markdown",
   "source": [
    "### Handeling Duplicate Values"
   ],
   "metadata": {
    "collapsed": false
   }
  },
  {
   "cell_type": "code",
   "execution_count": 24,
   "outputs": [],
   "source": [
    "# # Drop entirely duplicated rows\n",
    "all_shades.drop_duplicates(inplace=True, ignore_index=True)\n",
    "# # Verifying rows dropped\n",
    "assert all_shades.duplicated().sum()==0, \"Removing duplicates failed: duplicate values still exist in the DataFrame\"\n"
   ],
   "metadata": {
    "collapsed": false,
    "ExecuteTime": {
     "end_time": "2023-11-21T02:06:06.402596200Z",
     "start_time": "2023-11-21T02:06:05.916068700Z"
    }
   }
  },
  {
   "cell_type": "code",
   "execution_count": 25,
   "outputs": [
    {
     "data": {
      "text/plain": "                   brand                             product  \\\n4583  sephora collection  10 Hour Wear Perfection Foundation   \n4584  sephora collection  10 Hour Wear Perfection Foundation   \n4585  sephora collection  10 Hour Wear Perfection Foundation   \n4586  sephora collection  10 Hour Wear Perfection Foundation   \n4587  sephora collection  10 Hour Wear Perfection Foundation   \n...                  ...                                 ...   \n6796  sephora collection    Best Skin Ever Liquid Foundation   \n6797  sephora collection    Best Skin Ever Liquid Foundation   \n6798  sephora collection    Best Skin Ever Liquid Foundation   \n6799  sephora collection    Best Skin Ever Liquid Foundation   \n6800  sephora collection    Best Skin Ever Liquid Foundation   \n\n                                            description            name  \\\n4583   68 Brownie for deep skin with neutral undertones         Brownie   \n4584  67 Expresso (N) for deep skin with neutral und...        Expresso   \n4585  66.5 Light Espresso for deep skin with neutral...  Light Espresso   \n4586  66 Sandalwood (Y) for deep skin with yellow un...      Sandalwood   \n4587  65.5 Chestnut for deep skin with neutral under...        Chestnut   \n...                                                 ...             ...   \n6796         65 N for deep skin with neutral undertones            N 65   \n6797          65.5 P for deep skin with pink undertones          P 65.5   \n6798       66.5 N for deep skin with neutral undertones          N 66.5   \n6799            67 P for deep skin with pink undertones            P 67   \n6800         68 N for deep skin with neutral undertones            N 68   \n\n     specific      hex  \n4583       68  #7B5E5B  \n4584       67  #725647  \n4585     66.5  #8D665C  \n4586       66  #745947  \n4587     65.5  #87625F  \n...       ...      ...  \n6796       65  #805C3A  \n6797     65.5  #715035  \n6798     66.5  #866645  \n6799       67  #7B5739  \n6800       68  #7A5A3C  \n\n[229 rows x 6 columns]",
      "text/html": "<div>\n<style scoped>\n    .dataframe tbody tr th:only-of-type {\n        vertical-align: middle;\n    }\n\n    .dataframe tbody tr th {\n        vertical-align: top;\n    }\n\n    .dataframe thead th {\n        text-align: right;\n    }\n</style>\n<table border=\"1\" class=\"dataframe\">\n  <thead>\n    <tr style=\"text-align: right;\">\n      <th></th>\n      <th>brand</th>\n      <th>product</th>\n      <th>description</th>\n      <th>name</th>\n      <th>specific</th>\n      <th>hex</th>\n    </tr>\n  </thead>\n  <tbody>\n    <tr>\n      <th>4583</th>\n      <td>sephora collection</td>\n      <td>10 Hour Wear Perfection Foundation</td>\n      <td>68 Brownie for deep skin with neutral undertones</td>\n      <td>Brownie</td>\n      <td>68</td>\n      <td>#7B5E5B</td>\n    </tr>\n    <tr>\n      <th>4584</th>\n      <td>sephora collection</td>\n      <td>10 Hour Wear Perfection Foundation</td>\n      <td>67 Expresso (N) for deep skin with neutral und...</td>\n      <td>Expresso</td>\n      <td>67</td>\n      <td>#725647</td>\n    </tr>\n    <tr>\n      <th>4585</th>\n      <td>sephora collection</td>\n      <td>10 Hour Wear Perfection Foundation</td>\n      <td>66.5 Light Espresso for deep skin with neutral...</td>\n      <td>Light Espresso</td>\n      <td>66.5</td>\n      <td>#8D665C</td>\n    </tr>\n    <tr>\n      <th>4586</th>\n      <td>sephora collection</td>\n      <td>10 Hour Wear Perfection Foundation</td>\n      <td>66 Sandalwood (Y) for deep skin with yellow un...</td>\n      <td>Sandalwood</td>\n      <td>66</td>\n      <td>#745947</td>\n    </tr>\n    <tr>\n      <th>4587</th>\n      <td>sephora collection</td>\n      <td>10 Hour Wear Perfection Foundation</td>\n      <td>65.5 Chestnut for deep skin with neutral under...</td>\n      <td>Chestnut</td>\n      <td>65.5</td>\n      <td>#87625F</td>\n    </tr>\n    <tr>\n      <th>...</th>\n      <td>...</td>\n      <td>...</td>\n      <td>...</td>\n      <td>...</td>\n      <td>...</td>\n      <td>...</td>\n    </tr>\n    <tr>\n      <th>6796</th>\n      <td>sephora collection</td>\n      <td>Best Skin Ever Liquid Foundation</td>\n      <td>65 N for deep skin with neutral undertones</td>\n      <td>N 65</td>\n      <td>65</td>\n      <td>#805C3A</td>\n    </tr>\n    <tr>\n      <th>6797</th>\n      <td>sephora collection</td>\n      <td>Best Skin Ever Liquid Foundation</td>\n      <td>65.5 P for deep skin with pink undertones</td>\n      <td>P 65.5</td>\n      <td>65.5</td>\n      <td>#715035</td>\n    </tr>\n    <tr>\n      <th>6798</th>\n      <td>sephora collection</td>\n      <td>Best Skin Ever Liquid Foundation</td>\n      <td>66.5 N for deep skin with neutral undertones</td>\n      <td>N 66.5</td>\n      <td>66.5</td>\n      <td>#866645</td>\n    </tr>\n    <tr>\n      <th>6799</th>\n      <td>sephora collection</td>\n      <td>Best Skin Ever Liquid Foundation</td>\n      <td>67 P for deep skin with pink undertones</td>\n      <td>P 67</td>\n      <td>67</td>\n      <td>#7B5739</td>\n    </tr>\n    <tr>\n      <th>6800</th>\n      <td>sephora collection</td>\n      <td>Best Skin Ever Liquid Foundation</td>\n      <td>68 N for deep skin with neutral undertones</td>\n      <td>N 68</td>\n      <td>68</td>\n      <td>#7A5A3C</td>\n    </tr>\n  </tbody>\n</table>\n<p>229 rows × 6 columns</p>\n</div>"
     },
     "execution_count": 25,
     "metadata": {},
     "output_type": "execute_result"
    }
   ],
   "source": [
    "sephora_dupes = all_shades.duplicated(subset=['brand','product','name'], keep=False) & all_shades['name'].notna()\n",
    "sephora_dupes = all_shades[sephora_dupes]\n",
    "sephora_dupes = sephora_dupes[sephora_dupes['brand']=='sephora collection']\n",
    "all_shades.loc[sephora_dupes.index, 'name'] = sephora_dupes['name'] + ' ' + sephora_dupes['specific']\n",
    "\n",
    "#Verifying changes \n",
    "all_shades[all_shades['brand'] == 'sephora collection']"
   ],
   "metadata": {
    "collapsed": false,
    "ExecuteTime": {
     "end_time": "2023-11-21T02:06:06.403593700Z",
     "start_time": "2023-11-21T02:06:05.929503900Z"
    }
   }
  },
  {
   "cell_type": "code",
   "execution_count": 26,
   "outputs": [
    {
     "data": {
      "text/plain": "Empty DataFrame\nColumns: [brand, product, description, name, specific, hex]\nIndex: []",
      "text/html": "<div>\n<style scoped>\n    .dataframe tbody tr th:only-of-type {\n        vertical-align: middle;\n    }\n\n    .dataframe tbody tr th {\n        vertical-align: top;\n    }\n\n    .dataframe thead th {\n        text-align: right;\n    }\n</style>\n<table border=\"1\" class=\"dataframe\">\n  <thead>\n    <tr style=\"text-align: right;\">\n      <th></th>\n      <th>brand</th>\n      <th>product</th>\n      <th>description</th>\n      <th>name</th>\n      <th>specific</th>\n      <th>hex</th>\n    </tr>\n  </thead>\n  <tbody>\n  </tbody>\n</table>\n</div>"
     },
     "execution_count": 26,
     "metadata": {},
     "output_type": "execute_result"
    }
   ],
   "source": [
    "pat_dupes = all_shades.duplicated(subset=['brand','product','name'], keep=False) & all_shades['name'].notna()\n",
    "pat_dupes = all_shades[pat_dupes]\n",
    "pat_dupes = pat_dupes[pat_dupes['brand']=='pat mcgrath labs']\n",
    "all_shades.loc[pat_dupes.index, 'name'] = pat_dupes['name'] + ' ' + pat_dupes['specific']\n",
    "\n",
    "#Verifying changes \n",
    "all_shades[(all_shades['brand'] == 'pat mcgrath labs') & all_shades.duplicated(subset=['brand', 'product', 'name'], keep=False) & all_shades['name'].notna()]"
   ],
   "metadata": {
    "collapsed": false,
    "ExecuteTime": {
     "end_time": "2023-11-21T02:06:06.405593300Z",
     "start_time": "2023-11-21T02:06:05.947428600Z"
    }
   }
  },
  {
   "cell_type": "code",
   "execution_count": 29,
   "outputs": [
    {
     "ename": "TypeError",
     "evalue": "'float' object is not subscriptable",
     "output_type": "error",
     "traceback": [
      "\u001B[1;31m---------------------------------------------------------------------------\u001B[0m",
      "\u001B[1;31mTypeError\u001B[0m                                 Traceback (most recent call last)",
      "Cell \u001B[1;32mIn[29], line 4\u001B[0m\n\u001B[0;32m      1\u001B[0m beaute_bakerie \u001B[38;5;241m=\u001B[39m all_shades[all_shades[\u001B[38;5;124m'\u001B[39m\u001B[38;5;124mbrand\u001B[39m\u001B[38;5;124m'\u001B[39m]\u001B[38;5;241m==\u001B[39m\u001B[38;5;124m'\u001B[39m\u001B[38;5;124mbeauty bakerie\u001B[39m\u001B[38;5;124m'\u001B[39m]\u001B[38;5;241m.\u001B[39mcopy()\n\u001B[0;32m      2\u001B[0m bakerie_specific \u001B[38;5;241m=\u001B[39m {\u001B[38;5;124m'\u001B[39m\u001B[38;5;124mWarm\u001B[39m\u001B[38;5;124m'\u001B[39m: \u001B[38;5;124m'\u001B[39m\u001B[38;5;124mW\u001B[39m\u001B[38;5;124m'\u001B[39m, \u001B[38;5;124m'\u001B[39m\u001B[38;5;124mNeutral\u001B[39m\u001B[38;5;124m'\u001B[39m: \u001B[38;5;124m'\u001B[39m\u001B[38;5;124mN\u001B[39m\u001B[38;5;124m'\u001B[39m, \u001B[38;5;124m'\u001B[39m\u001B[38;5;124mCool\u001B[39m\u001B[38;5;124m'\u001B[39m: \u001B[38;5;124m'\u001B[39m\u001B[38;5;124mC\u001B[39m\u001B[38;5;124m'\u001B[39m, \u001B[38;5;124m'\u001B[39m\u001B[38;5;124mWarm Neutral\u001B[39m\u001B[38;5;124m'\u001B[39m: \u001B[38;5;124m'\u001B[39m\u001B[38;5;124mWN\u001B[39m\u001B[38;5;124m'\u001B[39m, \u001B[38;5;124m'\u001B[39m\u001B[38;5;124mCool Neutral\u001B[39m\u001B[38;5;124m'\u001B[39m: \u001B[38;5;124m'\u001B[39m\u001B[38;5;124mCN\u001B[39m\u001B[38;5;124m'\u001B[39m}\n\u001B[1;32m----> 4\u001B[0m all_shades\u001B[38;5;241m.\u001B[39mloc[all_shades[\u001B[38;5;124m'\u001B[39m\u001B[38;5;124mbrand\u001B[39m\u001B[38;5;124m'\u001B[39m] \u001B[38;5;241m==\u001B[39m \u001B[38;5;124m'\u001B[39m\u001B[38;5;124mbeauty bakerie\u001B[39m\u001B[38;5;124m'\u001B[39m, \u001B[38;5;124m'\u001B[39m\u001B[38;5;124mspecific\u001B[39m\u001B[38;5;124m'\u001B[39m] \u001B[38;5;241m=\u001B[39m \u001B[43mbeaute_bakerie\u001B[49m\u001B[38;5;241;43m.\u001B[39;49m\u001B[43mapply\u001B[49m\u001B[43m(\u001B[49m\u001B[38;5;28;43;01mlambda\u001B[39;49;00m\u001B[43m \u001B[49m\u001B[43mrow\u001B[49m\u001B[43m:\u001B[49m\u001B[43m \u001B[49m\u001B[43mrow\u001B[49m\u001B[43m[\u001B[49m\u001B[38;5;124;43m'\u001B[39;49m\u001B[38;5;124;43mspecific\u001B[39;49m\u001B[38;5;124;43m'\u001B[39;49m\u001B[43m]\u001B[49m\u001B[43m \u001B[49m\u001B[38;5;241;43m+\u001B[39;49m\u001B[43m \u001B[49m\u001B[43mbakerie_specific\u001B[49m\u001B[38;5;241;43m.\u001B[39;49m\u001B[43mget\u001B[49m\u001B[43m(\u001B[49m\u001B[43mrow\u001B[49m\u001B[43m[\u001B[49m\u001B[38;5;124;43m'\u001B[39;49m\u001B[38;5;124;43mname\u001B[39;49m\u001B[38;5;124;43m'\u001B[39;49m\u001B[43m]\u001B[49m\u001B[43m,\u001B[49m\u001B[43m \u001B[49m\u001B[43mrow\u001B[49m\u001B[43m[\u001B[49m\u001B[38;5;124;43m'\u001B[39;49m\u001B[38;5;124;43mname\u001B[39;49m\u001B[38;5;124;43m'\u001B[39;49m\u001B[43m]\u001B[49m\u001B[43m[\u001B[49m\u001B[38;5;241;43m0\u001B[39;49m\u001B[43m]\u001B[49m\u001B[43m)\u001B[49m\u001B[43m,\u001B[49m\u001B[43m \u001B[49m\u001B[43maxis\u001B[49m\u001B[38;5;241;43m=\u001B[39;49m\u001B[38;5;241;43m1\u001B[39;49m\u001B[43m)\u001B[49m\n\u001B[0;32m      5\u001B[0m all_shades\u001B[38;5;241m.\u001B[39mloc[all_shades[\u001B[38;5;124m'\u001B[39m\u001B[38;5;124mbrand\u001B[39m\u001B[38;5;124m'\u001B[39m] \u001B[38;5;241m==\u001B[39m \u001B[38;5;124m'\u001B[39m\u001B[38;5;124mbeauty bakerie\u001B[39m\u001B[38;5;124m'\u001B[39m, \u001B[38;5;124m'\u001B[39m\u001B[38;5;124mname\u001B[39m\u001B[38;5;124m'\u001B[39m] \u001B[38;5;241m=\u001B[39m np\u001B[38;5;241m.\u001B[39mnan\n",
      "File \u001B[1;32m~\\miniconda3\\envs\\Sprin4\\Lib\\site-packages\\pandas\\core\\frame.py:10034\u001B[0m, in \u001B[0;36mDataFrame.apply\u001B[1;34m(self, func, axis, raw, result_type, args, by_row, **kwargs)\u001B[0m\n\u001B[0;32m  10022\u001B[0m \u001B[38;5;28;01mfrom\u001B[39;00m \u001B[38;5;21;01mpandas\u001B[39;00m\u001B[38;5;21;01m.\u001B[39;00m\u001B[38;5;21;01mcore\u001B[39;00m\u001B[38;5;21;01m.\u001B[39;00m\u001B[38;5;21;01mapply\u001B[39;00m \u001B[38;5;28;01mimport\u001B[39;00m frame_apply\n\u001B[0;32m  10024\u001B[0m op \u001B[38;5;241m=\u001B[39m frame_apply(\n\u001B[0;32m  10025\u001B[0m     \u001B[38;5;28mself\u001B[39m,\n\u001B[0;32m  10026\u001B[0m     func\u001B[38;5;241m=\u001B[39mfunc,\n\u001B[1;32m   (...)\u001B[0m\n\u001B[0;32m  10032\u001B[0m     kwargs\u001B[38;5;241m=\u001B[39mkwargs,\n\u001B[0;32m  10033\u001B[0m )\n\u001B[1;32m> 10034\u001B[0m \u001B[38;5;28;01mreturn\u001B[39;00m \u001B[43mop\u001B[49m\u001B[38;5;241;43m.\u001B[39;49m\u001B[43mapply\u001B[49m\u001B[43m(\u001B[49m\u001B[43m)\u001B[49m\u001B[38;5;241m.\u001B[39m__finalize__(\u001B[38;5;28mself\u001B[39m, method\u001B[38;5;241m=\u001B[39m\u001B[38;5;124m\"\u001B[39m\u001B[38;5;124mapply\u001B[39m\u001B[38;5;124m\"\u001B[39m)\n",
      "File \u001B[1;32m~\\miniconda3\\envs\\Sprin4\\Lib\\site-packages\\pandas\\core\\apply.py:837\u001B[0m, in \u001B[0;36mFrameApply.apply\u001B[1;34m(self)\u001B[0m\n\u001B[0;32m    834\u001B[0m \u001B[38;5;28;01melif\u001B[39;00m \u001B[38;5;28mself\u001B[39m\u001B[38;5;241m.\u001B[39mraw:\n\u001B[0;32m    835\u001B[0m     \u001B[38;5;28;01mreturn\u001B[39;00m \u001B[38;5;28mself\u001B[39m\u001B[38;5;241m.\u001B[39mapply_raw()\n\u001B[1;32m--> 837\u001B[0m \u001B[38;5;28;01mreturn\u001B[39;00m \u001B[38;5;28;43mself\u001B[39;49m\u001B[38;5;241;43m.\u001B[39;49m\u001B[43mapply_standard\u001B[49m\u001B[43m(\u001B[49m\u001B[43m)\u001B[49m\n",
      "File \u001B[1;32m~\\miniconda3\\envs\\Sprin4\\Lib\\site-packages\\pandas\\core\\apply.py:963\u001B[0m, in \u001B[0;36mFrameApply.apply_standard\u001B[1;34m(self)\u001B[0m\n\u001B[0;32m    962\u001B[0m \u001B[38;5;28;01mdef\u001B[39;00m \u001B[38;5;21mapply_standard\u001B[39m(\u001B[38;5;28mself\u001B[39m):\n\u001B[1;32m--> 963\u001B[0m     results, res_index \u001B[38;5;241m=\u001B[39m \u001B[38;5;28;43mself\u001B[39;49m\u001B[38;5;241;43m.\u001B[39;49m\u001B[43mapply_series_generator\u001B[49m\u001B[43m(\u001B[49m\u001B[43m)\u001B[49m\n\u001B[0;32m    965\u001B[0m     \u001B[38;5;66;03m# wrap results\u001B[39;00m\n\u001B[0;32m    966\u001B[0m     \u001B[38;5;28;01mreturn\u001B[39;00m \u001B[38;5;28mself\u001B[39m\u001B[38;5;241m.\u001B[39mwrap_results(results, res_index)\n",
      "File \u001B[1;32m~\\miniconda3\\envs\\Sprin4\\Lib\\site-packages\\pandas\\core\\apply.py:979\u001B[0m, in \u001B[0;36mFrameApply.apply_series_generator\u001B[1;34m(self)\u001B[0m\n\u001B[0;32m    976\u001B[0m \u001B[38;5;28;01mwith\u001B[39;00m option_context(\u001B[38;5;124m\"\u001B[39m\u001B[38;5;124mmode.chained_assignment\u001B[39m\u001B[38;5;124m\"\u001B[39m, \u001B[38;5;28;01mNone\u001B[39;00m):\n\u001B[0;32m    977\u001B[0m     \u001B[38;5;28;01mfor\u001B[39;00m i, v \u001B[38;5;129;01min\u001B[39;00m \u001B[38;5;28menumerate\u001B[39m(series_gen):\n\u001B[0;32m    978\u001B[0m         \u001B[38;5;66;03m# ignore SettingWithCopy here in case the user mutates\u001B[39;00m\n\u001B[1;32m--> 979\u001B[0m         results[i] \u001B[38;5;241m=\u001B[39m \u001B[38;5;28;43mself\u001B[39;49m\u001B[38;5;241;43m.\u001B[39;49m\u001B[43mfunc\u001B[49m\u001B[43m(\u001B[49m\u001B[43mv\u001B[49m\u001B[43m,\u001B[49m\u001B[43m \u001B[49m\u001B[38;5;241;43m*\u001B[39;49m\u001B[38;5;28;43mself\u001B[39;49m\u001B[38;5;241;43m.\u001B[39;49m\u001B[43margs\u001B[49m\u001B[43m,\u001B[49m\u001B[43m \u001B[49m\u001B[38;5;241;43m*\u001B[39;49m\u001B[38;5;241;43m*\u001B[39;49m\u001B[38;5;28;43mself\u001B[39;49m\u001B[38;5;241;43m.\u001B[39;49m\u001B[43mkwargs\u001B[49m\u001B[43m)\u001B[49m\n\u001B[0;32m    980\u001B[0m         \u001B[38;5;28;01mif\u001B[39;00m \u001B[38;5;28misinstance\u001B[39m(results[i], ABCSeries):\n\u001B[0;32m    981\u001B[0m             \u001B[38;5;66;03m# If we have a view on v, we need to make a copy because\u001B[39;00m\n\u001B[0;32m    982\u001B[0m             \u001B[38;5;66;03m#  series_generator will swap out the underlying data\u001B[39;00m\n\u001B[0;32m    983\u001B[0m             results[i] \u001B[38;5;241m=\u001B[39m results[i]\u001B[38;5;241m.\u001B[39mcopy(deep\u001B[38;5;241m=\u001B[39m\u001B[38;5;28;01mFalse\u001B[39;00m)\n",
      "Cell \u001B[1;32mIn[29], line 4\u001B[0m, in \u001B[0;36m<lambda>\u001B[1;34m(row)\u001B[0m\n\u001B[0;32m      1\u001B[0m beaute_bakerie \u001B[38;5;241m=\u001B[39m all_shades[all_shades[\u001B[38;5;124m'\u001B[39m\u001B[38;5;124mbrand\u001B[39m\u001B[38;5;124m'\u001B[39m]\u001B[38;5;241m==\u001B[39m\u001B[38;5;124m'\u001B[39m\u001B[38;5;124mbeauty bakerie\u001B[39m\u001B[38;5;124m'\u001B[39m]\u001B[38;5;241m.\u001B[39mcopy()\n\u001B[0;32m      2\u001B[0m bakerie_specific \u001B[38;5;241m=\u001B[39m {\u001B[38;5;124m'\u001B[39m\u001B[38;5;124mWarm\u001B[39m\u001B[38;5;124m'\u001B[39m: \u001B[38;5;124m'\u001B[39m\u001B[38;5;124mW\u001B[39m\u001B[38;5;124m'\u001B[39m, \u001B[38;5;124m'\u001B[39m\u001B[38;5;124mNeutral\u001B[39m\u001B[38;5;124m'\u001B[39m: \u001B[38;5;124m'\u001B[39m\u001B[38;5;124mN\u001B[39m\u001B[38;5;124m'\u001B[39m, \u001B[38;5;124m'\u001B[39m\u001B[38;5;124mCool\u001B[39m\u001B[38;5;124m'\u001B[39m: \u001B[38;5;124m'\u001B[39m\u001B[38;5;124mC\u001B[39m\u001B[38;5;124m'\u001B[39m, \u001B[38;5;124m'\u001B[39m\u001B[38;5;124mWarm Neutral\u001B[39m\u001B[38;5;124m'\u001B[39m: \u001B[38;5;124m'\u001B[39m\u001B[38;5;124mWN\u001B[39m\u001B[38;5;124m'\u001B[39m, \u001B[38;5;124m'\u001B[39m\u001B[38;5;124mCool Neutral\u001B[39m\u001B[38;5;124m'\u001B[39m: \u001B[38;5;124m'\u001B[39m\u001B[38;5;124mCN\u001B[39m\u001B[38;5;124m'\u001B[39m}\n\u001B[1;32m----> 4\u001B[0m all_shades\u001B[38;5;241m.\u001B[39mloc[all_shades[\u001B[38;5;124m'\u001B[39m\u001B[38;5;124mbrand\u001B[39m\u001B[38;5;124m'\u001B[39m] \u001B[38;5;241m==\u001B[39m \u001B[38;5;124m'\u001B[39m\u001B[38;5;124mbeauty bakerie\u001B[39m\u001B[38;5;124m'\u001B[39m, \u001B[38;5;124m'\u001B[39m\u001B[38;5;124mspecific\u001B[39m\u001B[38;5;124m'\u001B[39m] \u001B[38;5;241m=\u001B[39m beaute_bakerie\u001B[38;5;241m.\u001B[39mapply(\u001B[38;5;28;01mlambda\u001B[39;00m row: row[\u001B[38;5;124m'\u001B[39m\u001B[38;5;124mspecific\u001B[39m\u001B[38;5;124m'\u001B[39m] \u001B[38;5;241m+\u001B[39m bakerie_specific\u001B[38;5;241m.\u001B[39mget(row[\u001B[38;5;124m'\u001B[39m\u001B[38;5;124mname\u001B[39m\u001B[38;5;124m'\u001B[39m], \u001B[43mrow\u001B[49m\u001B[43m[\u001B[49m\u001B[38;5;124;43m'\u001B[39;49m\u001B[38;5;124;43mname\u001B[39;49m\u001B[38;5;124;43m'\u001B[39;49m\u001B[43m]\u001B[49m\u001B[43m[\u001B[49m\u001B[38;5;241;43m0\u001B[39;49m\u001B[43m]\u001B[49m), axis\u001B[38;5;241m=\u001B[39m\u001B[38;5;241m1\u001B[39m)\n\u001B[0;32m      5\u001B[0m all_shades\u001B[38;5;241m.\u001B[39mloc[all_shades[\u001B[38;5;124m'\u001B[39m\u001B[38;5;124mbrand\u001B[39m\u001B[38;5;124m'\u001B[39m] \u001B[38;5;241m==\u001B[39m \u001B[38;5;124m'\u001B[39m\u001B[38;5;124mbeauty bakerie\u001B[39m\u001B[38;5;124m'\u001B[39m, \u001B[38;5;124m'\u001B[39m\u001B[38;5;124mname\u001B[39m\u001B[38;5;124m'\u001B[39m] \u001B[38;5;241m=\u001B[39m np\u001B[38;5;241m.\u001B[39mnan\n",
      "\u001B[1;31mTypeError\u001B[0m: 'float' object is not subscriptable"
     ]
    }
   ],
   "source": [
    "beaute_bakerie = all_shades[all_shades['brand']=='beauty bakerie']\n",
    "bakerie_specific = {'Warm': 'W', 'Neutral': 'N', 'Cool': 'C', 'Warm Neutral': 'WN', 'Cool Neutral': 'CN'}\n",
    "\n",
    "for index, row in beaute_bakerie.iterrows():\n",
    "    specific_suffix = bakerie_specific.get(row['name'], row['name'][0])\n",
    "    all_shades.at[index, 'specific'] = row['specific'] + specific_suffix\n",
    "\n",
    "all_shades.loc[beaute_bakerie.index, 'name'] = np.nan"
   ],
   "metadata": {
    "collapsed": false,
    "ExecuteTime": {
     "end_time": "2023-11-21T02:07:29.577698400Z",
     "start_time": "2023-11-21T02:07:28.890776600Z"
    }
   }
  },
  {
   "cell_type": "code",
   "execution_count": 28,
   "outputs": [
    {
     "data": {
      "text/plain": "               brand                          product  \\\n1778  beauty bakerie  InstaBake Aqua Glass Foundation   \n1764  beauty bakerie  InstaBake Aqua Glass Foundation   \n1761  beauty bakerie  InstaBake Aqua Glass Foundation   \n1766  beauty bakerie  InstaBake Aqua Glass Foundation   \n1771  beauty bakerie  InstaBake Aqua Glass Foundation   \n\n                        description          name specific      hex  \n1778  357 Warm Neutral OUT OF STOCK  Warm Neutral      357  #F6E6D9  \n1764               329 Warm Neutral  Warm Neutral      329  #CF9C71  \n1761                       321 Warm          Warm      321  #BA845E  \n1766                    333 Neutral       Neutral      333  #CFA380  \n1771                    343 Neutral       Neutral      343  #E0BA9D  ",
      "text/html": "<div>\n<style scoped>\n    .dataframe tbody tr th:only-of-type {\n        vertical-align: middle;\n    }\n\n    .dataframe tbody tr th {\n        vertical-align: top;\n    }\n\n    .dataframe thead th {\n        text-align: right;\n    }\n</style>\n<table border=\"1\" class=\"dataframe\">\n  <thead>\n    <tr style=\"text-align: right;\">\n      <th></th>\n      <th>brand</th>\n      <th>product</th>\n      <th>description</th>\n      <th>name</th>\n      <th>specific</th>\n      <th>hex</th>\n    </tr>\n  </thead>\n  <tbody>\n    <tr>\n      <th>1778</th>\n      <td>beauty bakerie</td>\n      <td>InstaBake Aqua Glass Foundation</td>\n      <td>357 Warm Neutral OUT OF STOCK</td>\n      <td>Warm Neutral</td>\n      <td>357</td>\n      <td>#F6E6D9</td>\n    </tr>\n    <tr>\n      <th>1764</th>\n      <td>beauty bakerie</td>\n      <td>InstaBake Aqua Glass Foundation</td>\n      <td>329 Warm Neutral</td>\n      <td>Warm Neutral</td>\n      <td>329</td>\n      <td>#CF9C71</td>\n    </tr>\n    <tr>\n      <th>1761</th>\n      <td>beauty bakerie</td>\n      <td>InstaBake Aqua Glass Foundation</td>\n      <td>321 Warm</td>\n      <td>Warm</td>\n      <td>321</td>\n      <td>#BA845E</td>\n    </tr>\n    <tr>\n      <th>1766</th>\n      <td>beauty bakerie</td>\n      <td>InstaBake Aqua Glass Foundation</td>\n      <td>333 Neutral</td>\n      <td>Neutral</td>\n      <td>333</td>\n      <td>#CFA380</td>\n    </tr>\n    <tr>\n      <th>1771</th>\n      <td>beauty bakerie</td>\n      <td>InstaBake Aqua Glass Foundation</td>\n      <td>343 Neutral</td>\n      <td>Neutral</td>\n      <td>343</td>\n      <td>#E0BA9D</td>\n    </tr>\n  </tbody>\n</table>\n</div>"
     },
     "execution_count": 28,
     "metadata": {},
     "output_type": "execute_result"
    }
   ],
   "source": [
    "all_shades[all_shades['brand']=='beauty bakerie'].sample(5)\n"
   ],
   "metadata": {
    "collapsed": false,
    "ExecuteTime": {
     "end_time": "2023-11-21T02:06:20.074878200Z",
     "start_time": "2023-11-21T02:06:19.961353800Z"
    }
   }
  },
  {
   "cell_type": "code",
   "execution_count": 30,
   "outputs": [],
   "source": [
    "beautyblender = all_shades[all_shades['brand']=='beautyblender']\n",
    "bb_specific = {'Warm': 'W', 'Neutral': 'N', 'Cool': 'C', 'Neutral/Olive': 'N/O', 'Cool/Olive': 'C/O', 'Warm/Olive': 'W/O'}\n",
    "all_shades.loc[beautyblender.index, 'specific'] = beautyblender.apply(lambda row: row['specific'] + bb_specific.get(row['name'], row['name'][0]), axis=1)\n",
    "all_shades.loc[beautyblender.index, 'name'] = np.nan"
   ],
   "metadata": {
    "collapsed": false,
    "ExecuteTime": {
     "end_time": "2023-11-21T02:07:51.873556200Z",
     "start_time": "2023-11-21T02:07:51.756523400Z"
    }
   }
  },
  {
   "cell_type": "code",
   "execution_count": 31,
   "outputs": [
    {
     "data": {
      "text/plain": "              brand                                   product  \\\n4252  beautyblender  Bounce™ Liquid Whip Long Wear Foundation   \n4253  beautyblender  Bounce™ Liquid Whip Long Wear Foundation   \n4254  beautyblender  Bounce™ Liquid Whip Long Wear Foundation   \n4255  beautyblender  Bounce™ Liquid Whip Long Wear Foundation   \n4256  beautyblender  Bounce™ Liquid Whip Long Wear Foundation   \n4257  beautyblender  Bounce™ Liquid Whip Long Wear Foundation   \n4258  beautyblender  Bounce™ Liquid Whip Long Wear Foundation   \n4259  beautyblender  Bounce™ Liquid Whip Long Wear Foundation   \n4260  beautyblender  Bounce™ Liquid Whip Long Wear Foundation   \n4261  beautyblender  Bounce™ Liquid Whip Long Wear Foundation   \n4262  beautyblender  Bounce™ Liquid Whip Long Wear Foundation   \n4263  beautyblender  Bounce™ Liquid Whip Long Wear Foundation   \n4264  beautyblender  Bounce™ Liquid Whip Long Wear Foundation   \n4265  beautyblender  Bounce™ Liquid Whip Long Wear Foundation   \n4266  beautyblender  Bounce™ Liquid Whip Long Wear Foundation   \n4267  beautyblender  Bounce™ Liquid Whip Long Wear Foundation   \n4268  beautyblender  Bounce™ Liquid Whip Long Wear Foundation   \n4269  beautyblender  Bounce™ Liquid Whip Long Wear Foundation   \n4270  beautyblender  Bounce™ Liquid Whip Long Wear Foundation   \n4271  beautyblender  Bounce™ Liquid Whip Long Wear Foundation   \n4272  beautyblender  Bounce™ Liquid Whip Long Wear Foundation   \n4273  beautyblender  Bounce™ Liquid Whip Long Wear Foundation   \n4274  beautyblender  Bounce™ Liquid Whip Long Wear Foundation   \n4275  beautyblender  Bounce™ Liquid Whip Long Wear Foundation   \n4276  beautyblender  Bounce™ Liquid Whip Long Wear Foundation   \n4277  beautyblender  Bounce™ Liquid Whip Long Wear Foundation   \n4278  beautyblender  Bounce™ Liquid Whip Long Wear Foundation   \n4279  beautyblender  Bounce™ Liquid Whip Long Wear Foundation   \n4280  beautyblender  Bounce™ Liquid Whip Long Wear Foundation   \n4281  beautyblender  Bounce™ Liquid Whip Long Wear Foundation   \n4282  beautyblender  Bounce™ Liquid Whip Long Wear Foundation   \n4283  beautyblender  Bounce™ Liquid Whip Long Wear Foundation   \n4284  beautyblender  Bounce™ Liquid Whip Long Wear Foundation   \n4285  beautyblender  Bounce™ Liquid Whip Long Wear Foundation   \n4286  beautyblender  Bounce™ Liquid Whip Long Wear Foundation   \n4287  beautyblender  Bounce™ Liquid Whip Long Wear Foundation   \n4288  beautyblender  Bounce™ Liquid Whip Long Wear Foundation   \n4289  beautyblender  Bounce™ Liquid Whip Long Wear Foundation   \n4290  beautyblender  Bounce™ Liquid Whip Long Wear Foundation   \n4291  beautyblender  Bounce™ Liquid Whip Long Wear Foundation   \n\n                                            description name specific      hex  \n4252          1.00 Cool very light with cool undertones  NaN    1.00C  #FCF0E5  \n4253    1.10 Neutral very light with neutral undertones  NaN    1.10N  #FCEDD8  \n4254               1.20 Cool light with cool undertones  NaN    1.20C  #FBE6D6  \n4255               1.30 Warm light with warm undertones  NaN    1.30W  #F5DBC1  \n4256         1.40 Neutral light with neutral undertones  NaN    1.40N  #ECCCAF  \n4257               1.50 Cool light with cool undertones  NaN    1.50C  #F0C3A6  \n4258               1.60 Warm light with warm undertones  NaN    1.60W  #EEC5A2  \n4259              2.10 Cool medium with cool undertones  NaN    2.10C  #E3C2A8  \n4260  2.20 Neutral/Olive  medium with neutral olive ...  NaN  2.20N/O  #ECC49B  \n4261              2.30 Warm medium with warm undertones  NaN    2.30W  #ECC49B  \n4262  2.40 Neutral/Olive  medium with neutral olive ...  NaN  2.40N/O  #E2C099  \n4263        2.50 Neutral medium with neutral undertones  NaN    2.50N  #DCB290  \n4264           3.10 Cool light tan with cool undertones  NaN    3.10C  #ECC09E  \n4265           3.15 Cool light tan with cool undertones  NaN    3.15C  #F0C2A9  \n4266          3.20 Warm light tan with warm  undertones  NaN    3.20W  #E8B77D  \n4267     3.25 Neutral light tan with neutral undertones  NaN    3.25N  #E4B488  \n4268     3.30 Warm/Olive tan with warm olive undertones  NaN  3.30W/O  #E8B172  \n4269                 3.35 Warm tan with warm undertones  NaN    3.35W  #D8A776  \n4270                 3.40 Warm tan with warm undertones  NaN    3.40W  #D9A176  \n4271           3.45 Neutral tan with neutral undertones  NaN    3.45N  #D9A176  \n4272                 3.50 Warm tan with warm undertones  NaN    3.50W  #E2B07E  \n4273  3.55 Neutral/Olive tan with neutral olive unde...  NaN  3.55N/O  #D3A778  \n4274                 3.60 Warm tan with warm undertones  NaN    3.60W  #E4AA74  \n4275      3.65 Neutral very tan with neutral undertones  NaN    3.65N  #D29D74  \n4276  3.70 Warm/Olive very tan with warm olive under...  NaN  3.70W/O  #CE9160  \n4277            3.75 Warm very tan with warm undertones  NaN    3.75W  #DA9762  \n4278  4.00 Neutral/Olive deep neutral with warm oliv...  NaN  4.00N/O  #AE7955  \n4279                4.05 Warm deep with warm undertones  NaN    4.05W  #B9773D  \n4280    4.10 Cool/Olive deep with cool olive undertones  NaN  4.10C/O  #A8723D  \n4281         4.15 Warm deep golden with rosy undertones  NaN    4.15W  #A46B3C  \n4282                4.20 Warm deep with warm undertones  NaN    4.20W  #906131  \n4283                4.30 Warm deep with warm undertones  NaN    4.30W  #A06C38  \n4284                4.35 Warm deep with warm undertones  NaN    4.35W  #905A2E  \n4285          4.40 Neutral deep with neutral undertones  NaN    4.40N  #73491E  \n4286             4.45 Neutral deep with warm undertones  NaN    4.45N  #6B3E0D  \n4287                4.50 Warm deep with warm undertones  NaN    4.50W  #723C1B  \n4288           4.55 Cool very deep with cool undertones  NaN    4.55C  #6F3A1E  \n4289     4.60 Neutral very deep with neutral undertones  NaN    4.60N  #532E15  \n4290           4.70 Cool very deep with cool undertones  NaN    4.70C  #542911  \n4291     4.75 Neutral very deep with neutral undertones  NaN    4.75N  #3A2115  ",
      "text/html": "<div>\n<style scoped>\n    .dataframe tbody tr th:only-of-type {\n        vertical-align: middle;\n    }\n\n    .dataframe tbody tr th {\n        vertical-align: top;\n    }\n\n    .dataframe thead th {\n        text-align: right;\n    }\n</style>\n<table border=\"1\" class=\"dataframe\">\n  <thead>\n    <tr style=\"text-align: right;\">\n      <th></th>\n      <th>brand</th>\n      <th>product</th>\n      <th>description</th>\n      <th>name</th>\n      <th>specific</th>\n      <th>hex</th>\n    </tr>\n  </thead>\n  <tbody>\n    <tr>\n      <th>4252</th>\n      <td>beautyblender</td>\n      <td>Bounce™ Liquid Whip Long Wear Foundation</td>\n      <td>1.00 Cool very light with cool undertones</td>\n      <td>NaN</td>\n      <td>1.00C</td>\n      <td>#FCF0E5</td>\n    </tr>\n    <tr>\n      <th>4253</th>\n      <td>beautyblender</td>\n      <td>Bounce™ Liquid Whip Long Wear Foundation</td>\n      <td>1.10 Neutral very light with neutral undertones</td>\n      <td>NaN</td>\n      <td>1.10N</td>\n      <td>#FCEDD8</td>\n    </tr>\n    <tr>\n      <th>4254</th>\n      <td>beautyblender</td>\n      <td>Bounce™ Liquid Whip Long Wear Foundation</td>\n      <td>1.20 Cool light with cool undertones</td>\n      <td>NaN</td>\n      <td>1.20C</td>\n      <td>#FBE6D6</td>\n    </tr>\n    <tr>\n      <th>4255</th>\n      <td>beautyblender</td>\n      <td>Bounce™ Liquid Whip Long Wear Foundation</td>\n      <td>1.30 Warm light with warm undertones</td>\n      <td>NaN</td>\n      <td>1.30W</td>\n      <td>#F5DBC1</td>\n    </tr>\n    <tr>\n      <th>4256</th>\n      <td>beautyblender</td>\n      <td>Bounce™ Liquid Whip Long Wear Foundation</td>\n      <td>1.40 Neutral light with neutral undertones</td>\n      <td>NaN</td>\n      <td>1.40N</td>\n      <td>#ECCCAF</td>\n    </tr>\n    <tr>\n      <th>4257</th>\n      <td>beautyblender</td>\n      <td>Bounce™ Liquid Whip Long Wear Foundation</td>\n      <td>1.50 Cool light with cool undertones</td>\n      <td>NaN</td>\n      <td>1.50C</td>\n      <td>#F0C3A6</td>\n    </tr>\n    <tr>\n      <th>4258</th>\n      <td>beautyblender</td>\n      <td>Bounce™ Liquid Whip Long Wear Foundation</td>\n      <td>1.60 Warm light with warm undertones</td>\n      <td>NaN</td>\n      <td>1.60W</td>\n      <td>#EEC5A2</td>\n    </tr>\n    <tr>\n      <th>4259</th>\n      <td>beautyblender</td>\n      <td>Bounce™ Liquid Whip Long Wear Foundation</td>\n      <td>2.10 Cool medium with cool undertones</td>\n      <td>NaN</td>\n      <td>2.10C</td>\n      <td>#E3C2A8</td>\n    </tr>\n    <tr>\n      <th>4260</th>\n      <td>beautyblender</td>\n      <td>Bounce™ Liquid Whip Long Wear Foundation</td>\n      <td>2.20 Neutral/Olive  medium with neutral olive ...</td>\n      <td>NaN</td>\n      <td>2.20N/O</td>\n      <td>#ECC49B</td>\n    </tr>\n    <tr>\n      <th>4261</th>\n      <td>beautyblender</td>\n      <td>Bounce™ Liquid Whip Long Wear Foundation</td>\n      <td>2.30 Warm medium with warm undertones</td>\n      <td>NaN</td>\n      <td>2.30W</td>\n      <td>#ECC49B</td>\n    </tr>\n    <tr>\n      <th>4262</th>\n      <td>beautyblender</td>\n      <td>Bounce™ Liquid Whip Long Wear Foundation</td>\n      <td>2.40 Neutral/Olive  medium with neutral olive ...</td>\n      <td>NaN</td>\n      <td>2.40N/O</td>\n      <td>#E2C099</td>\n    </tr>\n    <tr>\n      <th>4263</th>\n      <td>beautyblender</td>\n      <td>Bounce™ Liquid Whip Long Wear Foundation</td>\n      <td>2.50 Neutral medium with neutral undertones</td>\n      <td>NaN</td>\n      <td>2.50N</td>\n      <td>#DCB290</td>\n    </tr>\n    <tr>\n      <th>4264</th>\n      <td>beautyblender</td>\n      <td>Bounce™ Liquid Whip Long Wear Foundation</td>\n      <td>3.10 Cool light tan with cool undertones</td>\n      <td>NaN</td>\n      <td>3.10C</td>\n      <td>#ECC09E</td>\n    </tr>\n    <tr>\n      <th>4265</th>\n      <td>beautyblender</td>\n      <td>Bounce™ Liquid Whip Long Wear Foundation</td>\n      <td>3.15 Cool light tan with cool undertones</td>\n      <td>NaN</td>\n      <td>3.15C</td>\n      <td>#F0C2A9</td>\n    </tr>\n    <tr>\n      <th>4266</th>\n      <td>beautyblender</td>\n      <td>Bounce™ Liquid Whip Long Wear Foundation</td>\n      <td>3.20 Warm light tan with warm  undertones</td>\n      <td>NaN</td>\n      <td>3.20W</td>\n      <td>#E8B77D</td>\n    </tr>\n    <tr>\n      <th>4267</th>\n      <td>beautyblender</td>\n      <td>Bounce™ Liquid Whip Long Wear Foundation</td>\n      <td>3.25 Neutral light tan with neutral undertones</td>\n      <td>NaN</td>\n      <td>3.25N</td>\n      <td>#E4B488</td>\n    </tr>\n    <tr>\n      <th>4268</th>\n      <td>beautyblender</td>\n      <td>Bounce™ Liquid Whip Long Wear Foundation</td>\n      <td>3.30 Warm/Olive tan with warm olive undertones</td>\n      <td>NaN</td>\n      <td>3.30W/O</td>\n      <td>#E8B172</td>\n    </tr>\n    <tr>\n      <th>4269</th>\n      <td>beautyblender</td>\n      <td>Bounce™ Liquid Whip Long Wear Foundation</td>\n      <td>3.35 Warm tan with warm undertones</td>\n      <td>NaN</td>\n      <td>3.35W</td>\n      <td>#D8A776</td>\n    </tr>\n    <tr>\n      <th>4270</th>\n      <td>beautyblender</td>\n      <td>Bounce™ Liquid Whip Long Wear Foundation</td>\n      <td>3.40 Warm tan with warm undertones</td>\n      <td>NaN</td>\n      <td>3.40W</td>\n      <td>#D9A176</td>\n    </tr>\n    <tr>\n      <th>4271</th>\n      <td>beautyblender</td>\n      <td>Bounce™ Liquid Whip Long Wear Foundation</td>\n      <td>3.45 Neutral tan with neutral undertones</td>\n      <td>NaN</td>\n      <td>3.45N</td>\n      <td>#D9A176</td>\n    </tr>\n    <tr>\n      <th>4272</th>\n      <td>beautyblender</td>\n      <td>Bounce™ Liquid Whip Long Wear Foundation</td>\n      <td>3.50 Warm tan with warm undertones</td>\n      <td>NaN</td>\n      <td>3.50W</td>\n      <td>#E2B07E</td>\n    </tr>\n    <tr>\n      <th>4273</th>\n      <td>beautyblender</td>\n      <td>Bounce™ Liquid Whip Long Wear Foundation</td>\n      <td>3.55 Neutral/Olive tan with neutral olive unde...</td>\n      <td>NaN</td>\n      <td>3.55N/O</td>\n      <td>#D3A778</td>\n    </tr>\n    <tr>\n      <th>4274</th>\n      <td>beautyblender</td>\n      <td>Bounce™ Liquid Whip Long Wear Foundation</td>\n      <td>3.60 Warm tan with warm undertones</td>\n      <td>NaN</td>\n      <td>3.60W</td>\n      <td>#E4AA74</td>\n    </tr>\n    <tr>\n      <th>4275</th>\n      <td>beautyblender</td>\n      <td>Bounce™ Liquid Whip Long Wear Foundation</td>\n      <td>3.65 Neutral very tan with neutral undertones</td>\n      <td>NaN</td>\n      <td>3.65N</td>\n      <td>#D29D74</td>\n    </tr>\n    <tr>\n      <th>4276</th>\n      <td>beautyblender</td>\n      <td>Bounce™ Liquid Whip Long Wear Foundation</td>\n      <td>3.70 Warm/Olive very tan with warm olive under...</td>\n      <td>NaN</td>\n      <td>3.70W/O</td>\n      <td>#CE9160</td>\n    </tr>\n    <tr>\n      <th>4277</th>\n      <td>beautyblender</td>\n      <td>Bounce™ Liquid Whip Long Wear Foundation</td>\n      <td>3.75 Warm very tan with warm undertones</td>\n      <td>NaN</td>\n      <td>3.75W</td>\n      <td>#DA9762</td>\n    </tr>\n    <tr>\n      <th>4278</th>\n      <td>beautyblender</td>\n      <td>Bounce™ Liquid Whip Long Wear Foundation</td>\n      <td>4.00 Neutral/Olive deep neutral with warm oliv...</td>\n      <td>NaN</td>\n      <td>4.00N/O</td>\n      <td>#AE7955</td>\n    </tr>\n    <tr>\n      <th>4279</th>\n      <td>beautyblender</td>\n      <td>Bounce™ Liquid Whip Long Wear Foundation</td>\n      <td>4.05 Warm deep with warm undertones</td>\n      <td>NaN</td>\n      <td>4.05W</td>\n      <td>#B9773D</td>\n    </tr>\n    <tr>\n      <th>4280</th>\n      <td>beautyblender</td>\n      <td>Bounce™ Liquid Whip Long Wear Foundation</td>\n      <td>4.10 Cool/Olive deep with cool olive undertones</td>\n      <td>NaN</td>\n      <td>4.10C/O</td>\n      <td>#A8723D</td>\n    </tr>\n    <tr>\n      <th>4281</th>\n      <td>beautyblender</td>\n      <td>Bounce™ Liquid Whip Long Wear Foundation</td>\n      <td>4.15 Warm deep golden with rosy undertones</td>\n      <td>NaN</td>\n      <td>4.15W</td>\n      <td>#A46B3C</td>\n    </tr>\n    <tr>\n      <th>4282</th>\n      <td>beautyblender</td>\n      <td>Bounce™ Liquid Whip Long Wear Foundation</td>\n      <td>4.20 Warm deep with warm undertones</td>\n      <td>NaN</td>\n      <td>4.20W</td>\n      <td>#906131</td>\n    </tr>\n    <tr>\n      <th>4283</th>\n      <td>beautyblender</td>\n      <td>Bounce™ Liquid Whip Long Wear Foundation</td>\n      <td>4.30 Warm deep with warm undertones</td>\n      <td>NaN</td>\n      <td>4.30W</td>\n      <td>#A06C38</td>\n    </tr>\n    <tr>\n      <th>4284</th>\n      <td>beautyblender</td>\n      <td>Bounce™ Liquid Whip Long Wear Foundation</td>\n      <td>4.35 Warm deep with warm undertones</td>\n      <td>NaN</td>\n      <td>4.35W</td>\n      <td>#905A2E</td>\n    </tr>\n    <tr>\n      <th>4285</th>\n      <td>beautyblender</td>\n      <td>Bounce™ Liquid Whip Long Wear Foundation</td>\n      <td>4.40 Neutral deep with neutral undertones</td>\n      <td>NaN</td>\n      <td>4.40N</td>\n      <td>#73491E</td>\n    </tr>\n    <tr>\n      <th>4286</th>\n      <td>beautyblender</td>\n      <td>Bounce™ Liquid Whip Long Wear Foundation</td>\n      <td>4.45 Neutral deep with warm undertones</td>\n      <td>NaN</td>\n      <td>4.45N</td>\n      <td>#6B3E0D</td>\n    </tr>\n    <tr>\n      <th>4287</th>\n      <td>beautyblender</td>\n      <td>Bounce™ Liquid Whip Long Wear Foundation</td>\n      <td>4.50 Warm deep with warm undertones</td>\n      <td>NaN</td>\n      <td>4.50W</td>\n      <td>#723C1B</td>\n    </tr>\n    <tr>\n      <th>4288</th>\n      <td>beautyblender</td>\n      <td>Bounce™ Liquid Whip Long Wear Foundation</td>\n      <td>4.55 Cool very deep with cool undertones</td>\n      <td>NaN</td>\n      <td>4.55C</td>\n      <td>#6F3A1E</td>\n    </tr>\n    <tr>\n      <th>4289</th>\n      <td>beautyblender</td>\n      <td>Bounce™ Liquid Whip Long Wear Foundation</td>\n      <td>4.60 Neutral very deep with neutral undertones</td>\n      <td>NaN</td>\n      <td>4.60N</td>\n      <td>#532E15</td>\n    </tr>\n    <tr>\n      <th>4290</th>\n      <td>beautyblender</td>\n      <td>Bounce™ Liquid Whip Long Wear Foundation</td>\n      <td>4.70 Cool very deep with cool undertones</td>\n      <td>NaN</td>\n      <td>4.70C</td>\n      <td>#542911</td>\n    </tr>\n    <tr>\n      <th>4291</th>\n      <td>beautyblender</td>\n      <td>Bounce™ Liquid Whip Long Wear Foundation</td>\n      <td>4.75 Neutral very deep with neutral undertones</td>\n      <td>NaN</td>\n      <td>4.75N</td>\n      <td>#3A2115</td>\n    </tr>\n  </tbody>\n</table>\n</div>"
     },
     "execution_count": 31,
     "metadata": {},
     "output_type": "execute_result"
    }
   ],
   "source": [
    "all_shades[all_shades['brand']=='beautyblender']\n"
   ],
   "metadata": {
    "collapsed": false,
    "ExecuteTime": {
     "end_time": "2023-11-21T02:07:55.069657800Z",
     "start_time": "2023-11-21T02:07:55.036931700Z"
    }
   }
  },
  {
   "cell_type": "code",
   "execution_count": null,
   "outputs": [],
   "source": [],
   "metadata": {
    "collapsed": false
   }
  },
  {
   "cell_type": "code",
   "execution_count": null,
   "outputs": [],
   "source": [
    "# # Get unique values of interested columns\n",
    "# cols = []\n",
    "# pd.unique(df[cols].values.ravel('k'))  # argument 'k' lists the values in the order of the cols "
   ],
   "metadata": {
    "collapsed": false
   }
  },
  {
   "cell_type": "code",
   "source": [
    "# # Create custom function\n",
    "# # Google style docstrings\n",
    "# # https://sphinxcontrib-napoleon.readthedocs.io/en/latest/example_google.html\n",
    "# def custom_function(param1: int, param2: str) -> bool:\n",
    "#     \"\"\"Example function with PEP 484 type annotations.\n",
    "\n",
    "#     Args:\n",
    "#         param1: The first parameter.\n",
    "#         param2: The second parameter.\n",
    "\n",
    "#     Returns:\n",
    "#         The return value. True for success, False otherwise.\n",
    "\n",
    "#     \"\"\""
   ],
   "metadata": {
    "cell_id": "144d517ea9f14287a8af6f0342df5d5c",
    "source_hash": "7eb0a4cf",
    "execution_start": 1684082034685,
    "execution_millis": 1,
    "deepnote_to_be_reexecuted": false,
    "deepnote_cell_type": "code"
   },
   "outputs": [],
   "execution_count": null
  },
  {
   "cell_type": "code",
   "source": [
    "# # Apply function to multiple columns\n",
    "# cols = []\n",
    "# df_updated = df.copy()\n",
    "# df_updated[cols] = df_updated[cols].applymap(custom_function)\n",
    "\n",
    "# # Create new aggregated boolean column\n",
    "# df_updated['bool'] = df_updated[cols].any(axis=1, skipna=False)"
   ],
   "metadata": {
    "cell_id": "abfdcab92e2642d2b3926c8d32b06a27",
    "source_hash": "2f4fd46f",
    "execution_start": 1684082034685,
    "execution_millis": 1,
    "deepnote_to_be_reexecuted": false,
    "deepnote_cell_type": "code"
   },
   "outputs": [],
   "execution_count": null
  },
  {
   "cell_type": "markdown",
   "source": [
    "---"
   ],
   "metadata": {
    "cell_id": "0aa6b72e2b54435faeb0d3e59a718144",
    "deepnote_cell_type": "markdown"
   }
  },
  {
   "cell_type": "markdown",
   "source": [
    "# 4"
   ],
   "metadata": {
    "cell_id": "bf6fd640b9fe4be49dac37997978a636",
    "deepnote_cell_type": "markdown"
   }
  },
  {
   "cell_type": "markdown",
   "source": [
    "## Data Analysis"
   ],
   "metadata": {
    "cell_id": "04c62bb80ece4a5f905f42c5ff5fe035",
    "deepnote_cell_type": "markdown"
   }
  },
  {
   "cell_type": "markdown",
   "source": [
    "Here is where your analysis begins. You can add different sections based on your project goals."
   ],
   "metadata": {
    "cell_id": "af4161bba1184c54ae5e01e0e38e1be4",
    "deepnote_cell_type": "markdown"
   }
  },
  {
   "cell_type": "markdown",
   "source": [
    "### Exploring `Column Name`"
   ],
   "metadata": {
    "cell_id": "d33995822de34fc1bd31fce802ec9512",
    "deepnote_cell_type": "markdown"
   }
  },
  {
   "cell_type": "code",
   "source": [
    "# example plot\n",
    "df = pd.DataFrame({'values': [1, 2, 3, 4, 5],\n",
    "                   'hex_colors': ['#FF0000', '#00FF00', '#0000FF', '#FFFF00', '#FF00FF']})\n",
    "fig = px.histogram(df, x='values', color='hex_colors')\n",
    "fig.show()\n"
   ],
   "metadata": {
    "cell_id": "a0799ba8c0e442b781527eb0245304ab",
    "source_hash": "9ecaa010",
    "execution_start": 1684082034685,
    "execution_millis": 1,
    "deepnote_to_be_reexecuted": false,
    "deepnote_cell_type": "code"
   },
   "outputs": [],
   "execution_count": null
  },
  {
   "cell_type": "markdown",
   "source": [
    "**Observations**\n",
    "- Ob 1\n",
    "- Ob 2\n",
    "- Ob 3"
   ],
   "metadata": {
    "cell_id": "519d71f9a0c94ae3b52d04713680e2d0",
    "deepnote_cell_type": "markdown"
   }
  },
  {
   "cell_type": "markdown",
   "source": [
    "---"
   ],
   "metadata": {
    "cell_id": "9ed14056610a4431a33549f334ca4373",
    "deepnote_cell_type": "markdown"
   }
  },
  {
   "cell_type": "markdown",
   "source": [
    "# 5"
   ],
   "metadata": {
    "cell_id": "363f7d89c38d4329981494d8e46aa259",
    "deepnote_cell_type": "markdown"
   }
  },
  {
   "cell_type": "markdown",
   "source": [
    "## Conclusion\n",
    "\n",
    "### Insights \n",
    "State the insights/outcomes of your project or notebook."
   ],
   "metadata": {
    "cell_id": "c50a92f03c394aa69cc435090e3f6f56",
    "deepnote_cell_type": "markdown"
   }
  },
  {
   "cell_type": "markdown",
   "source": [
    "### Suggestions\n",
    "\n",
    "Make suggestions based on insights."
   ],
   "metadata": {
    "cell_id": "49f7130037184208ae6b4fe2ec9a9268",
    "deepnote_cell_type": "markdown"
   }
  },
  {
   "cell_type": "markdown",
   "source": [
    "### Possible Next Steps\n",
    "Areas to expand on:\n",
    "- (if there is any)"
   ],
   "metadata": {
    "cell_id": "727f036ec033469780c596e0b1ddbd82",
    "deepnote_cell_type": "markdown"
   }
  },
  {
   "cell_type": "markdown",
   "source": [
    "---"
   ],
   "metadata": {
    "cell_id": "44a747a8bb7d4e8faa57eb77012199c0",
    "deepnote_cell_type": "markdown"
   }
  },
  {
   "cell_type": "markdown",
   "source": [
    "# 6"
   ],
   "metadata": {
    "cell_id": "dd7702901c1249efb97b7686138360a1",
    "deepnote_cell_type": "markdown"
   }
  },
  {
   "cell_type": "markdown",
   "source": [
    "## Epilogue\n",
    "\n",
    "### References\n",
    "\n",
    "This is how we use inline citation[<sup id=\"fn1-back\">[1]</sup>](#fn1).\n",
    "\n",
    "[<span id=\"fn1\">1.</span>](#fn1-back) _Author (date)._ Title. Available at: https://website.com (Accessed: Date). \n",
    "\n",
    "> Use [https://www.citethisforme.com/](https://www.citethisforme.com/) to create citations."
   ],
   "metadata": {
    "cell_id": "3cfda3e06f4247cd810179189b9c4a00",
    "deepnote_cell_type": "markdown"
   }
  },
  {
   "cell_type": "markdown",
   "source": [
    "### Versioning\n",
    "Notebook and insights by (author).\n",
    "- Version: 1.5.0\n",
    "- Date: 2023-05-15"
   ],
   "metadata": {
    "cell_id": "ebb51cba0a4846cd9056b8da1caced2b",
    "deepnote_cell_type": "markdown"
   }
  },
  {
   "cell_type": "markdown",
   "source": [
    "<a style='text-decoration:none;line-height:16px;display:flex;color:#5B5B62;padding:10px;justify-content:end;' href='https://deepnote.com?utm_source=created-in-deepnote-cell&projectId=b689e16b-e36c-4f8c-b17a-b3e876352669' target=\"_blank\">\n",
    "<img alt='Created in deepnote.com' style='display:inline;max-height:16px;margin:0px;margin-right:7.5px;' src='data:image/svg+xml;base64,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' > </img>\n",
    "Created in <span style='font-weight:600;margin-left:4px;'>Deepnote</span></a>"
   ],
   "metadata": {
    "created_in_deepnote_cell": true,
    "deepnote_cell_type": "markdown"
   }
  }
 ],
 "nbformat": 4,
 "nbformat_minor": 0,
 "metadata": {
  "vscode": {
   "interpreter": {
    "hash": "fafc50dc8a0fe30378212a6e8a815037b6b7ff0aadeb98c480725f88009956fb"
   }
  },
  "deepnote": {},
  "kernelspec": {
   "name": "python3",
   "language": "python",
   "display_name": "base"
  },
  "language_info": {
   "name": "python",
   "version": "3.9.15",
   "mimetype": "text/x-python",
   "file_extension": ".py",
   "pygments_lexer": "ipython3",
   "codemirror_mode": {
    "name": "ipython",
    "version": 3
   },
   "nbconvert_exporter": "python"
  },
  "deepnote_notebook_id": "8d49e53e32e14bc390f58737ab18c268",
  "deepnote_execution_queue": [],
  "deepnote_persisted_session": {
   "createdAt": "2023-04-06T16:20:59.951Z"
  }
 }
}
